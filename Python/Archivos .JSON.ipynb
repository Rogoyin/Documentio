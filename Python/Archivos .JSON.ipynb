{
 "cells": [
  {
   "cell_type": "markdown",
   "metadata": {},
   "source": [
    "### __Introducción__"
   ]
  },
  {
   "cell_type": "markdown",
   "metadata": {},
   "source": [
    "Un archivo __JSON (JavaScript Object Notation)__ es un formato ligero y de texto para el intercambio de datos. Es fácil de leer y escribir para los humanos, y fácil de analizar y generar para las máquinas. "
   ]
  },
  {
   "cell_type": "markdown",
   "metadata": {},
   "source": [
    "Se utiliza comúnmente para almacenar y transmitir datos entre un servidor y una aplicación web, y se ha convertido en un formato estándar para la comunicación entre sistemas en la web."
   ]
  },
  {
   "cell_type": "markdown",
   "metadata": {},
   "source": [
    "Es, en esencia, un formato de texto que se puede leer y escribir en cualquier editor de texto."
   ]
  },
  {
   "cell_type": "markdown",
   "metadata": {},
   "source": [
    "JSON no permite funciones, fechas, o tipos de datos complejos como en algunos otros formatos de serialización. Solo permite datos simples y estructurados."
   ]
  },
  {
   "cell_type": "markdown",
   "metadata": {},
   "source": [
    "##### Tipos de datos"
   ]
  },
  {
   "cell_type": "markdown",
   "metadata": {},
   "source": [
    "Los valores en JSON pueden ser:\n",
    "\n",
    "- __Cadena:__ _\"texto\"_\n",
    "- __Número:__ _123, 45.67_\n",
    "- __Objeto:__ _{ \"clave\": \"valor\" }_\n",
    "- __Array:__ _[ \"valor1\", \"valor2\" ]_\n",
    "- __Booleano:__ _true o false_\n",
    "- __Nulo:__ _null_"
   ]
  },
  {
   "cell_type": "markdown",
   "metadata": {},
   "source": [
    "##### Objetos"
   ]
  },
  {
   "cell_type": "markdown",
   "metadata": {},
   "source": [
    "Representado por pares clave-valor. Se delimita con llaves {}."
   ]
  },
  {
   "cell_type": "code",
   "execution_count": 6,
   "metadata": {},
   "outputs": [
    {
     "data": {
      "text/plain": [
       "{'nombre': 'Juan', 'edad': 30, 'ciudad': 'Buenos Aires'}"
      ]
     },
     "execution_count": 6,
     "metadata": {},
     "output_type": "execute_result"
    }
   ],
   "source": [
    "# {\n",
    "# \"nombre\": \"Juan\",\n",
    "# \"edad\": 30,\n",
    "# \"ciudad\": \"Buenos Aires\"\n",
    "# }"
   ]
  },
  {
   "cell_type": "markdown",
   "metadata": {},
   "source": [
    "##### Array"
   ]
  },
  {
   "cell_type": "markdown",
   "metadata": {},
   "source": [
    "Representado por una lista ordenada de valores. Se delimita con corchetes []."
   ]
  },
  {
   "cell_type": "code",
   "execution_count": null,
   "metadata": {},
   "outputs": [],
   "source": [
    "# [\n",
    "#   \"manzana\",\n",
    "#   \"banana\",\n",
    "#   \"naranja\"\n",
    "# ]"
   ]
  },
  {
   "cell_type": "markdown",
   "metadata": {},
   "source": [
    "### __Uso en programación__"
   ]
  },
  {
   "cell_type": "markdown",
   "metadata": {},
   "source": [
    "JSON es nativo en JavaScript. En Python, se puede importar el módulo __json__ para operar con él."
   ]
  },
  {
   "cell_type": "code",
   "execution_count": 7,
   "metadata": {},
   "outputs": [],
   "source": [
    "import json"
   ]
  },
  {
   "cell_type": "markdown",
   "metadata": {},
   "source": [
    "##### Escribir un objeto de Python en un archivo .JSON"
   ]
  },
  {
   "cell_type": "markdown",
   "metadata": {},
   "source": [
    "Se puede utilizar el método __json.dump()__ para insertar y escribir objetos de Python en un archivo JSON."
   ]
  },
  {
   "cell_type": "code",
   "execution_count": 10,
   "metadata": {},
   "outputs": [],
   "source": [
    "# Datos de Python.\n",
    "\n",
    "Objeto_Python = {\n",
    "    \"Usuarios\": [\n",
    "        {\"Nombre\": \"Ana\", \"Edad\": 25, \"Correo\": \"ana@example.com\"},\n",
    "        {\"Nombre\": \"Luis\", \"Edad\": 32, \"Correo\": \"luis@example.com\"}\n",
    "    ],\n",
    "    \"Activo\": True\n",
    "}"
   ]
  },
  {
   "cell_type": "code",
   "execution_count": 11,
   "metadata": {},
   "outputs": [],
   "source": [
    "# with open('Archivo_JSON.json', 'w') as Archivo_JSON:\n",
    "#    json.dump(Objeto_Python, Archivo_JSON, indent=4)  \n",
    "\n",
    "# 'indent' es opcional, para formato legible.\n",
    "# Se pega el 'Objeto_Python' en 'Archivo_JSON'."
   ]
  },
  {
   "cell_type": "markdown",
   "metadata": {},
   "source": [
    "##### Leer un archivo JSON y convertirlo en un objeto de Python"
   ]
  },
  {
   "cell_type": "markdown",
   "metadata": {},
   "source": [
    "Usando el método __json.load()__."
   ]
  },
  {
   "cell_type": "code",
   "execution_count": null,
   "metadata": {},
   "outputs": [],
   "source": [
    "# with open('Archivo.json', 'r') as Archivo:\n",
    "#    Datos_JSON = json.load(Archivo)\n",
    "#    print(Datos_JSON)"
   ]
  },
  {
   "cell_type": "markdown",
   "metadata": {},
   "source": [
    "##### Convertir objeto de Python a una cadena JSON"
   ]
  },
  {
   "cell_type": "markdown",
   "metadata": {},
   "source": [
    "__json.dumps__ convierte un objeto Python a una cadena JSON. Es útil cuando necesitás trabajar con el JSON en memoria sin escribirlo directamente a un archivo."
   ]
  },
  {
   "cell_type": "code",
   "execution_count": 12,
   "metadata": {},
   "outputs": [],
   "source": [
    "JSON_String = json.dumps(Datos, indent=4)"
   ]
  },
  {
   "cell_type": "markdown",
   "metadata": {},
   "source": [
    "##### Convertir una cadena JSON en objeto de Python"
   ]
  },
  {
   "cell_type": "markdown",
   "metadata": {},
   "source": [
    "Con el método __json.loads(string)__."
   ]
  },
  {
   "cell_type": "code",
   "execution_count": 14,
   "metadata": {},
   "outputs": [],
   "source": [
    "Objeto_Python = json.loads('{\"Nombre\": \"Ana\", \"Edad\": 25}')"
   ]
  },
  {
   "cell_type": "markdown",
   "metadata": {},
   "source": [
    "### __Parámetros útiles__"
   ]
  },
  {
   "cell_type": "markdown",
   "metadata": {},
   "source": [
    "##### indent"
   ]
  },
  {
   "cell_type": "markdown",
   "metadata": {},
   "source": [
    "Especifica la cantidad de espacios para la indentación del JSON resultante. Facilita la lectura de archivos JSON al agregar formato legible."
   ]
  },
  {
   "cell_type": "code",
   "execution_count": null,
   "metadata": {},
   "outputs": [],
   "source": [
    "# json.dump(Objeto_Python, Archivo_JSON, indent=4)"
   ]
  },
  {
   "cell_type": "markdown",
   "metadata": {},
   "source": [
    "##### sort_keys"
   ]
  },
  {
   "cell_type": "markdown",
   "metadata": {},
   "source": [
    " Ordena las claves del diccionario al escribir el JSON. Útil para mantener el orden y hacer más legibles los archivos."
   ]
  },
  {
   "cell_type": "code",
   "execution_count": null,
   "metadata": {},
   "outputs": [],
   "source": [
    "# json.dump(Objeto_Python, Archivo_JSON, indent=4, sort_keys=True)"
   ]
  },
  {
   "cell_type": "markdown",
   "metadata": {},
   "source": [
    "##### separators"
   ]
  },
  {
   "cell_type": "markdown",
   "metadata": {},
   "source": [
    "Controla los caracteres usados para separar los elementos del JSON. Por defecto, utiliza (\", \", \": \"), pero se puede modificar para comprimir el JSON."
   ]
  },
  {
   "cell_type": "code",
   "execution_count": null,
   "metadata": {},
   "outputs": [],
   "source": [
    "# json.dumps(Objeto_Python, separators=(',' , ':'))"
   ]
  },
  {
   "cell_type": "markdown",
   "metadata": {},
   "source": [
    "##### ensure_ascii"
   ]
  },
  {
   "cell_type": "markdown",
   "metadata": {},
   "source": [
    "Si se establece en True, convierte todos los caracteres no ASCII en secuencias de escape. Es útil para mantener compatibilidad con sistemas que no soportan caracteres Unicode."
   ]
  },
  {
   "cell_type": "code",
   "execution_count": null,
   "metadata": {},
   "outputs": [],
   "source": [
    "# json.dumps(Objeto_Python, ensure_ascii=False)"
   ]
  },
  {
   "cell_type": "markdown",
   "metadata": {},
   "source": [
    "##### default"
   ]
  },
  {
   "cell_type": "markdown",
   "metadata": {},
   "source": [
    "Define una función que convierte objetos personalizados a un formato JSON serializable. Esto es útil para objetos complejos que no son serializables por defecto."
   ]
  },
  {
   "cell_type": "code",
   "execution_count": null,
   "metadata": {},
   "outputs": [],
   "source": [
    "# import datetime\n",
    "\n",
    "# def Convertir(Objeto_Python):\n",
    "#     if isinstance(Objeto_Python, datetime.datetime):\n",
    "#         return Objeto_Python.isoformat()\n",
    "#     raise TypeError(\"Tipo no serializable\")\n",
    "\n",
    "# json.dumps({'Fecha': datetime.datetime.now()}, default=Convertir)"
   ]
  },
  {
   "cell_type": "markdown",
   "metadata": {},
   "source": [
    "__Explicación paso a paso:__\n",
    "\n",
    "1. La función 'Convertir' recibe un 'Objeto_Python'.\n",
    "2. Verifica si es una instancia de _datetime.datetime_.\n",
    "3. Si es True, lo conviete a una cadena en formato ISO usando _.isoformat()_.\n",
    "4. Si es False, da error.\n",
    "5. En el json.dump, el primer parámetro es el objeto de Python (un diccionario) que se va a convertir en cadena JSON utilizable en el código.\n",
    "6. Dicho diccionario fija como value el día de hoy con _datetime.datetime.now()_.\n",
    "7. Con _default = Convertir_ se indica al json.dumps() que si se encuentra un objeto que no puede convertir a JSON directamente, como en este caso, ya que es un objeto datetime.datetime, tiene que usar la función convertir para manejar la conversión."
   ]
  }
 ],
 "metadata": {
  "kernelspec": {
   "display_name": "Python 3",
   "language": "python",
   "name": "python3"
  },
  "language_info": {
   "codemirror_mode": {
    "name": "ipython",
    "version": 3
   },
   "file_extension": ".py",
   "mimetype": "text/x-python",
   "name": "python",
   "nbconvert_exporter": "python",
   "pygments_lexer": "ipython3",
   "version": "3.11.9"
  }
 },
 "nbformat": 4,
 "nbformat_minor": 2
}

{
 "cells": [
  {
   "cell_type": "markdown",
   "metadata": {},
   "source": [
    "### __isinstance__"
   ]
  },
  {
   "cell_type": "markdown",
   "metadata": {},
   "source": [
    "__isinstance()__ es una función integrada que se utiliza para verificar si un objeto es de un tipo (o clase) específico."
   ]
  },
  {
   "cell_type": "markdown",
   "metadata": {},
   "source": [
    "Es útil para validar datos y evitar errores en el código al asegurarse de que los objetos sean del tipo correcto antes de realizar operaciones sobre ellos."
   ]
  },
  {
   "cell_type": "code",
   "execution_count": 1,
   "metadata": {},
   "outputs": [],
   "source": [
    "# Ejemplo.\n",
    "\n",
    "x = 10\n",
    "\n",
    "Is_Float = isinstance(x, float)\n",
    "\n",
    "# Is_Float = False"
   ]
  },
  {
   "cell_type": "markdown",
   "metadata": {},
   "source": [
    "### __input__"
   ]
  },
  {
   "cell_type": "markdown",
   "metadata": {},
   "source": [
    "__input()__ es una función integrada que se utiliza para capturar como variable lo que escriba el usuario desde el teclado. Guarda la entrada como una cadena."
   ]
  },
  {
   "cell_type": "markdown",
   "metadata": {},
   "source": [
    "¿Por qué usar input()?\n",
    "\n",
    "- Para capturar datos del usuario interactivo en un programa.\n",
    "- Para pedir al usuario que tome decisiones en tiempo real."
   ]
  },
  {
   "cell_type": "markdown",
   "metadata": {},
   "source": [
    "__Sintaxis básica:__\n",
    "\n",
    "input(prompt)\n",
    "\n",
    "- 'prompt' es un mensaje opcional que se muestra antes de la entrada del usuario."
   ]
  },
  {
   "cell_type": "code",
   "execution_count": 13,
   "metadata": {},
   "outputs": [
    {
     "name": "stdout",
     "output_type": "stream",
     "text": [
      "Hola, Patricio!\n"
     ]
    }
   ],
   "source": [
    "# Ejemplo.\n",
    "\n",
    "Name = input(\"¿Cuál es tu nombre? \")\n",
    "\n",
    "print(f\"Hola, {Name}!\")"
   ]
  },
  {
   "cell_type": "markdown",
   "metadata": {},
   "source": [
    "### __type__"
   ]
  },
  {
   "cell_type": "markdown",
   "metadata": {},
   "source": [
    "__type()__ es una función integrada que devuelve el tipo de un objeto. Es útil para verificar el tipo de datos de una variable o expresión."
   ]
  },
  {
   "cell_type": "code",
   "execution_count": 15,
   "metadata": {},
   "outputs": [],
   "source": [
    "# Ejemplo.\n",
    "\n",
    "x = 10\n",
    "Type = type(x)\n",
    "\n",
    "# Type = <class 'int'>"
   ]
  },
  {
   "cell_type": "markdown",
   "metadata": {},
   "source": [
    "### __map__"
   ]
  },
  {
   "cell_type": "markdown",
   "metadata": {},
   "source": [
    "__map()__ es una función que aplica otra función a todos los elementos de un iterable (como una lista) y devuelve un iterador con los resultados."
   ]
  },
  {
   "cell_type": "markdown",
   "metadata": {},
   "source": [
    "__Sintaxis básica:__\n",
    "\n",
    "map(función, iterable)"
   ]
  },
  {
   "cell_type": "code",
   "execution_count": 16,
   "metadata": {},
   "outputs": [],
   "source": [
    "# Ejemplo.\n",
    "\n",
    "def Doble(x):\n",
    "    return x * 2\n",
    "\n",
    "Numeros = [1, 2, 3, 4]\n",
    "Dobles = list(map(Doble, Numeros))\n",
    "\n",
    "# Dobles = [1, 4, 9, 16]"
   ]
  },
  {
   "cell_type": "markdown",
   "metadata": {},
   "source": [
    "### __filter__"
   ]
  },
  {
   "cell_type": "markdown",
   "metadata": {},
   "source": [
    "__filter()__ es una función que devuelve un iterador que contiene solo los elementos del iterable que cumplen una condición definida por una función.\n",
    "\n",
    "Es decir, verifica que cada elemento cumpla o no una condición. Los que no la cumplen, ¡AFUERA! En otras palabras, borra todos los False y deja los True de un iterable."
   ]
  },
  {
   "cell_type": "markdown",
   "metadata": {},
   "source": [
    "__Sintaxis básica:__\n",
    "\n",
    "filter(función, iterable)"
   ]
  },
  {
   "cell_type": "code",
   "execution_count": 17,
   "metadata": {},
   "outputs": [],
   "source": [
    "# Ejemplo.\n",
    "\n",
    "def Es_Par(x):\n",
    "    return x % 2 == 0\n",
    "\n",
    "Numeros = [1, 2, 3, 4, 5, 6]\n",
    "Pares = list(filter(Es_Par, Numeros))\n",
    "\n",
    "# Pares = [2, 4, 6]"
   ]
  },
  {
   "cell_type": "markdown",
   "metadata": {},
   "source": [
    "### __reduce__"
   ]
  },
  {
   "cell_type": "markdown",
   "metadata": {},
   "source": [
    "__reduce()__ es una función del módulo functools que aplica una función de manera acumulativa a los elementos de un iterable, reduciéndolos a un solo valor."
   ]
  },
  {
   "cell_type": "markdown",
   "metadata": {},
   "source": [
    "__Sintaxis básica:__\n",
    "\n",
    "from functools import reduce\n",
    "\n",
    "reduce(función, iterable)"
   ]
  },
  {
   "cell_type": "code",
   "execution_count": null,
   "metadata": {},
   "outputs": [],
   "source": [
    "# Ejemplo.\n",
    "from functools import reduce\n",
    "\n",
    "def Multiplicar(x, y):\n",
    "    return x * y\n",
    "\n",
    "Numeros = [1, 2, 3, 4]\n",
    "Resultado = reduce(Multiplicar, Numeros)\n",
    "\n",
    "# Resultado = 24 (1*2*3*4)"
   ]
  },
  {
   "cell_type": "markdown",
   "metadata": {},
   "source": [
    "### __zip__"
   ]
  },
  {
   "cell_type": "markdown",
   "metadata": {},
   "source": [
    "__zip()__ es una función que toma dos o más iterables y devuelve un iterador de tuplas, donde cada tupla contiene elementos correspondientes de cada iterable.\n",
    "\n",
    "En criollo: itera sobre cada iterable y toma el primer valor de cada uno, formando una tupla con todos los primeros valores, lo mismo con el segundo, y así y así, dando como resultado una lista de tuplas."
   ]
  },
  {
   "cell_type": "code",
   "execution_count": 18,
   "metadata": {},
   "outputs": [],
   "source": [
    "# Ejemplo.\n",
    "Names = ['Ana', 'Juan', 'Pedro']\n",
    "Ages = [25, 30, 35]\n",
    "\n",
    "Combinated = list(zip(Names, Ages))\n",
    "\n",
    "# Combinated = [('Ana', 25), ('Juan', 30), ('Pedro', 35)]"
   ]
  },
  {
   "cell_type": "markdown",
   "metadata": {},
   "source": [
    "### __enumerate__"
   ]
  },
  {
   "cell_type": "markdown",
   "metadata": {},
   "source": [
    "__enumerate()__ es una función que agrega un contador a un iterable y devuelve un iterador de tuplas, donde cada tupla contiene un índice y el elemento correspondiente del iterable."
   ]
  },
  {
   "cell_type": "markdown",
   "metadata": {},
   "source": [
    "Sirve para mejorar la legibilidad del código en lugar de manejar contadores manualmente."
   ]
  },
  {
   "cell_type": "code",
   "execution_count": 21,
   "metadata": {},
   "outputs": [],
   "source": [
    "# Ejemplo.\n",
    "List = ['a', 'b', 'c']\n",
    "Final_List = []\n",
    "\n",
    "for Index, Value in enumerate(List, start=2):\n",
    "    Final_List.append((Index, Value))\n",
    "\n",
    "# Final_List = [(2, 'a'), (3, 'b'), (4, 'c')]\n",
    "# start=2: Empieza por el 2"
   ]
  },
  {
   "cell_type": "markdown",
   "metadata": {},
   "source": [
    "### __sorted__"
   ]
  },
  {
   "cell_type": "markdown",
   "metadata": {},
   "source": [
    "__sorted()__ es una función que devuelve una lista ordenada de los elementos de cualquier iterable, sin modificar el original."
   ]
  },
  {
   "cell_type": "markdown",
   "metadata": {},
   "source": [
    "__Sintaxis básica:__\n",
    "\n",
    "sorted(iterable, key=None, reverse=False)\n",
    "\n",
    "- _iterable_ es la colección de datos a ordenar.\n",
    "- _key_ (opcional) es una función que sirve para personalizar el criterio de ordenación.\n",
    "- _reverse_ (opcional) especifica si el orden es descendente (por defecto es False)."
   ]
  },
  {
   "cell_type": "code",
   "execution_count": 22,
   "metadata": {},
   "outputs": [],
   "source": [
    "# Ejemplo.\n",
    "Numeros = [3, 1, 4, 1, 5, 9]\n",
    "Ordenados = sorted(Numeros)\n",
    "\n",
    "# Ordenados = [1, 1, 3, 4, 5, 9]"
   ]
  },
  {
   "cell_type": "markdown",
   "metadata": {},
   "source": [
    "### __open__"
   ]
  },
  {
   "cell_type": "markdown",
   "metadata": {},
   "source": [
    "__open()__ es una función integrada en Python que se utiliza para abrir archivos y trabajar con ellos, permitiendo su lectura, escritura o modificación. "
   ]
  },
  {
   "cell_type": "markdown",
   "metadata": {},
   "source": [
    "open abre un archivo y devuelve un objeto de archivo (file object). Este objeto proporciona métodos como .read(), .write(), y .close() para realizar diversas operaciones."
   ]
  },
  {
   "cell_type": "markdown",
   "metadata": {},
   "source": [
    "__Sintaxis básica:__\n",
    "\n",
    "open(file, mode='r', buffering=-1, encoding=None, errors=None, newline=None, closefd=True, opener=None)\n",
    "\n",
    "1. __file__. Especifica el nombre del archivo a abrir. Puede incluir una ruta si el archivo no está en el directorio actual.\n",
    "\n",
    "2. __mode__. Indica el modo en que se abrirá el archivo. Algunos modos comunes son:\n",
    "    - _'r'_. Leer (por defecto). El archivo debe existir.\n",
    "    - _'w'_. Escribir. Si el archivo existe, se sobrescribirá; si no, se creará.\n",
    "    - _'a'_. Añadir. Escribe al final del archivo sin borrar el contenido existente.\n",
    "    - _'b'_. Modo binario. Se usa junto con otros modos como 'rb' o 'wb'.\n",
    "    - _'t'_. Modo de texto (por defecto). Se usa junto con otros modos como 'rt' o 'wt'.\n",
    "    - _'x'_. Crear un archivo nuevo. Lanza un error si el archivo ya existe.\n",
    "\n",
    "3. __encoding__. Define la codificación para leer o escribir el archivo, como 'utf-8'."
   ]
  },
  {
   "cell_type": "code",
   "execution_count": null,
   "metadata": {},
   "outputs": [],
   "source": [
    "# Leer archivo.\n",
    "\n",
    "# with open('Archivo.txt', 'r') as File:\n",
    "#     Contenido = File.read()"
   ]
  },
  {
   "cell_type": "markdown",
   "metadata": {},
   "source": [
    "Al usar with, open se asegura de que los archivos se cierren automáticamente, evitando fugas de recursos."
   ]
  }
 ],
 "metadata": {
  "kernelspec": {
   "display_name": "Python 3",
   "language": "python",
   "name": "python3"
  },
  "language_info": {
   "codemirror_mode": {
    "name": "ipython",
    "version": 3
   },
   "file_extension": ".py",
   "mimetype": "text/x-python",
   "name": "python",
   "nbconvert_exporter": "python",
   "pygments_lexer": "ipython3",
   "version": "3.11.9"
  }
 },
 "nbformat": 4,
 "nbformat_minor": 2
}

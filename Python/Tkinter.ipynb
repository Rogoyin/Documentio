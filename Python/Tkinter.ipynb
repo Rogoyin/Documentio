{
 "cells": [
  {
   "cell_type": "markdown",
   "metadata": {},
   "source": [
    "### __Introducción__"
   ]
  },
  {
   "cell_type": "markdown",
   "metadata": {},
   "source": [
    "__Tkinter__ es la biblioteca estándar de Python para crear interfaces gráficas de usuario (GUI). Proporciona una serie de widgets (componentes gráficos) que permiten diseñar ventanas, botones, etiquetas, cuadros de texto, entre otros elementos interactivos."
   ]
  },
  {
   "cell_type": "markdown",
   "metadata": {},
   "source": [
    "__Conceptos clave de tkinter.__\n",
    "\n",
    "- _Widget._ Los widgets son componentes gráficos que conforman la interfaz gráfica de una aplicación. Ejemplos de widgets incluyen botones, etiquetas, cuadros de texto y menús.\n",
    "- _Ventana raíz._ Es la ventana principal donde se colocan todos los widgets. Cada aplicación Tkinter comienza con la creación de una ventana raíz.\n",
    "- _Eventos._ En Tkinter, los eventos son acciones que el usuario realiza (como hacer clic en un botón o presionar una tecla). Los eventos se manejan mediante funciones llamadas “manejadores de eventos”.\n",
    "- _Mainloop._ Es el bucle principal que mantiene la ventana abierta y activa. Sin este bucle, la aplicación se cerraría inmediatamente después de ser ejecutada."
   ]
  },
  {
   "cell_type": "code",
   "execution_count": 1,
   "metadata": {},
   "outputs": [],
   "source": [
    "import tkinter as tk"
   ]
  },
  {
   "cell_type": "markdown",
   "metadata": {},
   "source": [
    "##### Crear ventana principal"
   ]
  },
  {
   "cell_type": "code",
   "execution_count": 2,
   "metadata": {},
   "outputs": [],
   "source": [
    "VentanaRaiz = tk.Tk()"
   ]
  },
  {
   "cell_type": "markdown",
   "metadata": {},
   "source": [
    "##### Agregar título a la ventana principal"
   ]
  },
  {
   "cell_type": "code",
   "execution_count": 3,
   "metadata": {},
   "outputs": [],
   "source": [
    "VentanaRaiz.title(\"Título\")"
   ]
  },
  {
   "cell_type": "markdown",
   "metadata": {},
   "source": [
    "##### Tamaño de la ventana principal"
   ]
  },
  {
   "cell_type": "code",
   "execution_count": 4,
   "metadata": {},
   "outputs": [],
   "source": [
    "VentanaRaiz.geometry(\"400x300\")"
   ]
  },
  {
   "cell_type": "markdown",
   "metadata": {},
   "source": [
    "#### Iniciar el bucle de la ventana"
   ]
  },
  {
   "cell_type": "code",
   "execution_count": 5,
   "metadata": {},
   "outputs": [],
   "source": [
    "VentanaRaiz.mainloop()"
   ]
  },
  {
   "cell_type": "markdown",
   "metadata": {},
   "source": [
    "### __Tipos de widgets__"
   ]
  },
  {
   "cell_type": "markdown",
   "metadata": {},
   "source": [
    "##### Etiqueta"
   ]
  },
  {
   "cell_type": "markdown",
   "metadata": {},
   "source": [
    "Una etiqueta se utiliza para mostrar texto o imágenes estáticas en la ventana."
   ]
  },
  {
   "cell_type": "code",
   "execution_count": 6,
   "metadata": {},
   "outputs": [],
   "source": [
    "Etiqueta = tk.Label(VentanaRaiz, text = \"Hola, mundo\")\n",
    "Etiqueta.pack()"
   ]
  },
  {
   "cell_type": "markdown",
   "metadata": {},
   "source": [
    "El widget Label crea una etiqueta con el texto \"Hola, mundo\" y el método pack la coloca dentro de la ventana."
   ]
  },
  {
   "cell_type": "markdown",
   "metadata": {},
   "source": [
    "__Atributos posibles.__\n",
    "\n",
    "- _master_. El padre del widget.<br>\n",
    "- _text_. El texto que se mostrará en la etiqueta.<br>\n",
    "- _image_. Imagen que se mostrará en la etiqueta.<br>\n",
    "- _bg o background_. Color de fondo de la etiqueta.<br>\n",
    "- _fg o foreground_. Color del texto.<br>\n",
    "- _font_. Fuente del texto.<br>\n",
    "- _width_. Ancho de la etiqueta en píxeles.<br>\n",
    "- _height_. Altura de la etiqueta en píxeles.<br>\n",
    "- _anchor_. Posicionamiento del texto (ej., `n`, `s`, `e`, `w`, `center`).<br>\n",
    "- _justify_. Justificación del texto (ej., `left`, `center`, `right`).<br>\n",
    "- _padx_. Espaciado horizontal interno.<br>\n",
    "- _pady_. Espaciado vertical interno.<br>\n",
    "- _borderwidth o bd_. Ancho del borde de la etiqueta.<br>\n",
    "- _relief_. Tipo de relieve de la etiqueta.<br>\n",
    "- _wraplength_. Longitud máxima de línea en píxeles antes de que se envuelva el texto.<br>"
   ]
  },
  {
   "cell_type": "markdown",
   "metadata": {},
   "source": [
    "##### Botón"
   ]
  },
  {
   "cell_type": "markdown",
   "metadata": {},
   "source": [
    "Un botón permite ejecutar una función cuando es presionado."
   ]
  },
  {
   "cell_type": "code",
   "execution_count": 7,
   "metadata": {},
   "outputs": [],
   "source": [
    "def Saludar():\n",
    "    print(\"¡Hola!\")"
   ]
  },
  {
   "cell_type": "code",
   "execution_count": 8,
   "metadata": {},
   "outputs": [],
   "source": [
    "Boton = tk.Button(VentanaRaiz, text=\"Saludar\", command=Saludar)\n",
    "Boton.pack()"
   ]
  },
  {
   "cell_type": "markdown",
   "metadata": {},
   "source": [
    "El botón ejecuta la función Saludar cuando el usuario lo presiona."
   ]
  },
  {
   "cell_type": "markdown",
   "metadata": {},
   "source": [
    "__Atributos posibles.__\n",
    "\n",
    "- _master_. El padre del widget.<br>\n",
    "- _text_. El texto que se mostrará en el botón.<br>\n",
    "- _command_. La función que se ejecutará cuando se haga clic en el botón.<br>\n",
    "- _image_. Imagen que se mostrará en el botón (si se proporciona, se ignora el texto).<br>\n",
    "- _width_. Ancho del botón en píxeles.<br>\n",
    "- _height_. Altura del botón en píxeles.<br>\n",
    "- _bg o background_. Color de fondo del botón.<br>\n",
    "- _fg o foreground_. Color del texto del botón.<br>\n",
    "- _font_. Fuente del texto (ej., `(\"Helvetica\", 12)`).<br>\n",
    "- _state_. Estado del botón, puede ser 'normal', 'active', o 'disabled'.<br>\n",
    "- _padx_. Espaciado horizontal interno.<br>\n",
    "- _pady_. Espaciado vertical interno.<br>\n",
    "- _borderwidth o bd_. Ancho del borde del botón.<br>\n",
    "- _relief_. Tipo de relieve del botón (ej., `flat`, `raised`, `sunken`, `ridge`, `groove`, `solid`).<br>\n",
    "- _highlightbackground_. Color del foco de fondo.<br>\n",
    "- _highlightcolor_. Color del foco.<br>\n",
    "- _highlightthickness_. Grosor del foco.<br>"
   ]
  },
  {
   "cell_type": "markdown",
   "metadata": {},
   "source": [
    "##### Entry"
   ]
  },
  {
   "cell_type": "markdown",
   "metadata": {},
   "source": [
    "Un cuadro de entrada permite al usuario escribir texto."
   ]
  },
  {
   "cell_type": "code",
   "execution_count": 9,
   "metadata": {},
   "outputs": [],
   "source": [
    "EntradaTexto = tk.Entry(VentanaRaiz)\n",
    "EntradaTexto.pack()"
   ]
  },
  {
   "cell_type": "markdown",
   "metadata": {},
   "source": [
    "__Atributos posibles.__\n",
    "\n",
    "- _master_. El padre del widget.<br>\n",
    "- _width_. Ancho de la entrada en caracteres.<br>\n",
    "- _bg o background_. Color de fondo.<br>\n",
    "- _fg o foreground_. Color del texto.<br>\n",
    "- _font_. Fuente del texto.<br>\n",
    "- _show_. Caracter que se mostrará en lugar del texto (ej., para contraseñas).<br>\n",
    "- _state_. Estado de la entrada (`normal`, `readonly`, `disabled`).<br>\n",
    "- _justify_. Justificación del texto (ej., `left`, `center`, `right`).<br>\n",
    "- _validate_. Tipo de validación (ej., `key`, `focus`, `all`).<br>\n",
    "- _validatecommand_. Comando que se ejecutará para la validación.<br>\n",
    "- _insertbackground_. Color del cursor de inserción.<br>\n",
    "- _insertwidth_. Ancho del cursor de inserción.<br>\n",
    "- _readonlybackground_. Color de fondo cuando está en modo solo lectura.<br"
   ]
  },
  {
   "cell_type": "markdown",
   "metadata": {},
   "source": [
    "##### Text"
   ]
  },
  {
   "cell_type": "markdown",
   "metadata": {},
   "source": [
    "Permite ingresar y mostrar grandes cantidades de texto."
   ]
  },
  {
   "cell_type": "code",
   "execution_count": 10,
   "metadata": {},
   "outputs": [],
   "source": [
    "CuadroTexto = tk.Text(VentanaRaiz, height=10, width=30)\n",
    "CuadroTexto.pack()"
   ]
  },
  {
   "cell_type": "markdown",
   "metadata": {},
   "source": [
    "__Parámetros posibles.__\n",
    "\n",
    "- _master_. El padre del widget.<br>\n",
    "- _width_. Ancho del widget en caracteres.<br>\n",
    "- _height_. Altura del widget en líneas.<br>\n",
    "- _bg o background_. Color de fondo.<br>\n",
    "- _fg o foreground_. Color del texto.<br>\n",
    "- _font_. Fuente del texto.<br>\n",
    "- _wrap_. Controla el ajuste del texto (none, char, word).<br>\n",
    "- _padx_. Espaciado horizontal interno.<br>\n",
    "- _pady_. Espaciado vertical interno.<br>\n",
    "- _state_. Estado del widget (normal, disabled).<br>\n",
    "- _cursor_. Tipo de cursor a mostrar cuando está en foco.<br>\n",
    "- _borderwidth o bd_. Ancho del borde.<br>\n",
    "- _relief_. Tipo de relieve.<br>\n"
   ]
  },
  {
   "cell_type": "markdown",
   "metadata": {},
   "source": [
    "##### Checkbutton"
   ]
  },
  {
   "cell_type": "markdown",
   "metadata": {},
   "source": [
    "Un cuadro de verificación permite seleccionar o deseleccionar una opción."
   ]
  },
  {
   "cell_type": "code",
   "execution_count": 11,
   "metadata": {},
   "outputs": [],
   "source": [
    "Check_Or_Not_Check = tk.IntVar()\n",
    "CuadroVerificacion = tk.Checkbutton(VentanaRaiz, text=\"Opción 1\", variable=Check_Or_Not_Check)\n",
    "CuadroVerificacion.pack()"
   ]
  },
  {
   "cell_type": "markdown",
   "metadata": {},
   "source": [
    "El cuadro de verificación puede ser activado o desactivado, y su estado se almacena en una variable (IntVar)."
   ]
  },
  {
   "cell_type": "markdown",
   "metadata": {},
   "source": [
    "__Atributos posibles__\n",
    "\n",
    "- _master_. El padre del widget.<br>\n",
    "- _text_. El texto que se mostrará junto al botón de verificación.<br>\n",
    "- _variable_. Variable asociada que almacena el estado (0 o 1, o cualquier otro valor asignado).<br>\n",
    "- _onvalue_. Valor asignado a la variable cuando está seleccionado.<br>\n",
    "- _offvalue_. Valor asignado a la variable cuando no está seleccionado.<br>\n",
    "- _bg o background_. Color de fondo.<br>\n",
    "- _fg o foreground_. Color del texto.<br>\n",
    "- _font_. Fuente del texto.<br>\n",
    "- _anchor_. Posicionamiento del texto.<br>\n",
    "- _padx_. Espaciado horizontal interno.<br>\n",
    "- _pady_. Espaciado vertical interno.<br>\n",
    "- _command_. Función que se ejecutará cuando se cambie el estado del botón.<br>"
   ]
  },
  {
   "cell_type": "markdown",
   "metadata": {},
   "source": [
    "### __Colocación de widgets__"
   ]
  },
  {
   "cell_type": "markdown",
   "metadata": {},
   "source": [
    "##### Pack"
   ]
  },
  {
   "cell_type": "markdown",
   "metadata": {},
   "source": [
    "Coloca los widgets de manera secuencial, uno después de otro."
   ]
  },
  {
   "cell_type": "code",
   "execution_count": 12,
   "metadata": {},
   "outputs": [],
   "source": [
    "Etiqueta.pack()\n",
    "Boton.pack()"
   ]
  },
  {
   "cell_type": "markdown",
   "metadata": {},
   "source": [
    "##### Grid"
   ]
  },
  {
   "cell_type": "markdown",
   "metadata": {},
   "source": [
    "Organiza los widgets en una cuadrícula. Es útil cuando se necesita precisión en la disposición."
   ]
  },
  {
   "cell_type": "code",
   "execution_count": 13,
   "metadata": {},
   "outputs": [],
   "source": [
    "Etiqueta.grid(row=0, column=0)\n",
    "Boton.grid(row=1, column=0)"
   ]
  },
  {
   "cell_type": "markdown",
   "metadata": {},
   "source": [
    "##### Place"
   ]
  },
  {
   "cell_type": "markdown",
   "metadata": {},
   "source": [
    "Permite colocar los widgets en coordenadas específicas dentro de la ventana."
   ]
  },
  {
   "cell_type": "code",
   "execution_count": 14,
   "metadata": {},
   "outputs": [],
   "source": [
    "Etiqueta.place(x=50, y=100)"
   ]
  },
  {
   "cell_type": "markdown",
   "metadata": {},
   "source": [
    "### __Eventos__"
   ]
  },
  {
   "cell_type": "markdown",
   "metadata": {},
   "source": [
    "En Tkinter, los eventos se manejan mediante funciones que responden a interacciones del usuario."
   ]
  },
  {
   "cell_type": "markdown",
   "metadata": {},
   "source": [
    "##### Click"
   ]
  },
  {
   "cell_type": "markdown",
   "metadata": {},
   "source": [
    "Un ejemplo clásico es el manejo de un clic en un botón. Para hacerlo, se asigna una función a la propiedad command del widget."
   ]
  },
  {
   "cell_type": "code",
   "execution_count": 15,
   "metadata": {},
   "outputs": [],
   "source": [
    "def MostrarMensaje():\n",
    "    print(\"Botón presionado\")\n",
    "\n",
    "Boton = tk.Button(VentanaRaiz, text=\"Presiona aquí\", command=MostrarMensaje)\n",
    "Boton.pack()"
   ]
  },
  {
   "cell_type": "markdown",
   "metadata": {},
   "source": [
    "En este caso, cuando se presiona el botón, la función MostrarMensaje imprime un mensaje en la consola."
   ]
  },
  {
   "cell_type": "markdown",
   "metadata": {},
   "source": [
    "##### Menú"
   ]
  },
  {
   "cell_type": "code",
   "execution_count": 16,
   "metadata": {},
   "outputs": [],
   "source": [
    "import tkinter as tk\n",
    "\n",
    "def FuncionSalir():\n",
    "    VentanaRaiz.quit()\n",
    "\n",
    "# Barra de menú principal.\n",
    "BarraMenu = tk.Menu(VentanaRaiz)\n",
    "VentanaRaiz.config(menu=BarraMenu)\n",
    "\n",
    "# Crear un submenú: Archivo.\n",
    "MenuArchivo = tk.Menu(BarraMenu, tearoff=0)\n",
    "BarraMenu.add_cascade(label=\"Archivo\", menu=MenuArchivo)\n",
    "\n",
    "MenuArchivo.add_command(label=\"Salir\", command=FuncionSalir)\n",
    "\n",
    "# Iniciar el bucle de la ventana\n",
    "VentanaRaiz.mainloop()"
   ]
  },
  {
   "cell_type": "markdown",
   "metadata": {},
   "source": [
    "### __Explorador__"
   ]
  },
  {
   "cell_type": "markdown",
   "metadata": {},
   "source": [
    "##### Seleccionar archivo y obtener path"
   ]
  },
  {
   "cell_type": "markdown",
   "metadata": {},
   "source": [
    "Con el módulo filedialog se puede abrir un cuadro de diálogo que permite seleccionar un archivo."
   ]
  },
  {
   "cell_type": "code",
   "execution_count": null,
   "metadata": {},
   "outputs": [],
   "source": [
    "from tkinter import filedialog, messagebox"
   ]
  },
  {
   "cell_type": "code",
   "execution_count": null,
   "metadata": {},
   "outputs": [],
   "source": [
    "File_Path = filedialog.askopenfilename(title = \"Select a file\")"
   ]
  },
  {
   "cell_type": "markdown",
   "metadata": {},
   "source": [
    "- _parent_. (opcional) La ventana padre.<br>\n",
    "- _title_. Título del cuadro de diálogo.<br>\n",
    "- _filetypes_. Lista de tipos de archivo para mostrar.<br>\n",
    "- _initialdir_. Directorio inicial.<br>\n",
    "- _defaultextension_. Extensión por defecto.<br>\n",
    "- _initialfile_. Nombre de archivo inicial.<br>"
   ]
  },
  {
   "cell_type": "markdown",
   "metadata": {},
   "source": [
    "##### Seleccionar múltiples archivos y obtener paths"
   ]
  },
  {
   "cell_type": "markdown",
   "metadata": {},
   "source": [
    "Abre un cuadro de diálogo para seleccionar múltiples archivos."
   ]
  },
  {
   "cell_type": "code",
   "execution_count": null,
   "metadata": {},
   "outputs": [],
   "source": [
    "File_Path = filedialog.askopenfilenames(title = \"Select files\")"
   ]
  },
  {
   "cell_type": "markdown",
   "metadata": {},
   "source": [
    "- _parent_. (opcional) La ventana padre.<br>\n",
    "- _title_. Título del cuadro de diálogo.<br>\n",
    "- _filetypes_. Lista de tipos de archivo para mostrar.<br>\n",
    "- _initialdir_. Directorio inicial.<br>\n",
    "- _defaultextension_. Extensión por defecto que se utilizará al guardar el archivo.<br>\n",
    "- _initialfile_. Nombre de archivo inicial que se mostrará.<br>"
   ]
  },
  {
   "cell_type": "markdown",
   "metadata": {},
   "source": [
    "##### Guardar un archivo y obtener path"
   ]
  },
  {
   "cell_type": "markdown",
   "metadata": {},
   "source": [
    "Abre un cuadro de diálogo para guardar un archivo."
   ]
  },
  {
   "cell_type": "code",
   "execution_count": null,
   "metadata": {},
   "outputs": [],
   "source": [
    "File_Saved_Path = filedialog.asksaveasfilename(title = \"Save file\")"
   ]
  },
  {
   "cell_type": "markdown",
   "metadata": {},
   "source": [
    "- _parent_. (opcional) La ventana padre.<br>\n",
    "- _title_. Título del cuadro de diálogo.<br>\n",
    "- _filetypes_. Lista de tipos de archivo para mostrar.<br>\n",
    "- _initialdir_. Directorio inicial.<br>\n",
    "- _defaultextension_. Extensión por defecto que se utilizará al guardar el archivo.<br>\n",
    "- _initialfile_. Nombre de archivo inicial que se mostrará.<br>"
   ]
  },
  {
   "cell_type": "markdown",
   "metadata": {},
   "source": [
    "##### Seleccionar un directorio y obtener path"
   ]
  },
  {
   "cell_type": "markdown",
   "metadata": {},
   "source": [
    "Abre un cuadro de diálogo para seleccionar un directorio."
   ]
  },
  {
   "cell_type": "code",
   "execution_count": null,
   "metadata": {},
   "outputs": [],
   "source": [
    "File_Directory = filedialog.askdirectory(title = \"Select directory\")"
   ]
  },
  {
   "cell_type": "markdown",
   "metadata": {},
   "source": [
    "- _parent_. (opcional) La ventana padre.<br>\n",
    "- _title_. Título del cuadro de diálogo.<br>\n",
    "- _mustexist_. Si se establece en `True`, el directorio seleccionado debe existir (por defecto es `False`).<br>\n",
    "- _initialdir_. Directorio inicial.<br>"
   ]
  },
  {
   "cell_type": "markdown",
   "metadata": {},
   "source": [
    "##### Seleccionar archivo y obtenerlo"
   ]
  },
  {
   "cell_type": "markdown",
   "metadata": {},
   "source": [
    "Abre un cuadro de diálogo para abrir un archivo y devuelve un objeto de archivo que se puede leer, escribir y manipular."
   ]
  },
  {
   "cell_type": "code",
   "execution_count": null,
   "metadata": {},
   "outputs": [],
   "source": [
    "File = filedialog.askopenfile(title = \"Select file\")"
   ]
  },
  {
   "cell_type": "markdown",
   "metadata": {},
   "source": [
    "##### Guardar archivo y obtenerlo"
   ]
  },
  {
   "cell_type": "markdown",
   "metadata": {},
   "source": [
    "Abre un cuadro de diálogo para guardar un archivo y devuelve un objeto de archivo que se puede leer, escribir y manipular."
   ]
  },
  {
   "cell_type": "code",
   "execution_count": null,
   "metadata": {},
   "outputs": [],
   "source": [
    "File_Saved = filedialog.asksaveasfile(title = \"Select file\")"
   ]
  },
  {
   "cell_type": "markdown",
   "metadata": {},
   "source": [
    "### __Buenas prácticas__"
   ]
  },
  {
   "cell_type": "markdown",
   "metadata": {},
   "source": [
    "##### Clases"
   ]
  },
  {
   "cell_type": "markdown",
   "metadata": {},
   "source": [
    "Organizá tu código utilizando clases. Esto ayuda a encapsular la lógica y los datos relacionados con la interfaz gráfica. Por ejemplo, creá una clase para cada ventana o panel."
   ]
  },
  {
   "cell_type": "code",
   "execution_count": null,
   "metadata": {},
   "outputs": [],
   "source": [
    "class MainApplication(Tkinter.Tk):\n",
    "    def __init__(self):\n",
    "        super().__init__()\n",
    "        self.title(\"My Application\")\n",
    "        self.geometry(\"800x600\")\n",
    "        # Initialize other components here.\n",
    "\n",
    "if __name__ == \"__main__\":\n",
    "    app = MainApplication()\n",
    "    app.mainloop()"
   ]
  },
  {
   "cell_type": "markdown",
   "metadata": {},
   "source": [
    "##### Frames"
   ]
  },
  {
   "cell_type": "markdown",
   "metadata": {},
   "source": [
    "Utilizá Frame para agrupar widgets relacionados. Esto hace que tu diseño sea más limpio y facilita la gestión de la interfaz."
   ]
  },
  {
   "cell_type": "code",
   "execution_count": null,
   "metadata": {},
   "outputs": [],
   "source": [
    "self.Frame1 = Tkinter.Frame(self)\n",
    "self.Frame1.pack()\n",
    "self.Label1 = Tkinter.Label(self.Frame1, text=\"Label 1\")\n",
    "self.Label1.pack()"
   ]
  },
  {
   "cell_type": "markdown",
   "metadata": {},
   "source": [
    "##### Evitá el uso de variables globales"
   ]
  },
  {
   "cell_type": "markdown",
   "metadata": {},
   "source": [
    "En lugar de utilizar variables globales, utilizá atributos de clase para almacenar el estado y los datos de tu aplicación. Esto mejora la encapsulación."
   ]
  },
  {
   "cell_type": "code",
   "execution_count": null,
   "metadata": {},
   "outputs": [],
   "source": [
    "class MainApplication(Tkinter.Tk):\n",
    "    def __init__(self):\n",
    "        super().__init__()\n",
    "        self.user_input = \"\"\n",
    "\n",
    "    def update_input(self, New_Input):\n",
    "        self.user_input = New_Input"
   ]
  },
  {
   "cell_type": "markdown",
   "metadata": {},
   "source": [
    "##### Diccionarios para widgets"
   ]
  },
  {
   "cell_type": "markdown",
   "metadata": {},
   "source": [
    "Al configurar varios widgets, considerá utilizar un diccionario para mantener las opciones de configuración. Esto mejora la legibilidad."
   ]
  },
  {
   "cell_type": "code",
   "execution_count": null,
   "metadata": {},
   "outputs": [],
   "source": [
    "Button_Options = {\n",
    "    'text': 'Click Me',\n",
    "    'bg': 'blue',\n",
    "    'fg': 'white'\n",
    "}\n",
    "self.Button1 = Tkinter.Button(self, **Button_Options)\n",
    "self.Button1.pack()"
   ]
  },
  {
   "cell_type": "markdown",
   "metadata": {},
   "source": [
    "##### Validación de entrada"
   ]
  },
  {
   "cell_type": "markdown",
   "metadata": {},
   "source": [
    "Siempre validá la entrada del usuario para evitar errores o entradas inesperadas. Podés utilizar _validate_ y _validatecommand_ para las entradas de Entry."
   ]
  },
  {
   "cell_type": "code",
   "execution_count": null,
   "metadata": {},
   "outputs": [],
   "source": [
    "def Validate_Input(User_Input: str) -> bool:\n",
    "    return User_Input.isdigit()         # Example validation.\n",
    "\n",
    "self.Entry1 = Tkinter.Entry(self, validate=\"key\", \n",
    "                           validatecommand=(self.Register(Validate_Input), '%P'))"
   ]
  },
  {
   "cell_type": "markdown",
   "metadata": {},
   "source": [
    "##### Uso de StringVar, IntVar, etc."
   ]
  },
  {
   "cell_type": "markdown",
   "metadata": {},
   "source": [
    "Usá StringVar, IntVar, DoubleVar, y BooleanVar para vincular variables de Python con widgets de Tkinter. Esto permite una actualización automática de los widgets."
   ]
  },
  {
   "cell_type": "code",
   "execution_count": null,
   "metadata": {},
   "outputs": [],
   "source": [
    "self.Input_Var1 = Tkinter.StringVar()\n",
    "self.Entry1 = Tkinter.Entry(self, textvariable=self.Input_Var1)\n",
    "self.Entry1.pack()\n"
   ]
  },
  {
   "cell_type": "markdown",
   "metadata": {},
   "source": []
  },
  {
   "cell_type": "markdown",
   "metadata": {},
   "source": []
  },
  {
   "cell_type": "code",
   "execution_count": null,
   "metadata": {},
   "outputs": [],
   "source": []
  }
 ],
 "metadata": {
  "kernelspec": {
   "display_name": "Python 3",
   "language": "python",
   "name": "python3"
  },
  "language_info": {
   "codemirror_mode": {
    "name": "ipython",
    "version": 3
   },
   "file_extension": ".py",
   "mimetype": "text/x-python",
   "name": "python",
   "nbconvert_exporter": "python",
   "pygments_lexer": "ipython3",
   "version": "3.11.9"
  }
 },
 "nbformat": 4,
 "nbformat_minor": 2
}

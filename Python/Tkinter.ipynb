{
 "cells": [
  {
   "cell_type": "markdown",
   "metadata": {},
   "source": [
    "### __Introducción__"
   ]
  },
  {
   "cell_type": "markdown",
   "metadata": {},
   "source": [
    "__Tkinter__ es la biblioteca estándar de Python para crear interfaces gráficas de usuario (GUI). Proporciona una serie de widgets (componentes gráficos) que permiten diseñar ventanas, botones, etiquetas, cuadros de texto, entre otros elementos interactivos."
   ]
  },
  {
   "cell_type": "markdown",
   "metadata": {},
   "source": [
    "__Conceptos clave de tkinter.__\n",
    "\n",
    "- _Widget._ Los widgets son componentes gráficos que conforman la interfaz gráfica de una aplicación. Ejemplos de widgets incluyen botones, etiquetas, cuadros de texto y menús.\n",
    "- _Ventana raíz._ Es la ventana principal donde se colocan todos los widgets. Cada aplicación Tkinter comienza con la creación de una ventana raíz.\n",
    "- _Eventos._ En Tkinter, los eventos son acciones que el usuario realiza (como hacer clic en un botón o presionar una tecla). Los eventos se manejan mediante funciones llamadas “manejadores de eventos”.\n",
    "- _Mainloop._ Es el bucle principal que mantiene la ventana abierta y activa. Sin este bucle, la aplicación se cerraría inmediatamente después de ser ejecutada."
   ]
  },
  {
   "cell_type": "code",
   "execution_count": 47,
   "metadata": {},
   "outputs": [],
   "source": [
    "import tkinter as tk"
   ]
  },
  {
   "cell_type": "markdown",
   "metadata": {},
   "source": [
    "##### Crear ventana principal"
   ]
  },
  {
   "cell_type": "code",
   "execution_count": 48,
   "metadata": {},
   "outputs": [],
   "source": [
    "VentanaRaiz = tk.Tk()"
   ]
  },
  {
   "cell_type": "markdown",
   "metadata": {},
   "source": [
    "##### Agregar título a la ventana principal"
   ]
  },
  {
   "cell_type": "code",
   "execution_count": 49,
   "metadata": {},
   "outputs": [
    {
     "data": {
      "text/plain": [
       "''"
      ]
     },
     "execution_count": 49,
     "metadata": {},
     "output_type": "execute_result"
    }
   ],
   "source": [
    "VentanaRaiz.title(\"Título\")"
   ]
  },
  {
   "cell_type": "markdown",
   "metadata": {},
   "source": [
    "##### Tamaño de la ventana principal"
   ]
  },
  {
   "cell_type": "code",
   "execution_count": 50,
   "metadata": {},
   "outputs": [
    {
     "data": {
      "text/plain": [
       "''"
      ]
     },
     "execution_count": 50,
     "metadata": {},
     "output_type": "execute_result"
    }
   ],
   "source": [
    "VentanaRaiz.geometry(\"400x300\")"
   ]
  },
  {
   "cell_type": "markdown",
   "metadata": {},
   "source": [
    "#### Iniciar el bucle de la ventana"
   ]
  },
  {
   "cell_type": "code",
   "execution_count": 51,
   "metadata": {},
   "outputs": [],
   "source": [
    "VentanaRaiz.mainloop()"
   ]
  },
  {
   "cell_type": "markdown",
   "metadata": {},
   "source": [
    "### __Tipos de widgets__"
   ]
  },
  {
   "cell_type": "markdown",
   "metadata": {},
   "source": [
    "##### Etiqueta"
   ]
  },
  {
   "cell_type": "markdown",
   "metadata": {},
   "source": [
    "Una etiqueta se utiliza para mostrar texto o imágenes estáticas en la ventana."
   ]
  },
  {
   "cell_type": "code",
   "execution_count": 52,
   "metadata": {},
   "outputs": [],
   "source": [
    "Etiqueta = tk.Label(VentanaRaiz, text=\"Hola, mundo\")\n",
    "Etiqueta.pack()"
   ]
  },
  {
   "cell_type": "markdown",
   "metadata": {},
   "source": [
    "El widget Label crea una etiqueta con el texto \"Hola, mundo\" y el método pack la coloca dentro de la ventana."
   ]
  },
  {
   "cell_type": "markdown",
   "metadata": {},
   "source": [
    "##### Botón"
   ]
  },
  {
   "cell_type": "markdown",
   "metadata": {},
   "source": [
    "Un botón permite ejecutar una función cuando es presionado."
   ]
  },
  {
   "cell_type": "code",
   "execution_count": 53,
   "metadata": {},
   "outputs": [],
   "source": [
    "def Saludar():\n",
    "    print(\"¡Hola!\")"
   ]
  },
  {
   "cell_type": "code",
   "execution_count": 54,
   "metadata": {},
   "outputs": [],
   "source": [
    "Boton = tk.Button(VentanaRaiz, text=\"Saludar\", command=Saludar)\n",
    "Boton.pack()"
   ]
  },
  {
   "cell_type": "markdown",
   "metadata": {},
   "source": [
    "El botón ejecuta la función Saludar cuando el usuario lo presiona."
   ]
  },
  {
   "cell_type": "markdown",
   "metadata": {},
   "source": [
    "##### Entry"
   ]
  },
  {
   "cell_type": "markdown",
   "metadata": {},
   "source": [
    "Un cuadro de entrada permite al usuario escribir texto."
   ]
  },
  {
   "cell_type": "code",
   "execution_count": 55,
   "metadata": {},
   "outputs": [],
   "source": [
    "EntradaTexto = tk.Entry(VentanaRaiz)\n",
    "EntradaTexto.pack()"
   ]
  },
  {
   "cell_type": "markdown",
   "metadata": {},
   "source": [
    "##### Text"
   ]
  },
  {
   "cell_type": "markdown",
   "metadata": {},
   "source": [
    "Permite ingresar y mostrar grandes cantidades de texto."
   ]
  },
  {
   "cell_type": "code",
   "execution_count": 56,
   "metadata": {},
   "outputs": [],
   "source": [
    "CuadroTexto = tk.Text(VentanaRaiz, height=10, width=30)\n",
    "CuadroTexto.pack()"
   ]
  },
  {
   "cell_type": "markdown",
   "metadata": {},
   "source": [
    "##### Checkbutton"
   ]
  },
  {
   "cell_type": "markdown",
   "metadata": {},
   "source": [
    "Un cuadro de verificación permite seleccionar o deseleccionar una opción."
   ]
  },
  {
   "cell_type": "code",
   "execution_count": 57,
   "metadata": {},
   "outputs": [],
   "source": [
    "Check_Or_Not_Check = tk.IntVar()\n",
    "CuadroVerificacion = tk.Checkbutton(VentanaRaiz, text=\"Opción 1\", variable=Check_Or_Not_Check)\n",
    "CuadroVerificacion.pack()"
   ]
  },
  {
   "cell_type": "markdown",
   "metadata": {},
   "source": [
    "El cuadro de verificación puede ser activado o desactivado, y su estado se almacena en una variable (IntVar)."
   ]
  },
  {
   "cell_type": "markdown",
   "metadata": {},
   "source": [
    "### __Colocación de widgets__"
   ]
  },
  {
   "cell_type": "markdown",
   "metadata": {},
   "source": [
    "##### Pack"
   ]
  },
  {
   "cell_type": "markdown",
   "metadata": {},
   "source": [
    "Coloca los widgets de manera secuencial, uno después de otro."
   ]
  },
  {
   "cell_type": "code",
   "execution_count": 59,
   "metadata": {},
   "outputs": [],
   "source": [
    "Etiqueta.pack()\n",
    "Boton.pack()"
   ]
  },
  {
   "cell_type": "markdown",
   "metadata": {},
   "source": [
    "##### Grid"
   ]
  },
  {
   "cell_type": "markdown",
   "metadata": {},
   "source": [
    "Organiza los widgets en una cuadrícula. Es útil cuando se necesita precisión en la disposición."
   ]
  },
  {
   "cell_type": "code",
   "execution_count": 60,
   "metadata": {},
   "outputs": [],
   "source": [
    "Etiqueta.grid(row=0, column=0)\n",
    "Boton.grid(row=1, column=0)"
   ]
  },
  {
   "cell_type": "markdown",
   "metadata": {},
   "source": [
    "##### Place"
   ]
  },
  {
   "cell_type": "markdown",
   "metadata": {},
   "source": [
    "Permite colocar los widgets en coordenadas específicas dentro de la ventana."
   ]
  },
  {
   "cell_type": "code",
   "execution_count": 61,
   "metadata": {},
   "outputs": [],
   "source": [
    "Etiqueta.place(x=50, y=100)"
   ]
  },
  {
   "cell_type": "markdown",
   "metadata": {},
   "source": [
    "### __Eventos__"
   ]
  },
  {
   "cell_type": "markdown",
   "metadata": {},
   "source": [
    "En Tkinter, los eventos se manejan mediante funciones que responden a interacciones del usuario."
   ]
  },
  {
   "cell_type": "markdown",
   "metadata": {},
   "source": [
    "##### Click"
   ]
  },
  {
   "cell_type": "markdown",
   "metadata": {},
   "source": [
    "Un ejemplo clásico es el manejo de un clic en un botón. Para hacerlo, se asigna una función a la propiedad command del widget."
   ]
  },
  {
   "cell_type": "code",
   "execution_count": null,
   "metadata": {},
   "outputs": [],
   "source": [
    "def MostrarMensaje():\n",
    "    print(\"Botón presionado\")\n",
    "\n",
    "Boton = tk.Button(VentanaRaiz, text=\"Presiona aquí\", command=MostrarMensaje)\n",
    "Boton.pack()"
   ]
  },
  {
   "cell_type": "markdown",
   "metadata": {},
   "source": [
    "En este caso, cuando se presiona el botón, la función MostrarMensaje imprime un mensaje en la consola."
   ]
  },
  {
   "cell_type": "markdown",
   "metadata": {},
   "source": [
    "##### Menú"
   ]
  },
  {
   "cell_type": "markdown",
   "metadata": {},
   "source": [
    "Texto"
   ]
  },
  {
   "cell_type": "code",
   "execution_count": 78,
   "metadata": {},
   "outputs": [
    {
     "ename": "",
     "evalue": "",
     "output_type": "error",
     "traceback": [
      "\u001b[1;31mEl kernel se bloqueó al ejecutar código en la celda actual o en una celda anterior. \n",
      "\u001b[1;31mRevise el código de las celdas para identificar una posible causa del error. \n",
      "\u001b[1;31mHaga clic <a href='https://aka.ms/vscodeJupyterKernelCrash'>aquí</a> para obtener más información. \n",
      "\u001b[1;31mVea Jupyter <a href='command:jupyter.viewOutput'>log</a> para obtener más detalles."
     ]
    }
   ],
   "source": [
    "import tkinter as tk\n",
    "\n",
    "def FuncionSalir():\n",
    "    VentanaRaiz.quit()\n",
    "\n",
    "# Barra de menú principal.\n",
    "BarraMenu = tk.Menu(VentanaRaiz)\n",
    "VentanaRaiz.config(menu=BarraMenu)\n",
    "\n",
    "# Crear un submenú: Archivo.\n",
    "MenuArchivo = tk.Menu(BarraMenu, tearoff=0)\n",
    "BarraMenu.add_cascade(label=\"Archivo\", menu=MenuArchivo)\n",
    "\n",
    "MenuArchivo.add_command(label=\"Salir\", command=FuncionSalir)\n",
    "\n",
    "# Iniciar el bucle de la ventana\n",
    "VentanaRaiz.mainloop()"
   ]
  }
 ],
 "metadata": {
  "kernelspec": {
   "display_name": "Python 3",
   "language": "python",
   "name": "python3"
  },
  "language_info": {
   "codemirror_mode": {
    "name": "ipython",
    "version": 3
   },
   "file_extension": ".py",
   "mimetype": "text/x-python",
   "name": "python",
   "nbconvert_exporter": "python",
   "pygments_lexer": "ipython3",
   "version": "3.11.9"
  }
 },
 "nbformat": 4,
 "nbformat_minor": 2
}

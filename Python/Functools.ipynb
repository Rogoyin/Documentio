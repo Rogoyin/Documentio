{
 "cells": [
  {
   "cell_type": "code",
   "execution_count": null,
   "metadata": {},
   "outputs": [],
   "source": [
    "def Name_Function(Parameter: str = 'Value') -> str:\n",
    "    '''\n",
    "    Docstring (optional).\n",
    "    '''\n",
    "\n",
    "    ### Body of function.\n",
    "\n",
    "    return 'Output'"
   ]
  },
  {
   "cell_type": "markdown",
   "metadata": {},
   "source": [
    "- 'Name_Function'. Nombre de la función.\n",
    "- 'Parameter'. Parámetro de la función.\n",
    "- ': str'. Especifica el tipo de dato que debe ser ese parámetro.\n",
    "- '= 'Value''. El valor por defecto del parámetro si no se especifica otro.\n",
    "- '-> str'. Especifica el formato de output de la función.\n",
    "- 'Docstring'. Documentación de la función, útil por si te olvidás cómo era o cómo funciona.\n",
    "- 'return'. Lo que devuelve la función."
   ]
  },
  {
   "cell_type": "markdown",
   "metadata": {},
   "source": [
    "##### *args"
   ]
  },
  {
   "cell_type": "markdown",
   "metadata": {},
   "source": [
    "Si no sabés cuántos argumentos o parámetros se van a pasar, se puede usar *args."
   ]
  },
  {
   "cell_type": "code",
   "execution_count": null,
   "metadata": {},
   "outputs": [],
   "source": [
    "def Name_Function(*Parameters):\n",
    "    return list(Parameters)"
   ]
  },
  {
   "cell_type": "markdown",
   "metadata": {},
   "source": [
    "##### ** kwargs"
   ]
  },
  {
   "cell_type": "markdown",
   "metadata": {},
   "source": [
    "El parámetro **kwargs en Python se usa en las funciones para manejar un número variable de argumentos con nombre (o argumentos clave-valor)."
   ]
  },
  {
   "cell_type": "markdown",
   "metadata": {},
   "source": [
    "Entonces **kwargs transforma en un diccionario a todos los argumentos pasados a la función que no están definidos explícitamente como parámetros."
   ]
  },
  {
   "cell_type": "code",
   "execution_count": 2,
   "metadata": {},
   "outputs": [],
   "source": [
    "def Function(Parameter = 1, **Additional_Parameters):\n",
    "\n",
    "    # Example.\n",
    "    for Key, Value in Additional_Parameters.items():\n",
    "        print(f\"{Key}: {Value}\")"
   ]
  },
  {
   "cell_type": "markdown",
   "metadata": {},
   "source": [
    "##### Funciones anidadas"
   ]
  },
  {
   "cell_type": "markdown",
   "metadata": {},
   "source": [
    "Son útiles en casos más avanzados, como cuando deseas encapsular lógica o hacer un código más modular."
   ]
  },
  {
   "cell_type": "code",
   "execution_count": null,
   "metadata": {},
   "outputs": [],
   "source": [
    "def External_Function(Parameter):\n",
    "    \n",
    "    def Intern_Function():\n",
    "        print(Parameter)\n",
    "    \n",
    "    Intern_Function()"
   ]
  },
  {
   "cell_type": "markdown",
   "metadata": {},
   "source": [
    "Intern_Function puede acceder a las variables de Extern_Function."
   ]
  },
  {
   "cell_type": "markdown",
   "metadata": {},
   "source": [
    "##### Closure"
   ]
  },
  {
   "cell_type": "markdown",
   "metadata": {},
   "source": [
    "Un closure es una función que recuerda el entorno en el que fue creada, es decir, la función anidada \"recuerda\" las variables locales de la función que la contiene incluso después de que la función externa haya finalizado."
   ]
  },
  {
   "cell_type": "code",
   "execution_count": null,
   "metadata": {},
   "outputs": [],
   "source": [
    "def Add(x):\n",
    "    def Sum(y):\n",
    "        return x + y\n",
    "    return Sum\n",
    "\n",
    "Add_Five = Add(5)\n",
    "print(Add_Five(10))  \n",
    "\n",
    "# Resultado: 15"
   ]
  },
  {
   "cell_type": "markdown",
   "metadata": {},
   "source": [
    "La función Add devuelve otra función, Sum. La función Sum recuerda el valor de x (en este caso, 5) incluso después de que Add haya terminado su ejecución. El closure hace que Add_Five sea una nueva función que suma 5 a cualquier número."
   ]
  },
  {
   "cell_type": "markdown",
   "metadata": {},
   "source": [
    "##### Funciones de orden superior"
   ]
  },
  {
   "cell_type": "markdown",
   "metadata": {},
   "source": [
    "En Python, las funciones pueden ser pasadas como argumentos a otras funciones o devueltas como valores. Esto las convierte en funciones de orden superior."
   ]
  },
  {
   "cell_type": "code",
   "execution_count": null,
   "metadata": {},
   "outputs": [],
   "source": [
    "# Definimos una función que puede recibir una función como parámetro.\n",
    "def Apply_Function(Function, Parameter):\n",
    "    return Function(Parameter)"
   ]
  },
  {
   "cell_type": "code",
   "execution_count": null,
   "metadata": {},
   "outputs": [],
   "source": [
    "# Función normal.\n",
    "def Double(x):\n",
    "    return x * 2"
   ]
  },
  {
   "cell_type": "code",
   "execution_count": null,
   "metadata": {},
   "outputs": [],
   "source": [
    "Result = Apply_Function(Double, 4)\n",
    "# Resultado: 8"
   ]
  },
  {
   "cell_type": "markdown",
   "metadata": {},
   "source": [
    "##### Funciones parciales"
   ]
  },
  {
   "cell_type": "markdown",
   "metadata": {},
   "source": [
    "La librería functools permite crear funciones parciales, donde puedes fijar algunos de los argumentos de una función y dejar otros abiertos para cuando se llame en el futuro."
   ]
  },
  {
   "cell_type": "code",
   "execution_count": null,
   "metadata": {},
   "outputs": [],
   "source": [
    "from functools import partial"
   ]
  },
  {
   "cell_type": "code",
   "execution_count": null,
   "metadata": {},
   "outputs": [],
   "source": [
    "# Función normal.\n",
    "def Division(x, y):\n",
    "    return x / y"
   ]
  },
  {
   "cell_type": "code",
   "execution_count": null,
   "metadata": {},
   "outputs": [],
   "source": [
    "# Crear función parcial que divide siempre por 2.\n",
    "Division_By_Two = partial(Division, y = 2)"
   ]
  },
  {
   "cell_type": "code",
   "execution_count": null,
   "metadata": {},
   "outputs": [],
   "source": [
    "# Llamar a Division_By_Two.\n",
    "Division_By_Two(4)\n",
    "\n",
    "# Salida: 2."
   ]
  },
  {
   "cell_type": "markdown",
   "metadata": {},
   "source": [
    "Lo que hace partial es recibir como primer argumento la función original, y luego los parámetros que se van a fijar. De esta forma se crea una función nueva a partir de la otra, solo que con parámetros fijos."
   ]
  }
 ],
 "metadata": {
  "kernelspec": {
   "display_name": "Python 3",
   "language": "python",
   "name": "python3"
  },
  "language_info": {
   "codemirror_mode": {
    "name": "ipython",
    "version": 3
   },
   "file_extension": ".py",
   "mimetype": "text/x-python",
   "name": "python",
   "nbconvert_exporter": "python",
   "pygments_lexer": "ipython3",
   "version": "3.11.9"
  }
 },
 "nbformat": 4,
 "nbformat_minor": 2
}

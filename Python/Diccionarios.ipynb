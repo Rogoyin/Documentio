{
 "cells": [
  {
   "cell_type": "markdown",
   "metadata": {},
   "source": [
    "### __Introducción__"
   ]
  },
  {
   "cell_type": "markdown",
   "metadata": {},
   "source": [
    "Un diccionario Python no es más que una correspondencia entre claves y valores.  La diferencia más notable con las listas es que en un diccionario no es preciso que los índices sean números enteros en un rango determinado, basta con que sean valores de algún tipo inmutable (cadenas, enteros, flotantes).\n"
   ]
  },
  {
   "cell_type": "markdown",
   "metadata": {},
   "source": [
    "##### Crear un diccionario vacío"
   ]
  },
  {
   "cell_type": "code",
   "execution_count": 1,
   "metadata": {},
   "outputs": [],
   "source": [
    "Dictionary = {}"
   ]
  },
  {
   "cell_type": "markdown",
   "metadata": {},
   "source": [
    "##### Crear un diccionario con datos con 'dict"
   ]
  },
  {
   "cell_type": "code",
   "execution_count": 2,
   "metadata": {},
   "outputs": [],
   "source": [
    "Dictionary = dict(Key_1 = \"Value 1\")\n",
    "\n",
    "# La desventaja es que las claves no pueden tener espacios."
   ]
  },
  {
   "cell_type": "markdown",
   "metadata": {},
   "source": [
    "##### Insertar elementos al diccionario"
   ]
  },
  {
   "cell_type": "code",
   "execution_count": 3,
   "metadata": {},
   "outputs": [],
   "source": [
    "Dictionary['Key 1'] = 'Value 1'\n",
    "Dictionary['Key 2'] = 'Value 2'"
   ]
  },
  {
   "cell_type": "markdown",
   "metadata": {},
   "source": [
    "##### Cambiar un elemento del diccionario"
   ]
  },
  {
   "cell_type": "code",
   "execution_count": 4,
   "metadata": {},
   "outputs": [],
   "source": [
    "Dictionary['Key 2'] = 'Other Value 2'"
   ]
  },
  {
   "cell_type": "markdown",
   "metadata": {},
   "source": [
    "### __Consultas__"
   ]
  },
  {
   "cell_type": "markdown",
   "metadata": {},
   "source": [
    "##### Consultar el valor de una clave"
   ]
  },
  {
   "cell_type": "code",
   "execution_count": 258,
   "metadata": {},
   "outputs": [
    {
     "data": {
      "text/plain": [
       "'Value 1'"
      ]
     },
     "execution_count": 258,
     "metadata": {},
     "output_type": "execute_result"
    }
   ],
   "source": [
    "Dictionary['Key 1']"
   ]
  },
  {
   "cell_type": "markdown",
   "metadata": {},
   "source": [
    "##### Consultar si una clave existe en un diccionario"
   ]
  },
  {
   "cell_type": "code",
   "execution_count": 5,
   "metadata": {},
   "outputs": [
    {
     "data": {
      "text/plain": [
       "False"
      ]
     },
     "execution_count": 5,
     "metadata": {},
     "output_type": "execute_result"
    }
   ],
   "source": [
    "'Key 5' in Dictionary"
   ]
  },
  {
   "cell_type": "markdown",
   "metadata": {},
   "source": [
    "##### get(): acceder al valor de una clave de forma segura"
   ]
  },
  {
   "cell_type": "markdown",
   "metadata": {},
   "source": [
    "El método get() permite acceder a los values de una key de forma segura. Si la key no existe, devuelve None o un valor por defecto que se puede especificar."
   ]
  },
  {
   "cell_type": "code",
   "execution_count": 260,
   "metadata": {},
   "outputs": [],
   "source": [
    "Value = Dictionary.get(\"Key 8\", \"No existe esa key\")\n",
    "\n",
    "# La variable 'Value' es 'No existe esa key'"
   ]
  },
  {
   "cell_type": "markdown",
   "metadata": {},
   "source": [
    "### __Iteraciones__"
   ]
  },
  {
   "cell_type": "code",
   "execution_count": 261,
   "metadata": {},
   "outputs": [],
   "source": [
    "# Crear una lista vacía de prueba.\n",
    "\n",
    "Lista = []"
   ]
  },
  {
   "cell_type": "markdown",
   "metadata": {},
   "source": [
    "##### Iterar por las keys del diccionario"
   ]
  },
  {
   "cell_type": "markdown",
   "metadata": {},
   "source": [
    "Se puede iterar por las keys de un diccionario con un bucle for."
   ]
  },
  {
   "cell_type": "code",
   "execution_count": 262,
   "metadata": {},
   "outputs": [],
   "source": [
    "# Forma 1.\n",
    "for Key in Dictionary:\n",
    "    Lista.append(Key)"
   ]
  },
  {
   "cell_type": "code",
   "execution_count": 263,
   "metadata": {},
   "outputs": [],
   "source": [
    "# Forma 2.\n",
    "for Key in Dictionary.keys():\n",
    "    Lista.append(Key)"
   ]
  },
  {
   "cell_type": "markdown",
   "metadata": {},
   "source": [
    "##### Iterar por los values del diccionario"
   ]
  },
  {
   "cell_type": "markdown",
   "metadata": {},
   "source": [
    "Se puede iterar por los values, a su vez."
   ]
  },
  {
   "cell_type": "code",
   "execution_count": 264,
   "metadata": {},
   "outputs": [],
   "source": [
    "# Forma 1.\n",
    "for Key in Dictionary:\n",
    "    Lista.append(Dictionary[Key])"
   ]
  },
  {
   "cell_type": "code",
   "execution_count": 265,
   "metadata": {},
   "outputs": [],
   "source": [
    "# Forma 2.\n",
    "for Value in Dictionary.values():\n",
    "    Lista.append(Value)"
   ]
  },
  {
   "cell_type": "markdown",
   "metadata": {},
   "source": [
    "##### Iterar por los pares key-value del diccionario"
   ]
  },
  {
   "cell_type": "markdown",
   "metadata": {},
   "source": [
    "Se puede iterar por los pares Key-Value."
   ]
  },
  {
   "cell_type": "code",
   "execution_count": 266,
   "metadata": {},
   "outputs": [],
   "source": [
    "for Key, Value in Dictionary.items():\n",
    "    Lista.append(Key)\n",
    "    Lista.append(Value)"
   ]
  },
  {
   "cell_type": "markdown",
   "metadata": {},
   "source": [
    "##### Convertir conjunto de keys o values en listas"
   ]
  },
  {
   "cell_type": "markdown",
   "metadata": {},
   "source": [
    "Se puede generar una lista a partir de las claves y los valores."
   ]
  },
  {
   "cell_type": "code",
   "execution_count": 267,
   "metadata": {},
   "outputs": [],
   "source": [
    "Keys = list(Dictionary.keys())\n",
    "Values = list(Dictionary.values())"
   ]
  },
  {
   "cell_type": "markdown",
   "metadata": {},
   "source": [
    "##### Insertar elementos en un diccionario iterando"
   ]
  },
  {
   "cell_type": "code",
   "execution_count": 268,
   "metadata": {},
   "outputs": [],
   "source": [
    "for i in range (0, 11):\n",
    "    Dictionary[f'Key {i}'] = f'Value {i}'"
   ]
  },
  {
   "cell_type": "markdown",
   "metadata": {},
   "source": [
    "### __Comprehension__"
   ]
  },
  {
   "cell_type": "markdown",
   "metadata": {},
   "source": [
    "Permiten crear diccionarios de manera concisa usando expresiones."
   ]
  },
  {
   "cell_type": "code",
   "execution_count": 273,
   "metadata": {},
   "outputs": [],
   "source": [
    "Cuadrados = {x: x**2 for x in range(5)}  \n",
    "\n",
    "# La salida es:\n",
    "# {0: 0, 1: 1, 2: 4, 3: 9, 4: 16}\n",
    "\n",
    "# Explicación:\n",
    "# - 'x' es la key.\n",
    "# - 'x**2' es el value.\n",
    "# - 'for x' me dice que va a iterar sobre las keys, creándolas.\n",
    "# - 'range(5)' me habla de cuántas claves va a crear."
   ]
  },
  {
   "cell_type": "markdown",
   "metadata": {},
   "source": [
    "### __Update__"
   ]
  },
  {
   "cell_type": "markdown",
   "metadata": {},
   "source": [
    "Permite actualizar un diccionario con los elementos de otro diccionario o iterable de pares clave-valor. Si la clave ya existe, su valor se actualiza; si no, se añade."
   ]
  },
  {
   "cell_type": "code",
   "execution_count": 277,
   "metadata": {},
   "outputs": [],
   "source": [
    "Dictionary.update({\"Key 3\": \"Value 3\", \"Key 11\": \"Value 11\"})\n",
    "\n",
    "# Key 3 se actualiza.\n",
    "# Key 11 se agrega."
   ]
  },
  {
   "cell_type": "markdown",
   "metadata": {},
   "source": [
    "### __Borrar elementos__"
   ]
  },
  {
   "cell_type": "markdown",
   "metadata": {},
   "source": [
    "##### Borrar un elemento por su key"
   ]
  },
  {
   "cell_type": "code",
   "execution_count": null,
   "metadata": {},
   "outputs": [],
   "source": [
    "del Dictionary['Key_1']"
   ]
  },
  {
   "cell_type": "markdown",
   "metadata": {},
   "source": [
    "##### Borrar un elemento por su key y obtener el value"
   ]
  },
  {
   "cell_type": "markdown",
   "metadata": {},
   "source": [
    "La función __pop()__ elimina un elemento y devuelve su valor. Si la clave no existe, se puede especificar un valor por defecto."
   ]
  },
  {
   "cell_type": "code",
   "execution_count": null,
   "metadata": {},
   "outputs": [],
   "source": [
    "Deleted_Value = Dictionary.pop(\"Key 1\", \"Valor\")\n",
    "\n",
    "# Deleted_Value es ahora 'Value 1'"
   ]
  },
  {
   "cell_type": "markdown",
   "metadata": {},
   "source": [
    "##### Borrar el último par key-value y obtenerlo"
   ]
  },
  {
   "cell_type": "markdown",
   "metadata": {},
   "source": [
    "La función __popitem()__ elimina y devuelve el último par clave-valor del diccionario como una tupla. Es útil para vaciar el diccionario en orden LIFO (último en entrar, primero en salir)."
   ]
  },
  {
   "cell_type": "code",
   "execution_count": null,
   "metadata": {},
   "outputs": [],
   "source": [
    "Tuple_Key_Value = Dictionary.popitem()\n",
    "\n",
    "# La tupla es ('Key 10', 'Value 10')"
   ]
  },
  {
   "cell_type": "markdown",
   "metadata": {},
   "source": [
    "##### Limpiar diccionario"
   ]
  },
  {
   "cell_type": "markdown",
   "metadata": {},
   "source": [
    "La función __clear()__ elimina todos los elementos del diccionario."
   ]
  },
  {
   "cell_type": "code",
   "execution_count": null,
   "metadata": {},
   "outputs": [],
   "source": [
    "Dictionary.clear()  \n",
    "\n",
    "# El diccionario queda vacío."
   ]
  }
 ],
 "metadata": {
  "kernelspec": {
   "display_name": "Python 3",
   "language": "python",
   "name": "python3"
  },
  "language_info": {
   "codemirror_mode": {
    "name": "ipython",
    "version": 3
   },
   "file_extension": ".py",
   "mimetype": "text/x-python",
   "name": "python",
   "nbconvert_exporter": "python",
   "pygments_lexer": "ipython3",
   "version": "3.11.9"
  }
 },
 "nbformat": 4,
 "nbformat_minor": 2
}

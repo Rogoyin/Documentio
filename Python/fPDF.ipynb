{
 "cells": [
  {
   "cell_type": "markdown",
   "metadata": {},
   "source": [
    "##### Introducción"
   ]
  },
  {
   "cell_type": "markdown",
   "metadata": {},
   "source": [
    "FPDF es una biblioteca para crear archivos PDF en Python. Permite generar documentos en PDF desde cero y proporciona una amplia gama de funcionalidades para personalizar el contenido, el diseño y el formato."
   ]
  },
  {
   "cell_type": "markdown",
   "metadata": {},
   "source": [
    "##### Crear PDF"
   ]
  },
  {
   "cell_type": "code",
   "execution_count": 2,
   "metadata": {},
   "outputs": [],
   "source": [
    "from fpdf import FPDF\n",
    "\n",
    "# Crea un objeto llamado 'PDF', instancia de la clase FPDF.\n",
    "PDF = FPDF()  "
   ]
  },
  {
   "cell_type": "markdown",
   "metadata": {},
   "source": [
    "##### Añadir una página al documento"
   ]
  },
  {
   "cell_type": "code",
   "execution_count": 3,
   "metadata": {},
   "outputs": [],
   "source": [
    "PDF.add_page()  "
   ]
  },
  {
   "cell_type": "markdown",
   "metadata": {},
   "source": [
    "##### Establecer la fuente"
   ]
  },
  {
   "cell_type": "markdown",
   "metadata": {},
   "source": [
    "__Tipos de estilo.__\n",
    "- _'B'_. Negrita\n",
    "- _'I'_. Cursiva\n",
    "- _'S'_. Subrayado\n",
    "- Si no querés estilo, lo dejás sin especificar."
   ]
  },
  {
   "cell_type": "code",
   "execution_count": 4,
   "metadata": {},
   "outputs": [],
   "source": [
    "PDF.set_font(\"helvetica\", size=12, style='B')  "
   ]
  },
  {
   "cell_type": "markdown",
   "metadata": {},
   "source": [
    "##### Agregar una celda con texto"
   ]
  },
  {
   "cell_type": "markdown",
   "metadata": {},
   "source": [
    "__Parámetros.__\n",
    "- _w_. ancho de la celda.\n",
    "- _h_. altura de la celda.\n",
    "- _txt_. texto que se mostrará en la celda.\n",
    "- _ln_. si es True, hace un salto de línea después de la celda.\n",
    "- _align_. alineación del texto. Es opcional.\n",
    "    - '_L_' para izquierda. \n",
    "    - '_C_' para centro.\n",
    "    - '_R_' para derecha)."
   ]
  },
  {
   "cell_type": "code",
   "execution_count": 2,
   "metadata": {},
   "outputs": [],
   "source": [
    "PDF.cell(200, 10, text=\"Hola Mundo!\", ln=True, align='C')"
   ]
  },
  {
   "cell_type": "markdown",
   "metadata": {},
   "source": [
    "##### Agregar una multicell para textos largos"
   ]
  },
  {
   "cell_type": "code",
   "execution_count": 1,
   "metadata": {},
   "outputs": [],
   "source": [
    "PDF.multicell(200, 10, text=\"Hola Mundo!\", ln=True, align='C')"
   ]
  },
  {
   "cell_type": "markdown",
   "metadata": {},
   "source": [
    "##### Agregar una imagen"
   ]
  },
  {
   "cell_type": "markdown",
   "metadata": {},
   "source": [
    "__Parámetros.__\n",
    "- _name._ Nombre del archivo de imagen.\n",
    "- _x._ Coordenada x (Posición horizontal).\n",
    "-_ y._ Coordenada y (Posición vertical).\n",
    "- _w._ Ancho de la imagen (Opcional).\n",
    "- _h._ Alto de la imagen (Opcional)."
   ]
  },
  {
   "cell_type": "code",
   "execution_count": 15,
   "metadata": {},
   "outputs": [],
   "source": [
    "Image = 'C:/Users/tomas/Downloads/Cs. Cognitivas Comprobante Pago.jpeg'\n",
    "PDF.image(Image, x=10, y=10, w=100)"
   ]
  },
  {
   "cell_type": "markdown",
   "metadata": {},
   "source": [
    "#### Encabezado y pie"
   ]
  },
  {
   "cell_type": "markdown",
   "metadata": {},
   "source": [
    "Se puede sobrescribir los métodos Header y Footer en una clase que extiende FPDF."
   ]
  },
  {
   "cell_type": "code",
   "execution_count": 10,
   "metadata": {},
   "outputs": [],
   "source": [
    "class MyPDF(FPDF):\n",
    "    def Header(self):\n",
    "        self.set_font('Arial', 'B', 12)\n",
    "        self.cell(0, 10, 'Título del Documento', 0, 1, 'C')\n",
    "\n",
    "    def Footer(self):\n",
    "        self.set_y(-15)\n",
    "        self.set_font('Arial', 'I', 8)\n",
    "        self.cell(0, 10, f'Página {self.page_no()}', 0, 0, 'C')"
   ]
  },
  {
   "cell_type": "markdown",
   "metadata": {},
   "source": [
    "##### Establece el color de trazo"
   ]
  },
  {
   "cell_type": "code",
   "execution_count": 3,
   "metadata": {},
   "outputs": [],
   "source": [
    "PDF.set_draw_color(0, 0, 0)  \n",
    "\n",
    "# En este caso es negro."
   ]
  },
  {
   "cell_type": "markdown",
   "metadata": {},
   "source": [
    "##### Dibujar un rectángulo"
   ]
  },
  {
   "cell_type": "markdown",
   "metadata": {},
   "source": [
    "__Parámetros:__\n",
    "- _x, y_. Coordenadas de la esquina superior izquierda.\n",
    "- _w_. Ancho del rectángulo.\n",
    "- _h_. Alto del rectángulo."
   ]
  },
  {
   "cell_type": "code",
   "execution_count": 13,
   "metadata": {},
   "outputs": [],
   "source": [
    "PDF.rect(x=10, y=10, w=100, h=50)  "
   ]
  },
  {
   "cell_type": "markdown",
   "metadata": {},
   "source": [
    "#### Guardar archivo"
   ]
  },
  {
   "cell_type": "markdown",
   "metadata": {},
   "source": [
    "Guarda el documento PDF en un archivo."
   ]
  },
  {
   "cell_type": "code",
   "execution_count": 14,
   "metadata": {},
   "outputs": [],
   "source": [
    "PDF.output('C:/Users/tomas/Downloads/PDF.pdf')  "
   ]
  },
  {
   "cell_type": "markdown",
   "metadata": {},
   "source": [
    "#### Espacios"
   ]
  },
  {
   "cell_type": "markdown",
   "metadata": {},
   "source": [
    "Salto de espacio de la longitud que se especifique dentro del paréntesis."
   ]
  },
  {
   "cell_type": "code",
   "execution_count": null,
   "metadata": {},
   "outputs": [],
   "source": [
    "PDF.ln(10)"
   ]
  }
 ],
 "metadata": {
  "kernelspec": {
   "display_name": "Python 3",
   "language": "python",
   "name": "python3"
  },
  "language_info": {
   "codemirror_mode": {
    "name": "ipython",
    "version": 3
   },
   "file_extension": ".py",
   "mimetype": "text/x-python",
   "name": "python",
   "nbconvert_exporter": "python",
   "pygments_lexer": "ipython3",
   "version": "3.11.9"
  }
 },
 "nbformat": 4,
 "nbformat_minor": 2
}

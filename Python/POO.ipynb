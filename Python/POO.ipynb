{
 "cells": [
  {
   "cell_type": "markdown",
   "metadata": {},
   "source": [
    "#### Introducción"
   ]
  },
  {
   "cell_type": "markdown",
   "metadata": {},
   "source": [
    "Una clase es como un plano o plantilla que define cómo se va a construir un objeto. Es algo así como una abstracción. El objeto es la instancia de esa clase."
   ]
  },
  {
   "cell_type": "markdown",
   "metadata": {},
   "source": [
    "#### Constructor __init__"
   ]
  },
  {
   "cell_type": "markdown",
   "metadata": {},
   "source": [
    "Es un método (o función) especial que se llama constructor y se ejecuta cuando se crea una nueva instancia (objeto) de la clase. Define los atributos iniciales del objeto.\n",
    "\n",
    "Por ejemplo:"
   ]
  },
  {
   "cell_type": "code",
   "execution_count": 83,
   "metadata": {},
   "outputs": [],
   "source": [
    "class Human:\n",
    "     def __init_(self, Nickname, Age):\n",
    "        self.Name = Nickname\n",
    "        self.Age = Age"
   ]
  },
  {
   "cell_type": "markdown",
   "metadata": {},
   "source": [
    "Acá lo que se hace es:\n",
    "- Indicar que Patricio.Nickname, o sea, el Nickname del objeto Patricio, es el Nickname que se pasó como parámetro en el objeto cuando se creó. "
   ]
  },
  {
   "cell_type": "markdown",
   "metadata": {},
   "source": [
    "#### Construcción de un objeto"
   ]
  },
  {
   "cell_type": "markdown",
   "metadata": {},
   "source": [
    "Ejemplo:\n",
    "- Clase: Ser humano.\n",
    "- Objeto: Patricio.\n",
    "\n",
    "En la clase se define lo que puede hacer y cómo es un objeto de esa clase. Las funciones son las acciones de los objetos de esa clase, y las variables son los atributos.\n",
    "\n",
    "Por ejemplo:\n",
    "- Funciones: Respirar()\n",
    "- Atributos: Años = 28"
   ]
  },
  {
   "cell_type": "code",
   "execution_count": 58,
   "metadata": {},
   "outputs": [],
   "source": [
    "# Se define una clase llamada 'Human'.\n",
    "class Human:\n",
    "    # Init define los atributos que puede tener el objeto de esa clase.\n",
    "    def __init__(self, Nickname, Age):\n",
    "        self.Nickname = Nickname  \n",
    "        self.Age = Age      \n",
    "\n",
    "    # Método (función) que define una acción, en este caso, respirar.\n",
    "    def Breathe(self):\n",
    "        print(f\"{self.Nickname} está respirando.\")"
   ]
  },
  {
   "cell_type": "code",
   "execution_count": 59,
   "metadata": {},
   "outputs": [],
   "source": [
    "# Crear un objeto (una instancia de la clase 'Human').\n",
    "# Los parámetros de la clase 'Human' son los del método 'init', es decir, son los atributos de 'Patricio'.\n",
    "Patricio = Human('Pato', 28)"
   ]
  },
  {
   "cell_type": "code",
   "execution_count": 60,
   "metadata": {},
   "outputs": [
    {
     "name": "stdout",
     "output_type": "stream",
     "text": [
      "Pato está respirando.\n"
     ]
    }
   ],
   "source": [
    "# Le damos instrucciones al objeto.\n",
    "Patricio.Breathe()"
   ]
  },
  {
   "cell_type": "markdown",
   "metadata": {},
   "source": [
    "#### Self"
   ]
  },
  {
   "cell_type": "markdown",
   "metadata": {},
   "source": [
    "Es una referencia al objeto actual. Es decir, puedo acceder a sus atributos, o lo puedo hacer hacer cosas (con los métodos o funciones). Por ejemplo, si tengo un objeto llamado 'Vecino':\n",
    "\n",
    "- self.Name: accedo al nombre de 'Vecino', que es 'Patricio', y lo puedo incluso cambiar.\n",
    "- self.Breathe: esto indica que al objeto 'Vecino' lo puedo hacer 'respirar', ya sea dentro de otro método o en el código mismo.\n",
    "\n",
    "self sería algo así como nombrar a la instancia. Es decir, cada vez que pongo self estaría poniendo 'Vecino', o más bien, 'Nombre_De_Objeto'."
   ]
  },
  {
   "cell_type": "markdown",
   "metadata": {},
   "source": [
    "#### Atributos"
   ]
  },
  {
   "cell_type": "markdown",
   "metadata": {},
   "source": [
    "Se definen simplemente con un igual. Por ejemplo:\n",
    "\n",
    "Nombre = 'Pedro'\n",
    "\n",
    "Hay dos tipos:"
   ]
  },
  {
   "cell_type": "markdown",
   "metadata": {},
   "source": [
    "- __De instancia:__ son datos específicos de cada objeto. Se definen dentro del método __init__, el constructor."
   ]
  },
  {
   "cell_type": "markdown",
   "metadata": {},
   "source": [
    "- __De clase:__ son compartidos por todas las instancias de la clase y se definen fuera de __init__.\n",
    "Para acceder a ellos se poner 'cls' adelante."
   ]
  },
  {
   "cell_type": "code",
   "execution_count": 61,
   "metadata": {},
   "outputs": [],
   "source": [
    "class Car:\n",
    "    # Atributo de clase.\n",
    "    Wheels = 4\n",
    "\n",
    "    def __init__(self, Color, Brand):\n",
    "        # Atributos de instancia.\n",
    "        self.Color = Color\n",
    "        self.Brand = Brand"
   ]
  },
  {
   "cell_type": "markdown",
   "metadata": {},
   "source": [
    "#### Métodos"
   ]
  },
  {
   "cell_type": "markdown",
   "metadata": {},
   "source": [
    "Es una función que pertenece a una clase. Hay 3 tipos."
   ]
  },
  {
   "cell_type": "markdown",
   "metadata": {},
   "source": [
    "- __Métodos de instancia:__ definen el comportamiento de los objetos. Necesitan el primer parámetro 'self' para acceder a los atributos y otros métodos del objeto. Además, pueden acceder y modificar los atributos de la instancia a la que pertenecen. Se utilizan para realizar operaciones que involucran o modifican el estado del objeto."
   ]
  },
  {
   "cell_type": "markdown",
   "metadata": {},
   "source": [
    "- __Métodos de clase:__ utilizan @classmethod y reciben 'cls' como primer argumento, que se refiere a la clase y no al objeto. Es decir, acceden a los atributos de clase."
   ]
  },
  {
   "cell_type": "markdown",
   "metadata": {},
   "source": [
    "- __Métodos estáticos:__ utilizan @staticmethod y no reciben 'self' ni 'cls'. Son como funciones normales, pero dentro del contexto de la clase. No tienen acceso a atributos de instancia o de clase."
   ]
  },
  {
   "cell_type": "code",
   "execution_count": 62,
   "metadata": {},
   "outputs": [],
   "source": [
    "class Calculator:\n",
    "    Forma = 'Cuadrada'\n",
    "\n",
    "    # init define los atributos.\n",
    "    def __init__(self, Color):\n",
    "        self.Color = Color\n",
    "\n",
    "    # Método de instancia. \n",
    "    # Se accede al objeto en sí, a sus atributos, y se define una acción.\n",
    "    # En este caso, modifica el atributo 'Color' de la instancia.\n",
    "    def Change_Color(self, New_Color):\n",
    "        self.color = New_Color  \n",
    "        \n",
    "    # Método de clase.\n",
    "    # Se refiere a la clase, no al objeto.\n",
    "    @classmethod\n",
    "    def Information(cls):\n",
    "        print(f\"Esta es una calculadora y su forma es {cls.Forma}.\")\n",
    "\n",
    "    # Método estático.\n",
    "    # Es una función normal que se aplica al objeto.\n",
    "    @staticmethod\n",
    "    def Subtract(a, b):\n",
    "        return a - b"
   ]
  },
  {
   "cell_type": "code",
   "execution_count": 63,
   "metadata": {},
   "outputs": [],
   "source": [
    "# Definir un objeto de la clase 'Calculator'.\n",
    "Casio = Calculator('Negra')"
   ]
  },
  {
   "cell_type": "code",
   "execution_count": 64,
   "metadata": {},
   "outputs": [],
   "source": [
    "# Método de instancia.\n",
    "Casio.Change_Color('Blanca')"
   ]
  },
  {
   "cell_type": "code",
   "execution_count": 65,
   "metadata": {},
   "outputs": [
    {
     "name": "stdout",
     "output_type": "stream",
     "text": [
      "Esta es una calculadora y su forma es Cuadrada.\n"
     ]
    }
   ],
   "source": [
    "# Método de clase.\n",
    "Calculator.Information()"
   ]
  },
  {
   "cell_type": "code",
   "execution_count": 66,
   "metadata": {},
   "outputs": [
    {
     "data": {
      "text/plain": [
       "-1"
      ]
     },
     "execution_count": 66,
     "metadata": {},
     "output_type": "execute_result"
    }
   ],
   "source": [
    "# Método estático.\n",
    "Casio.Subtract(2,3)"
   ]
  },
  {
   "cell_type": "markdown",
   "metadata": {},
   "source": [
    "#### Herencia"
   ]
  },
  {
   "cell_type": "markdown",
   "metadata": {},
   "source": [
    "Permite crear una nueva clase a partir de otra existente, heredando sus atributos y métodos. Facilita la reutilización de código y la creación de jerarquías de clases."
   ]
  },
  {
   "cell_type": "code",
   "execution_count": 67,
   "metadata": {},
   "outputs": [],
   "source": [
    "# Clase base.\n",
    "class Animal:\n",
    "    Type_Of_Matter = 'Orgánico'\n",
    "\n",
    "    def __init__(self, Number_Of_Legs):\n",
    "        self.Number_Of_Legs = Number_Of_Legs\n",
    "\n",
    "    def Make_Noise(self):\n",
    "        print(f\"El animal hace un sonido con sus {self.Number_Of_Legs} patas.\")\n"
   ]
  },
  {
   "cell_type": "code",
   "execution_count": 68,
   "metadata": {},
   "outputs": [],
   "source": [
    "# Clase derivada.\n",
    "class Perro(Animal):\n",
    "    def Make_Noise(self):\n",
    "        print(f\"El perro hace un sonido con sus {self.Number_Of_Legs} patas.\")\n",
    "    \n",
    "    @classmethod\n",
    "    def Know_Type_Of_Matter(cls):\n",
    "        print(f\"El perro es {cls.Type_Of_Matter} en su tipo de materia.\")"
   ]
  },
  {
   "cell_type": "code",
   "execution_count": 69,
   "metadata": {},
   "outputs": [
    {
     "name": "stdout",
     "output_type": "stream",
     "text": [
      "El perro es Orgánico en su tipo de materia.\n"
     ]
    }
   ],
   "source": [
    "Bobby = Perro(4)\n",
    "\n",
    "Perro.Know_Type_Of_Matter()"
   ]
  },
  {
   "cell_type": "markdown",
   "metadata": {},
   "source": [
    "#### Polimorfismo"
   ]
  },
  {
   "cell_type": "markdown",
   "metadata": {},
   "source": [
    "Significa \"muchas formas\" y se refiere a la capacidad de una única interfaz para representar diferentes tipos de datos."
   ]
  },
  {
   "cell_type": "markdown",
   "metadata": {},
   "source": [
    "En Python, el polimorfismo se logra principalmente a través de la sobrescritura de métodos y la capacidad de las clases para implementar métodos de manera diferente.\n",
    "\n",
    "Por ejemplo:"
   ]
  },
  {
   "cell_type": "code",
   "execution_count": 111,
   "metadata": {},
   "outputs": [],
   "source": [
    "# Clase base.\n",
    "# Define un método Make_Sound que no hace nada por sí mismo. \n",
    "# Esto establece una interfaz común para todas las clases derivadas.\n",
    "\n",
    "class Animal:\n",
    "    def Make_Sound(self):\n",
    "        pass  # Método a ser sobrescrito en clases derivadas."
   ]
  },
  {
   "cell_type": "code",
   "execution_count": 112,
   "metadata": {},
   "outputs": [],
   "source": [
    "# Esta clase derivada sobrescribe el método Make_Sound para proporcionar \n",
    "# una implementación específica.\n",
    "\n",
    "class Dog(Animal):\n",
    "    def Make_Sound(self):\n",
    "        return \"Woof!\""
   ]
  },
  {
   "cell_type": "code",
   "execution_count": 113,
   "metadata": {},
   "outputs": [],
   "source": [
    "class Cat(Animal):\n",
    "    def Make_Sound(self):\n",
    "        return \"Meow!\""
   ]
  },
  {
   "cell_type": "code",
   "execution_count": 114,
   "metadata": {},
   "outputs": [],
   "source": [
    "# Función para hacer sonidos con distintos tipos de animales.\n",
    "# Toma un objeto del tipo Animal y llama a su método Make_Sound.\n",
    "\n",
    "def Animal_Sound(Animal):\n",
    "    print(Animal.Make_Sound())"
   ]
  },
  {
   "cell_type": "code",
   "execution_count": 115,
   "metadata": {},
   "outputs": [],
   "source": [
    "# Crear instancias de Dog y Cat.\n",
    "Bobby = Dog()\n",
    "Michi = Cat()"
   ]
  },
  {
   "cell_type": "code",
   "execution_count": 116,
   "metadata": {},
   "outputs": [
    {
     "name": "stdout",
     "output_type": "stream",
     "text": [
      "Woof!\n"
     ]
    }
   ],
   "source": [
    "Animal_Sound(Bobby)"
   ]
  },
  {
   "cell_type": "markdown",
   "metadata": {},
   "source": [
    "Se puede escribir código que maneje diferentes tipos de datos de manera uniforme. Si agregás una nueva clase que también hereda de Animal, el código que utiliza Animal va a seguir funcionando sin cambios."
   ]
  },
  {
   "cell_type": "markdown",
   "metadata": {},
   "source": [
    "#### Encapsulamiento"
   ]
  },
  {
   "cell_type": "markdown",
   "metadata": {},
   "source": [
    "El encapsulamiento es el concepto de restringir el acceso directo a los atributos y métodos de una clase. Se usa para proteger los datos y garantizar que solo se modifiquen a través de métodos controlados.\n",
    "\n",
    "- __Atributos públicos:__ accesibles desde cualquier lugar.\n",
    "- __Atributos privados:__ se definen con un guion bajo (_) o doble guion bajo (__) y no deben ser accesibles directamente fuera de la clase."
   ]
  },
  {
   "cell_type": "code",
   "execution_count": 75,
   "metadata": {},
   "outputs": [],
   "source": [
    "class Person:\n",
    "    def __init__(self, Name, Age):\n",
    "        self.Name = Name    # Público\n",
    "        self.__Age = Age    # Privado: tiene dos guiones\n",
    "\n",
    "    def Get_Age(self):\n",
    "        return self.__Age  # Método para acceder al atributo privado"
   ]
  },
  {
   "cell_type": "code",
   "execution_count": 72,
   "metadata": {},
   "outputs": [],
   "source": [
    "Neighbor = Person(\"Juan\", 30)"
   ]
  },
  {
   "cell_type": "code",
   "execution_count": 76,
   "metadata": {},
   "outputs": [
    {
     "name": "stdout",
     "output_type": "stream",
     "text": [
      "Juan\n"
     ]
    }
   ],
   "source": [
    "print(Neighbor.Name)"
   ]
  },
  {
   "cell_type": "code",
   "execution_count": 77,
   "metadata": {},
   "outputs": [
    {
     "name": "stdout",
     "output_type": "stream",
     "text": [
      "30\n"
     ]
    }
   ],
   "source": [
    "print(Neighbor.Get_Age())"
   ]
  },
  {
   "cell_type": "code",
   "execution_count": 78,
   "metadata": {},
   "outputs": [],
   "source": [
    "# print(Neighbor.__Age)      # Error: no se puede acceder directamente"
   ]
  },
  {
   "cell_type": "markdown",
   "metadata": {},
   "source": [
    "#### Destructores"
   ]
  },
  {
   "cell_type": "markdown",
   "metadata": {},
   "source": [
    "- __Constructores__ (__init__): método especial que se ejecuta cuando se crea un objeto. Se usa para inicializar los atributos.\n",
    "- __Destructores__ (__del__): método especial que se ejecuta cuando un objeto está a punto de ser destruido o eliminado. Se pierde la variable."
   ]
  },
  {
   "cell_type": "code",
   "execution_count": 80,
   "metadata": {},
   "outputs": [],
   "source": [
    "class Clase:\n",
    "    def __init__(self):\n",
    "        print(\"Objeto creado.\")\n",
    "\n",
    "    def __del__(self):\n",
    "        print(\"Objeto destruido.\")    "
   ]
  },
  {
   "cell_type": "code",
   "execution_count": 81,
   "metadata": {},
   "outputs": [
    {
     "name": "stdout",
     "output_type": "stream",
     "text": [
      "Objeto creado.\n"
     ]
    }
   ],
   "source": [
    "Objeto = Clase()"
   ]
  },
  {
   "cell_type": "code",
   "execution_count": 82,
   "metadata": {},
   "outputs": [
    {
     "name": "stdout",
     "output_type": "stream",
     "text": [
      "Objeto destruido.\n"
     ]
    }
   ],
   "source": [
    "del Objeto   "
   ]
  },
  {
   "cell_type": "markdown",
   "metadata": {},
   "source": [
    "#### Sobrecarga de operadores"
   ]
  },
  {
   "cell_type": "markdown",
   "metadata": {},
   "source": [
    "La sobrecarga de operadores permite definir comportamientos personalizados para operadores (+, -, ==, etc.) en objetos."
   ]
  },
  {
   "cell_type": "markdown",
   "metadata": {},
   "source": [
    "Por ejemplo:\n",
    "- En este caso, __add__ es un método especial, y no puede cambiarse su nombre. Lo que se especifica es el atributo.\n",
    "- Tampoco se puede usar cualquier operador. Por ejemplo, no se puede usar '-'.\n",
    "- Lo que hago es usar la función add para multiplicar el atributo 'Value' del objeto."
   ]
  },
  {
   "cell_type": "code",
   "execution_count": 103,
   "metadata": {},
   "outputs": [],
   "source": [
    "class Number:\n",
    "    def __init__(self, Value):\n",
    "        self.Value = Value\n",
    "\n",
    "    def __add__(self, Other):\n",
    "        return Number(self.Value * Other.Value)\n",
    "    \n",
    "    def __sub__(self, Other):\n",
    "        return Number(self.Value - Other.Value)"
   ]
  },
  {
   "cell_type": "code",
   "execution_count": 104,
   "metadata": {},
   "outputs": [
    {
     "name": "stdout",
     "output_type": "stream",
     "text": [
      "200\n"
     ]
    }
   ],
   "source": [
    "n1 = Number(10)\n",
    "n2 = Number(20)\n",
    "n3 = n1 + n2\n",
    "\n",
    "print(n3.Value)"
   ]
  },
  {
   "cell_type": "code",
   "execution_count": 106,
   "metadata": {},
   "outputs": [
    {
     "name": "stdout",
     "output_type": "stream",
     "text": [
      "-10\n"
     ]
    }
   ],
   "source": [
    "n1 = Number(10)\n",
    "n2 = Number(20)\n",
    "n3 = n1 - n2\n",
    "\n",
    "print(n3.Value)"
   ]
  },
  {
   "cell_type": "markdown",
   "metadata": {},
   "source": [
    "#### Dunder methods"
   ]
  },
  {
   "cell_type": "markdown",
   "metadata": {},
   "source": [
    "Los métodos mágicos (también llamados \"dunder methods\") comienzan y terminan con dobles guiones bajos (__). Permiten personalizar la forma en que las clases interactúan con operaciones comunes en Python."
   ]
  },
  {
   "cell_type": "markdown",
   "metadata": {},
   "source": [
    "Algunos de los métodos mágicos más comunes son:\n",
    "\n",
    "- __str__: define cómo se muestra el objeto al imprimirlo.\n",
    "- __repr__: proporciona una representación formal del objeto, usada principalmente para depuración.\n",
    "- __len__: define cómo se calcula la longitud de un objeto.\n",
    "- __getitem__, __setitem__: permiten que un objeto se comporte como una lista o diccionario."
   ]
  },
  {
   "cell_type": "code",
   "execution_count": 108,
   "metadata": {},
   "outputs": [],
   "source": [
    "class Person:\n",
    "    def __init__(self, Name, Age):\n",
    "        self.Name = Name\n",
    "        self.Age = Age\n",
    "\n",
    "    # Define cómo se va a mostrar la impresión del objeto.\n",
    "    def __str__(self):\n",
    "        return f\"{self.Name}, {self.Age} años\""
   ]
  },
  {
   "cell_type": "code",
   "execution_count": 109,
   "metadata": {},
   "outputs": [
    {
     "name": "stdout",
     "output_type": "stream",
     "text": [
      "Ana, 25 años\n"
     ]
    }
   ],
   "source": [
    "Person = Person(\"Ana\", 25)\n",
    "print(Person)  # Salida: Ana, 25 años"
   ]
  },
  {
   "cell_type": "markdown",
   "metadata": {},
   "source": [
    "#### Abstracción e interfaces"
   ]
  },
  {
   "cell_type": "markdown",
   "metadata": {},
   "source": [
    "La abstracción es la capacidad de definir clases que son \"abstractas,\" es decir, no deben ser instanciadas directamente. En Python, puedes crear clases abstractas utilizando el módulo abc."
   ]
  },
  {
   "cell_type": "markdown",
   "metadata": {},
   "source": [
    "Las __clases abstractas__ se utilizan como base para otras clases y suelen contener métodos abstractos que deben ser implementados en las clases derivadas."
   ]
  },
  {
   "cell_type": "markdown",
   "metadata": {},
   "source": [
    "#### Funciones super"
   ]
  },
  {
   "cell_type": "markdown",
   "metadata": {},
   "source": [
    "__super()__ es una función incorporada en Python que se utiliza para llamar a métodos de una clase base desde una clase derivada. Es decir, llamamos a métodos de la clase 'padre' desde la clase 'hija', con un super() adelante."
   ]
  },
  {
   "cell_type": "markdown",
   "metadata": {},
   "source": [
    "Esto es especialmente útil cuando deseas extender o modificar el comportamiento de un método de una clase base en una clase derivada."
   ]
  },
  {
   "cell_type": "code",
   "execution_count": 2,
   "metadata": {},
   "outputs": [],
   "source": [
    "class Base:\n",
    "    def Saludar(self):\n",
    "        print(\"Hello from Base\")"
   ]
  },
  {
   "cell_type": "code",
   "execution_count": 3,
   "metadata": {},
   "outputs": [],
   "source": [
    "class Derived(Base):\n",
    "    def Saludar(self):\n",
    "        super().Saludar()  # Llama al método Saludar() de Base\n",
    "        print(\"Hello from Derived\")"
   ]
  },
  {
   "cell_type": "code",
   "execution_count": 5,
   "metadata": {},
   "outputs": [
    {
     "name": "stdout",
     "output_type": "stream",
     "text": [
      "Hello from Base\n",
      "Hello from Derived\n"
     ]
    }
   ],
   "source": [
    "Objeto = Derived()\n",
    "Objeto.Saludar()"
   ]
  },
  {
   "cell_type": "markdown",
   "metadata": {},
   "source": [
    "Cuando se define un constructor en una clase derivada, se puede usar super() para llamar al constructor de la clase base y asegurarse de que la inicialización de la clase base se realice correctamente."
   ]
  },
  {
   "cell_type": "code",
   "execution_count": null,
   "metadata": {},
   "outputs": [],
   "source": [
    "class Base:\n",
    "    def __init__(self, Valor):\n",
    "        self.Valor = Valor"
   ]
  },
  {
   "cell_type": "code",
   "execution_count": null,
   "metadata": {},
   "outputs": [],
   "source": [
    "class Derived(Base):\n",
    "    def __init__(self, Valor, Extra_Valor):\n",
    "        super().__init__(Valor)             # Llama al constructor de Base\n",
    "        self.Extra_Valor = Extra_Valor\n",
    "\n",
    "# Enlaza el __init__ de la hija con el del padre, para que se inicialice bien la clase padre."
   ]
  }
 ],
 "metadata": {
  "kernelspec": {
   "display_name": "Python 3",
   "language": "python",
   "name": "python3"
  },
  "language_info": {
   "codemirror_mode": {
    "name": "ipython",
    "version": 3
   },
   "file_extension": ".py",
   "mimetype": "text/x-python",
   "name": "python",
   "nbconvert_exporter": "python",
   "pygments_lexer": "ipython3",
   "version": "3.11.9"
  }
 },
 "nbformat": 4,
 "nbformat_minor": 2
}

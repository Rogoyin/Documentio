{
 "cells": [
  {
   "cell_type": "markdown",
   "metadata": {},
   "source": [
    "### __Introducción__"
   ]
  },
  {
   "cell_type": "markdown",
   "metadata": {},
   "source": [
    "Una de las librerías más populares es notion-client, la cual proporciona una interfaz para interactuar con la API oficial de Notion. Esta librería te permite realizar diversas operaciones como leer, crear, actualizar y eliminar páginas, bases de datos y bloques dentro de Notion."
   ]
  },
  {
   "cell_type": "code",
   "execution_count": 115,
   "metadata": {},
   "outputs": [],
   "source": [
    "from notion_client import Client"
   ]
  },
  {
   "cell_type": "markdown",
   "metadata": {},
   "source": [
    "##### Crear el cliente con el token de integración"
   ]
  },
  {
   "cell_type": "markdown",
   "metadata": {},
   "source": [
    "Para utilizar la API de Notion, se necesita autenticación usando un token de integración que se obtiene al configurar la integración en Notion."
   ]
  },
  {
   "cell_type": "code",
   "execution_count": 116,
   "metadata": {},
   "outputs": [],
   "source": [
    "Notion = Client(auth=\"secret_NYOvwjAc63k8bhNv0zpfaeUX1S7dk5ilgek1hoWXKkR\")"
   ]
  },
  {
   "cell_type": "markdown",
   "metadata": {},
   "source": [
    "##### Establecer el ID de la página o bloque de Notion"
   ]
  },
  {
   "cell_type": "code",
   "execution_count": 117,
   "metadata": {},
   "outputs": [],
   "source": [
    "ID_Database = \"129a53d444454d63820814429c4fb691\"\n",
    "ID_Page = '3b753b78-187f-414f-a78c-a9d106cca7fb'"
   ]
  },
  {
   "cell_type": "markdown",
   "metadata": {},
   "source": [
    "##### Obtener estructura de una base de datos"
   ]
  },
  {
   "cell_type": "markdown",
   "metadata": {},
   "source": [
    "Obtener la estructura de la base de datos para ver las propiedades con el método __databases.retrieve().__"
   ]
  },
  {
   "cell_type": "code",
   "execution_count": 118,
   "metadata": {},
   "outputs": [],
   "source": [
    "Database = Notion.databases.retrieve(database_id=ID_Database)"
   ]
  },
  {
   "cell_type": "markdown",
   "metadata": {},
   "source": [
    "##### Filtrar y ordenar base de datos"
   ]
  },
  {
   "cell_type": "markdown",
   "metadata": {},
   "source": [
    "La función __databases.query__ permite consultar una base de datos específica de Notion usando su database_id. Se puede aplicar filtros, ordenar y paginar los resultados."
   ]
  },
  {
   "cell_type": "markdown",
   "metadata": {},
   "source": [
    "__Parámetros.__\n",
    "\n",
    "- _database_id_. El id de la base de datos que se va a leer.\n",
    "- _filter._ Filtra resultados basados en propiedades específicas. Dentro, podés especificar qué contiene con _contains: Valor_. Hay varios tipos de propiedades:\n",
    "    - _title_. Título.\n",
    "    - _rich_ _ _text_. Texto.\n",
    "    - _number_. Número.\n",
    "    - _select_. Permite seleccionar un valor único de una lista predefinida de opciones.\n",
    "    - _multi_ _ _select_. Permite seleccionar múltiples opciones de una lista predefinida.\n",
    "    - _date_. Fecha.\n",
    "- _sorts_. Cómo se ordenan los datos.\n",
    "    - _property._ Debe coincidir exactamente con el nombre tal como aparece en las propiedades del objeto de la base de datos.\n",
    "    - _direction._ Se puede usar \"ascending\" o \"descending\" para ordenar los resultados."
   ]
  },
  {
   "cell_type": "code",
   "execution_count": 119,
   "metadata": {},
   "outputs": [
    {
     "name": "stdout",
     "output_type": "stream",
     "text": [
      "{'object': 'page', 'id': '3b753b78-187f-414f-a78c-a9d106cca7fb', 'created_time': '2021-08-23T15:22:00.000Z', 'last_edited_time': '2024-09-09T23:09:00.000Z', 'created_by': {'object': 'user', 'id': 'a098d629-3725-4c73-b9b5-119ecbc0e26e'}, 'last_edited_by': {'object': 'user', 'id': 'a098d629-3725-4c73-b9b5-119ecbc0e26e'}, 'cover': {'type': 'external', 'external': {'url': 'https://static1.abc.es/media/cultura/2018/11/04/Seneca-kYAD--1248x698@abc.jpg'}}, 'icon': {'type': 'emoji', 'emoji': '🎗️'}, 'parent': {'type': 'database_id', 'database_id': '129a53d4-4445-4d63-8208-14429c4fb691'}, 'archived': False, 'in_trash': False, 'properties': {'Last edited time': {'id': 'O%60g%40', 'type': 'last_edited_time', 'last_edited_time': '2024-09-09T23:09:00.000Z'}, 'Name': {'id': 'title', 'type': 'title', 'title': [{'type': 'text', 'text': {'content': 'Séneca', 'link': None}, 'annotations': {'bold': False, 'italic': False, 'strikethrough': False, 'underline': False, 'code': False, 'color': 'default'}, 'plain_text': 'Séneca', 'href': None}]}, 'Created': {'id': '08378105-a611-4402-abc3-a98c6ee26895', 'type': 'created_time', 'created_time': '2021-08-23T15:22:00.000Z'}, 'Tags': {'id': 'b4985f6c-a4ae-48f2-b185-4640fce15e01', 'type': 'multi_select', 'multi_select': []}}, 'url': 'https://www.notion.so/S-neca-3b753b78187f414fa78ca9d106cca7fb', 'public_url': None}\n"
     ]
    }
   ],
   "source": [
    "Filtro = Notion.databases.query(\n",
    "    **{\n",
    "        \"database_id\": ID_Database,\n",
    "        \"filter\": {\n",
    "            \"property\": \"Name\",\n",
    "            \"title\": {\n",
    "                \"contains\": \"Séneca\"\n",
    "            }\n",
    "        },\n",
    "        \"sorts\": [\n",
    "            {\n",
    "                \"property\": \"Last edited time\",  \n",
    "                \"direction\": \"descending\"\n",
    "            }\n",
    "        ]\n",
    "    }\n",
    ")\n",
    "\n",
    "\n",
    "# Accede a los resultados.\n",
    "for Elementos in Filtro['results']:\n",
    "    print(Elementos)\n",
    "\n",
    "# Filtra los elementos que contienen 'Seneca' en la propiedad 'Name'.\n",
    "# Los ordena por el último edit en orden descendente."
   ]
  },
  {
   "cell_type": "markdown",
   "metadata": {},
   "source": [
    "### __Páginas__"
   ]
  },
  {
   "cell_type": "markdown",
   "metadata": {},
   "source": [
    "##### Obtener una página"
   ]
  },
  {
   "cell_type": "markdown",
   "metadata": {},
   "source": [
    "La función __pages.retrieve__ obtiene los detalles de una página específica usando su page_id. Se utiliza para obtener información detallada sobre una página, incluyendo propiedades y contenido."
   ]
  },
  {
   "cell_type": "code",
   "execution_count": 120,
   "metadata": {},
   "outputs": [],
   "source": [
    "Page = Notion.pages.retrieve(page_id=ID_Page)"
   ]
  },
  {
   "cell_type": "markdown",
   "metadata": {},
   "source": [
    "##### Crear una página"
   ]
  },
  {
   "cell_type": "markdown",
   "metadata": {},
   "source": [
    "La función __pages.create__ permite crear una nueva página en una base de datos o en un espacio de trabajo."
   ]
  },
  {
   "cell_type": "markdown",
   "metadata": {},
   "source": [
    "__Parámetros.__\n",
    "\n",
    "- _parent._ La database padre donde va a ser construida.\n",
    "- _name._ Su nombre."
   ]
  },
  {
   "cell_type": "code",
   "execution_count": 121,
   "metadata": {},
   "outputs": [],
   "source": [
    "New_Page = Notion.pages.create(\n",
    "    **{\n",
    "        \"parent\": {\"database_id\": ID_Database},\n",
    "        \"properties\": {\n",
    "            \"Name\": {\n",
    "                \"title\": [\n",
    "                    {\n",
    "                        \"text\": {\n",
    "                            \"content\": \"Página nueva\"\n",
    "                        }\n",
    "                    }\n",
    "                ]\n",
    "            }\n",
    "        }\n",
    "    }    \n",
    ")\n"
   ]
  },
  {
   "cell_type": "markdown",
   "metadata": {},
   "source": [
    "##### Actualizar una página"
   ]
  },
  {
   "cell_type": "markdown",
   "metadata": {},
   "source": [
    "Actualiza las propiedades de una página existente."
   ]
  },
  {
   "cell_type": "code",
   "execution_count": 122,
   "metadata": {},
   "outputs": [],
   "source": [
    "Pagina_Nueva = 'f138c17b4dd44eebb3e8d7ec1ef2b724'\n",
    "\n",
    "# Actualiza el título de la página.\n",
    "Pagina_Actualizada = Notion.pages.update(\n",
    "    page_id=Pagina_Nueva,\n",
    "    properties = {\n",
    "        \"Name\": {\n",
    "            \"title\": [\n",
    "                {\n",
    "                    \"text\": {\n",
    "                        \"content\": \"Página chota\"\n",
    "                    }\n",
    "                }\n",
    "            ]\n",
    "        }\n",
    "    }    \n",
    ")"
   ]
  },
  {
   "cell_type": "markdown",
   "metadata": {},
   "source": [
    "### __Bloques__"
   ]
  },
  {
   "cell_type": "markdown",
   "metadata": {},
   "source": [
    "##### Agregar contenido a un bloque o página"
   ]
  },
  {
   "cell_type": "markdown",
   "metadata": {},
   "source": [
    "La función __block.children.append()__ agrega contenido a un bloque de una página, como texto, imágenes, listas, etc."
   ]
  },
  {
   "cell_type": "code",
   "execution_count": 123,
   "metadata": {},
   "outputs": [],
   "source": [
    "Bloque_Nuevo = Notion.blocks.children.append(\n",
    "    block_id=Pagina_Nueva,\n",
    "    children=[\n",
    "        {\n",
    "            \"object\": \"block\",\n",
    "            \"type\": \"paragraph\",\n",
    "            \"paragraph\": {\n",
    "                \"rich_text\": [\n",
    "                    {\n",
    "                        \"type\": \"text\",\n",
    "                        \"text\": {\n",
    "                            \"content\": \"Este es un nuevo párrafo en la página.\"\n",
    "                        }\n",
    "                    }\n",
    "                ]\n",
    "            }\n",
    "        }\n",
    "    ]\n",
    ")\n",
    "\n",
    "# Agrega un texto a una página."
   ]
  },
  {
   "cell_type": "markdown",
   "metadata": {},
   "source": [
    "##### Obtener los ID de todos los bloques de una página"
   ]
  },
  {
   "cell_type": "markdown",
   "metadata": {},
   "source": [
    "El método __blocks.children.list()__ permite listar todos los bloques dentro de una página."
   ]
  },
  {
   "cell_type": "code",
   "execution_count": 124,
   "metadata": {},
   "outputs": [],
   "source": [
    "# Se obtiene la información de todos los bloques hijos de la página.\n",
    "Resultado = Notion.blocks.children.list(block_id=Pagina_Nueva)\n",
    "\n",
    "# Se extrae los IDs de los bloques de la información generada.\n",
    "Blocks_IDs = [Block['id'] for Block in Resultado['results']]"
   ]
  },
  {
   "cell_type": "markdown",
   "metadata": {},
   "source": [
    "Si hay muchos bloques, la información generada podría estar paginada. En ese caso, se usa next_cursor para solicitar la siguiente página de los resultados. "
   ]
  },
  {
   "cell_type": "code",
   "execution_count": 1,
   "metadata": {},
   "outputs": [],
   "source": [
    "while Has_More:\n",
    "\n",
    "    # Solicita los bloques, incluyendo el cursor si existe\n",
    "    Resultado = Notion.blocks.children.list(block_id=Pagina_Nueva, start_cursor=Cursor)\n",
    "    \n",
    "    # Añade los IDs de los bloques a la lista\n",
    "    Blocks_IDs.extend([Block['id'] for Block in Resultado['results']])\n",
    "    \n",
    "    # Verifica si hay más resultados y actualiza el cursor.\n",
    "    Has_More = Resultado['has_more']\n",
    "    Cursor = Resultado['next_cursor']"
   ]
  },
  {
   "cell_type": "markdown",
   "metadata": {},
   "source": [
    "- _start_cursor=cursor_ permite solicitar la siguiente página de bloques."
   ]
  },
  {
   "cell_type": "markdown",
   "metadata": {},
   "source": [
    "##### Editar el contenido de un bloque"
   ]
  },
  {
   "cell_type": "markdown",
   "metadata": {},
   "source": [
    "Con el método blocks.update se puede actualizar la información de un bloque."
   ]
  },
  {
   "cell_type": "code",
   "execution_count": 126,
   "metadata": {},
   "outputs": [],
   "source": [
    "# Bloque a editar.\n",
    "ID_Bloque = Blocks_IDs[0]"
   ]
  },
  {
   "cell_type": "code",
   "execution_count": 127,
   "metadata": {},
   "outputs": [],
   "source": [
    "# Datos para actualizar el bloque, por ejemplo, un bloque de párrafo con nuevo texto.\n",
    "Data_Actualizada = {\n",
    "    \"paragraph\": {\n",
    "        \"rich_text\": [\n",
    "            {\n",
    "                \"type\": \"text\",\n",
    "                \"text\": {\n",
    "                    \"content\": \"Este es el nuevo contenido del bloque.\"\n",
    "                }\n",
    "            }\n",
    "        ]\n",
    "    }\n",
    "}"
   ]
  },
  {
   "cell_type": "code",
   "execution_count": 128,
   "metadata": {},
   "outputs": [],
   "source": [
    "# Actualiza la información del bloque.\n",
    "Response = Notion.blocks.update(block_id=ID_Bloque, **Data_Actualizada)"
   ]
  },
  {
   "cell_type": "markdown",
   "metadata": {},
   "source": [
    "##### Editar el tipo de bloque"
   ]
  },
  {
   "cell_type": "markdown",
   "metadata": {},
   "source": [
    "La API de Notion no permite cambiar directamente ciertos tipos de bloques a otros, como convertir un párrafo en un callout o viceversa.\n",
    "\n",
    "Para solucionar esto, se siguen estos pasos:\n",
    "\n",
    "- Guardar contenido del bloque original.\n",
    "- Crear un nuevo bloque con los datos guardados en la misma posición.\n",
    "- Eliminar bloque original.\n",
    "- Insertar nuevo bloque."
   ]
  },
  {
   "cell_type": "code",
   "execution_count": 129,
   "metadata": {},
   "outputs": [],
   "source": [
    "# Paso 1: Obtener los detalles del bloque existente sabiendo que es 'paragraph'.\n",
    "\n",
    "Block = Notion.blocks.retrieve(block_id=ID_Bloque)\n",
    "Block_Content = Block['paragraph']['rich_text'][0]['text']['content']"
   ]
  },
  {
   "cell_type": "code",
   "execution_count": 130,
   "metadata": {},
   "outputs": [],
   "source": [
    "# Paso 2: Crear un nuevo callout justo después del bloque original.\n",
    "\n",
    "Bloque_Nuevo = {\n",
    "    \"object\": \"block\",\n",
    "    \"type\": \"callout\",\n",
    "    \"callout\": {\n",
    "        \"rich_text\": [\n",
    "            {\n",
    "                \"type\": \"text\",\n",
    "                \"text\": {\n",
    "                    \"content\": Block_Content\n",
    "                }\n",
    "            }\n",
    "        ],\n",
    "        \"icon\": {\n",
    "            \"type\": \"emoji\",\n",
    "            \"emoji\": \"💡\"\n",
    "        }\n",
    "    }\n",
    "}"
   ]
  },
  {
   "cell_type": "code",
   "execution_count": 131,
   "metadata": {},
   "outputs": [],
   "source": [
    "# Paso 3: Inserta el nuevo bloque.\n",
    "Insertar = Notion.blocks.children.append(\n",
    "    block_id=Block['parent']['page_id'],\n",
    "    children=[Bloque_Nuevo]\n",
    ")"
   ]
  },
  {
   "cell_type": "code",
   "execution_count": 132,
   "metadata": {},
   "outputs": [],
   "source": [
    "# Paso 4: Eliminar el bloque original.\n",
    "Eliminar = Notion.blocks.delete(block_id=ID_Bloque)"
   ]
  }
 ],
 "metadata": {
  "kernelspec": {
   "display_name": "Python 3",
   "language": "python",
   "name": "python3"
  },
  "language_info": {
   "codemirror_mode": {
    "name": "ipython",
    "version": 3
   },
   "file_extension": ".py",
   "mimetype": "text/x-python",
   "name": "python",
   "nbconvert_exporter": "python",
   "pygments_lexer": "ipython3",
   "version": "3.11.9"
  }
 },
 "nbformat": 4,
 "nbformat_minor": 2
}

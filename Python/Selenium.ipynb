{
 "cells": [
  {
   "cell_type": "markdown",
   "metadata": {},
   "source": [
    "### __Introducción__"
   ]
  },
  {
   "cell_type": "markdown",
   "metadata": {},
   "source": [
    "Selenium es una herramienta popular para la automatización de pruebas de aplicaciones web, así como para la interacción con navegadores de manera programática."
   ]
  },
  {
   "cell_type": "markdown",
   "metadata": {},
   "source": [
    "- Permite abrir y controlar varios navegadores (Chrome, Firefox, Safari, Edge, etc.) para realizar pruebas automatizadas en aplicaciones web.\n",
    "- Se puede iniciar una sesión de navegador, abrir una URL específica, y cerrar la sesión al final.\n",
    "- Debés tener el controlador del navegador correspondiente (por ejemplo, ChromeDriver para Google Chrome) y asegurarte de que su ubicación esté en el PATH del sistema o especificar la ruta en tu código."
   ]
  },
  {
   "cell_type": "code",
   "execution_count": 1,
   "metadata": {},
   "outputs": [],
   "source": [
    "from selenium import webdriver"
   ]
  },
  {
   "cell_type": "markdown",
   "metadata": {},
   "source": [
    "### __Navegador__"
   ]
  },
  {
   "cell_type": "markdown",
   "metadata": {},
   "source": [
    "##### Iniciar un nevagador"
   ]
  },
  {
   "cell_type": "code",
   "execution_count": 2,
   "metadata": {},
   "outputs": [],
   "source": [
    "Browser = webdriver.Chrome()\n",
    "\n",
    "# El resultado es iniciar Chrome.\n",
    "# Si no se especifica ninguna página, abre en blanco."
   ]
  },
  {
   "cell_type": "markdown",
   "metadata": {},
   "source": [
    "##### Abrir una URL"
   ]
  },
  {
   "cell_type": "code",
   "execution_count": 5,
   "metadata": {},
   "outputs": [],
   "source": [
    "Browser.get(\"https://www.promiedos.com.ar\")\n",
    "\n",
    "# Esto debe estar en la misma celda que el Driver."
   ]
  },
  {
   "cell_type": "markdown",
   "metadata": {},
   "source": [
    "##### Cerrar navegador"
   ]
  },
  {
   "cell_type": "code",
   "execution_count": null,
   "metadata": {},
   "outputs": [],
   "source": [
    "# Cerrar el navegador\n",
    "Browser.quit()"
   ]
  },
  {
   "cell_type": "markdown",
   "metadata": {},
   "source": [
    "### __Localizar elementos__"
   ]
  },
  {
   "cell_type": "markdown",
   "metadata": {},
   "source": [
    "##### Localizar elementos en la web"
   ]
  },
  {
   "cell_type": "code",
   "execution_count": 7,
   "metadata": {},
   "outputs": [],
   "source": [
    "from selenium.webdriver.common.by import By"
   ]
  },
  {
   "cell_type": "markdown",
   "metadata": {},
   "source": [
    "Se utiliza el método __find_element()__."
   ]
  },
  {
   "cell_type": "code",
   "execution_count": null,
   "metadata": {},
   "outputs": [],
   "source": [
    "# Por ID.\n",
    "Element = Browser.find_element(By.ID, \"ID\")"
   ]
  },
  {
   "cell_type": "code",
   "execution_count": null,
   "metadata": {},
   "outputs": [],
   "source": [
    "# Por nombre.\n",
    "Element = Browser.find_element(By.NAME, \"Name\")"
   ]
  },
  {
   "cell_type": "code",
   "execution_count": null,
   "metadata": {},
   "outputs": [],
   "source": [
    "# Por clase.\n",
    "Element = Browser.find_element(By.CLASS_NAME, \"Class_Name\")"
   ]
  },
  {
   "cell_type": "code",
   "execution_count": null,
   "metadata": {},
   "outputs": [],
   "source": [
    "# Por XPath.\n",
    "Element = Browser.find_element(By.XPATH, \"//tag[@attribute='Value']\")"
   ]
  },
  {
   "cell_type": "code",
   "execution_count": null,
   "metadata": {},
   "outputs": [],
   "source": [
    "# Por selector CSS.\n",
    "Element = Browser.find_element(By.CSS_SELECTOR, \"CSS_Selector\")"
   ]
  },
  {
   "cell_type": "markdown",
   "metadata": {},
   "source": [
    "##### Verificar si un elemento es visible"
   ]
  },
  {
   "cell_type": "code",
   "execution_count": null,
   "metadata": {},
   "outputs": [],
   "source": [
    "Is_Element_Visible = Browser.find_element(By.ID, \"ID_Element\").is_displayed()"
   ]
  },
  {
   "cell_type": "markdown",
   "metadata": {},
   "source": [
    "##### Verificar si un elemento está habilitado"
   ]
  },
  {
   "cell_type": "code",
   "execution_count": null,
   "metadata": {},
   "outputs": [],
   "source": [
    "Is_Element_Enabled = Browser.find_element(By.ID, \"ID_Element\").is_enabled()"
   ]
  },
  {
   "cell_type": "markdown",
   "metadata": {},
   "source": [
    "### __Interactuar con elementos__"
   ]
  },
  {
   "cell_type": "markdown",
   "metadata": {},
   "source": [
    "##### Hacer click en un botón"
   ]
  },
  {
   "cell_type": "code",
   "execution_count": null,
   "metadata": {},
   "outputs": [],
   "source": [
    "Button = Browser.find_element(By.ID, \"Button_ID\")\n",
    "Button.click()"
   ]
  },
  {
   "cell_type": "markdown",
   "metadata": {},
   "source": [
    "##### Enviar texto a un campo de entrada"
   ]
  },
  {
   "cell_type": "code",
   "execution_count": null,
   "metadata": {},
   "outputs": [],
   "source": [
    "Input_Field = Browser.find_element(By.NAME, \"Input_Name\")\n",
    "Input_Field.send_keys(\"Text\")"
   ]
  },
  {
   "cell_type": "markdown",
   "metadata": {},
   "source": [
    "##### Limpiar un campo de entrada"
   ]
  },
  {
   "cell_type": "code",
   "execution_count": null,
   "metadata": {},
   "outputs": [],
   "source": [
    "Input_Field.clear()"
   ]
  },
  {
   "cell_type": "markdown",
   "metadata": {},
   "source": [
    "##### Obtener texto de un elemento"
   ]
  },
  {
   "cell_type": "code",
   "execution_count": null,
   "metadata": {},
   "outputs": [],
   "source": [
    "Text = Browser.find_element(By.CLASS_NAME, \"Text_Class\").text"
   ]
  },
  {
   "cell_type": "markdown",
   "metadata": {},
   "source": [
    "##### Obtener atributo de un elemento"
   ]
  },
  {
   "cell_type": "code",
   "execution_count": null,
   "metadata": {},
   "outputs": [],
   "source": [
    "Element_Attribute = Browser.find_element(By.NAME, \"element_name\").get_attribute(\"Attribute\")"
   ]
  },
  {
   "cell_type": "markdown",
   "metadata": {},
   "source": [
    "##### Obtener el tamaño de un elemento"
   ]
  },
  {
   "cell_type": "code",
   "execution_count": null,
   "metadata": {},
   "outputs": [],
   "source": [
    "Element_Size = Browser.find_element(By.NAME, \"element_name\").size\n",
    "\n",
    "# Esto devuelve un diccionario con 'width' y 'height'."
   ]
  },
  {
   "cell_type": "markdown",
   "metadata": {},
   "source": [
    "##### Seleccionar un elemento de un menú desplegable"
   ]
  },
  {
   "cell_type": "code",
   "execution_count": null,
   "metadata": {},
   "outputs": [],
   "source": [
    "from selenium.webdriver.support.ui import Select"
   ]
  },
  {
   "cell_type": "code",
   "execution_count": null,
   "metadata": {},
   "outputs": [],
   "source": [
    "Select = Select(Browser.find_element(By.ID, \"dropdown\"))\n",
    "Select.select_by_visible_text(\"Option 1\")"
   ]
  },
  {
   "cell_type": "markdown",
   "metadata": {},
   "source": [
    "##### Presionar teclas especiales"
   ]
  },
  {
   "cell_type": "code",
   "execution_count": null,
   "metadata": {},
   "outputs": [],
   "source": [
    "from selenium.webdriver.common.keys import Keys"
   ]
  },
  {
   "cell_type": "markdown",
   "metadata": {},
   "source": [
    "La clase Keys se utiliza para representar teclas especiales en el teclado que no son letras ni números. "
   ]
  },
  {
   "cell_type": "code",
   "execution_count": null,
   "metadata": {},
   "outputs": [],
   "source": [
    "Input_Field = Browser.find_element(By.ID, \"input_field\")\n",
    "Input_Field.send_keys(\"Text\" + Keys.ENTER)\n",
    "\n",
    "# Envía un texto al campo y después apreta ENTER."
   ]
  },
  {
   "cell_type": "markdown",
   "metadata": {},
   "source": [
    "- _Keys.CONTROL_ → Control\n",
    "- _Keys.SHIFT_ → Shift\n",
    "- _Keys.ALT_ → Alt\n",
    "- _Keys.ENTER_ → Enter\n",
    "- _Keys.BACKSPACE_ → Retroceso\n",
    "- _Keys.TAB_ → Tabulador\n",
    "- _Keys.ESCAPE_ → Esc\n",
    "- _Keys.F1, Keys.F2, etc._ → F1, F2, etc.\n",
    "- _Keys.ARROW_UP_ → Flecha hacia arriba\n",
    "- _Keys.ARROW_DOWN_ → Flecha hacia abajo\n",
    "- _Keys.ARROW_LEFT_ → Flecha hacia la izquierda\n",
    "- _Keys.ARROW_RIGHT_ → Flecha hacia la derecha\n",
    "- _Keys.SPACE_ → Espacio\n",
    "- _Keys.PAGEDOWN_ → Avance de página\n",
    "- _Keys.PAGEUP_ → Retroceso de página\n",
    "- _Keys.HOME_ → Inicio\n",
    "- _Keys.END_ → Fin"
   ]
  },
  {
   "cell_type": "markdown",
   "metadata": {},
   "source": [
    "### __Esperas__"
   ]
  },
  {
   "cell_type": "markdown",
   "metadata": {},
   "source": [
    "##### Esperar a que un elemento sea visible"
   ]
  },
  {
   "cell_type": "code",
   "execution_count": 8,
   "metadata": {},
   "outputs": [],
   "source": [
    "from selenium.webdriver.support.ui import WebDriverWait\n",
    "from selenium.webdriver.support import expected_conditions as EC"
   ]
  },
  {
   "cell_type": "code",
   "execution_count": null,
   "metadata": {},
   "outputs": [],
   "source": [
    "# Espera de 10 segundos como máximo para que un elemento sea visible.\n",
    "Element = WebDriverWait(Browser, 10).until(\n",
    "    EC.visibility_of_element_located((By.ID, \"Element_ID\"))\n",
    ")"
   ]
  },
  {
   "cell_type": "markdown",
   "metadata": {},
   "source": [
    "##### Esperar que un elemento sea clikeable"
   ]
  },
  {
   "cell_type": "code",
   "execution_count": null,
   "metadata": {},
   "outputs": [],
   "source": [
    "Element = WebDriverWait(Browser, 10).until(\n",
    "    EC.element_to_be_clickable((By.ID, \"Button_ID\"))\n",
    ")"
   ]
  },
  {
   "cell_type": "markdown",
   "metadata": {},
   "source": [
    "##### Tomar captura de pantalla"
   ]
  },
  {
   "cell_type": "code",
   "execution_count": null,
   "metadata": {},
   "outputs": [],
   "source": [
    "Browser.save_screenshot(\"Capture.png\")"
   ]
  },
  {
   "cell_type": "markdown",
   "metadata": {},
   "source": [
    "### __Alertas__"
   ]
  },
  {
   "cell_type": "markdown",
   "metadata": {},
   "source": [
    "##### Interactuar con una alerta"
   ]
  },
  {
   "cell_type": "markdown",
   "metadata": {},
   "source": [
    "Esta línea de código cambia el contexto de Selenium para que pueda interactuar con una alerta que ha aparecido en el navegador."
   ]
  },
  {
   "cell_type": "code",
   "execution_count": null,
   "metadata": {},
   "outputs": [],
   "source": [
    "Alert = Browser.switch_to.alert\n",
    "\n",
    "# 'Alert' contiene el objeto de la alerta activa, para realizar\n",
    "# acciones sobre él."
   ]
  },
  {
   "cell_type": "markdown",
   "metadata": {},
   "source": [
    "##### Obtener texto de la alerta"
   ]
  },
  {
   "cell_type": "code",
   "execution_count": null,
   "metadata": {},
   "outputs": [],
   "source": [
    "Alert_Text = Alert.text\n",
    "print(\"Alert text:\", Alert_Text)"
   ]
  },
  {
   "cell_type": "markdown",
   "metadata": {},
   "source": [
    "##### Aceptar alerta"
   ]
  },
  {
   "cell_type": "code",
   "execution_count": null,
   "metadata": {},
   "outputs": [],
   "source": [
    "Alert.accept()"
   ]
  },
  {
   "cell_type": "markdown",
   "metadata": {},
   "source": [
    "##### Rechazar alerta"
   ]
  },
  {
   "cell_type": "code",
   "execution_count": null,
   "metadata": {},
   "outputs": [],
   "source": [
    "Alert.dismiss()"
   ]
  },
  {
   "cell_type": "markdown",
   "metadata": {},
   "source": [
    "### __Cookies__"
   ]
  },
  {
   "cell_type": "markdown",
   "metadata": {},
   "source": [
    "##### Obtener cookies"
   ]
  },
  {
   "cell_type": "code",
   "execution_count": null,
   "metadata": {},
   "outputs": [],
   "source": [
    "Cookies = Browser.get_cookies()\n",
    "print(Cookies)"
   ]
  },
  {
   "cell_type": "markdown",
   "metadata": {},
   "source": [
    "##### Añadir una cookie"
   ]
  },
  {
   "cell_type": "code",
   "execution_count": null,
   "metadata": {},
   "outputs": [],
   "source": [
    "Browser.add_cookie({\"name\": \"Name_Cookie\", \n",
    "                   \"value\": \"valor_Cookie\"})"
   ]
  },
  {
   "cell_type": "markdown",
   "metadata": {},
   "source": [
    "### __Código JavaScript__"
   ]
  },
  {
   "cell_type": "markdown",
   "metadata": {},
   "source": [
    "##### Ejecutar código JS"
   ]
  },
  {
   "cell_type": "code",
   "execution_count": null,
   "metadata": {},
   "outputs": [],
   "source": [
    "Browser.execute_script(\"alert('Hola, mundo!');\")\n",
    "\n",
    "# Lo ejecuta en la página actual."
   ]
  },
  {
   "cell_type": "markdown",
   "metadata": {},
   "source": [
    "##### Modificar el DOM"
   ]
  },
  {
   "cell_type": "markdown",
   "metadata": {},
   "source": [
    "Cambiar el contenido de la página directamente."
   ]
  },
  {
   "cell_type": "code",
   "execution_count": null,
   "metadata": {},
   "outputs": [],
   "source": [
    "Browser.execute_script(\"document.body.style.backgroundColor = 'lightblue';\")"
   ]
  },
  {
   "cell_type": "markdown",
   "metadata": {},
   "source": [
    "##### Leer HTML de la página"
   ]
  },
  {
   "cell_type": "code",
   "execution_count": null,
   "metadata": {},
   "outputs": [],
   "source": [
    "HTML_Content = Browser.execute_script(\"return document.documentElement.outerHTML;\")\n",
    "print(HTML_Content)"
   ]
  },
  {
   "cell_type": "markdown",
   "metadata": {},
   "source": [
    "##### Navegar por el historial"
   ]
  },
  {
   "cell_type": "code",
   "execution_count": null,
   "metadata": {},
   "outputs": [],
   "source": [
    "Browser.execute_script(\"window.history.back();\")"
   ]
  },
  {
   "cell_type": "markdown",
   "metadata": {},
   "source": [
    "### __Ventana__"
   ]
  },
  {
   "cell_type": "markdown",
   "metadata": {},
   "source": [
    "##### Maximizar la ventana"
   ]
  },
  {
   "cell_type": "code",
   "execution_count": null,
   "metadata": {},
   "outputs": [],
   "source": [
    "Browser.maximize_window()"
   ]
  },
  {
   "cell_type": "markdown",
   "metadata": {},
   "source": [
    "##### Minimizar la ventana"
   ]
  },
  {
   "cell_type": "code",
   "execution_count": null,
   "metadata": {},
   "outputs": [],
   "source": [
    "Browser.minimize_window()"
   ]
  },
  {
   "cell_type": "markdown",
   "metadata": {},
   "source": [
    "##### Navegar hacia atrás"
   ]
  },
  {
   "cell_type": "code",
   "execution_count": null,
   "metadata": {},
   "outputs": [],
   "source": [
    "Browser.back()"
   ]
  },
  {
   "cell_type": "markdown",
   "metadata": {},
   "source": [
    "##### Navegar hacia adelante"
   ]
  },
  {
   "cell_type": "code",
   "execution_count": null,
   "metadata": {},
   "outputs": [],
   "source": [
    "Browser.forward()"
   ]
  },
  {
   "cell_type": "markdown",
   "metadata": {},
   "source": [
    "##### Refrescar página"
   ]
  },
  {
   "cell_type": "code",
   "execution_count": null,
   "metadata": {},
   "outputs": [],
   "source": [
    "Browser.refresh()"
   ]
  },
  {
   "cell_type": "markdown",
   "metadata": {},
   "source": [
    "##### Abrir una nueva pestaña"
   ]
  },
  {
   "cell_type": "code",
   "execution_count": null,
   "metadata": {},
   "outputs": [],
   "source": [
    "Browser.execute_script(\"window.open('https://www.example.com', '_blank');\")\n",
    "\n",
    "# execute_script: ejecuta código JS.\n",
    "# window.open: abrir pestaña o ventana nueva.\n",
    "# example.com: página que deseás abrir en la nueva pestaña.\n",
    "# _blank: especifica que debe ser una pestaña, no una ventana.\n"
   ]
  },
  {
   "cell_type": "markdown",
   "metadata": {},
   "source": [
    "##### Abrir una nueva ventana"
   ]
  },
  {
   "cell_type": "code",
   "execution_count": null,
   "metadata": {},
   "outputs": [],
   "source": [
    "Browser.execute_script(\"window.open('https://www.example.com', '_blank', width=800, height=600);\")\n",
    "\n",
    "# Especificando ancho y altura se abre una nueva ventana."
   ]
  },
  {
   "cell_type": "markdown",
   "metadata": {},
   "source": [
    "##### Cambiar a una pestaña abierta"
   ]
  },
  {
   "cell_type": "code",
   "execution_count": null,
   "metadata": {},
   "outputs": [],
   "source": [
    "Browser.switch_to.window(Browser.window_handles[1])  \n",
    "\n",
    "# Cambia a la segunda pestaña."
   ]
  },
  {
   "cell_type": "markdown",
   "metadata": {},
   "source": [
    "##### Obtener la URL actual"
   ]
  },
  {
   "cell_type": "code",
   "execution_count": null,
   "metadata": {},
   "outputs": [],
   "source": [
    "Current_URL = Browser.current_url"
   ]
  },
  {
   "cell_type": "markdown",
   "metadata": {},
   "source": [
    "##### Obtener el título de la página"
   ]
  },
  {
   "cell_type": "code",
   "execution_count": null,
   "metadata": {},
   "outputs": [],
   "source": [
    "Page_Title = Browser.title"
   ]
  },
  {
   "cell_type": "markdown",
   "metadata": {},
   "source": [
    "##### Scrollear hacia un elemento"
   ]
  },
  {
   "cell_type": "code",
   "execution_count": null,
   "metadata": {},
   "outputs": [],
   "source": [
    "# Busca un elemento en particular hacia el que scrollear.\n",
    "Element_To_Scroll = Browser.find_element(By.ID, \"element_id\")"
   ]
  },
  {
   "cell_type": "code",
   "execution_count": null,
   "metadata": {},
   "outputs": [],
   "source": [
    "# Ejecuta código JavaScript.\n",
    "Browser.execute_script(\"arguments[0].scrollIntoView();\", Element_To_Scroll)\n",
    "\n",
    "# arguments[0]: se refiere al primer argumento pasado al script:\n",
    "# Element_To_Scroll.\n",
    "\n",
    "# scroolIntoView(): función de JS que desplaza la página para que\n",
    "# el elemento que se referencia sea visible."
   ]
  },
  {
   "cell_type": "markdown",
   "metadata": {},
   "source": [
    "### __Acciones complejas__"
   ]
  },
  {
   "cell_type": "markdown",
   "metadata": {},
   "source": [
    "ActionChains es una clase en Selenium que te permite realizar una serie de acciones complejas que involucran el mouse y el teclado. Estas acciones son útiles para simular interacciones de usuario que no se pueden realizar con comandos simples, como hacer clic o escribir texto. "
   ]
  },
  {
   "cell_type": "code",
   "execution_count": null,
   "metadata": {},
   "outputs": [],
   "source": [
    "from selenium.webdriver.common.action_chains import ActionChains"
   ]
  },
  {
   "cell_type": "markdown",
   "metadata": {},
   "source": [
    "##### Crear una instancia de la clase ActionChains"
   ]
  },
  {
   "cell_type": "code",
   "execution_count": null,
   "metadata": {},
   "outputs": [],
   "source": [
    "Actions = ActionChains(Browser)"
   ]
  },
  {
   "cell_type": "markdown",
   "metadata": {},
   "source": [
    "##### Ejecutar las acciones especificadas con perform()"
   ]
  },
  {
   "cell_type": "code",
   "execution_count": null,
   "metadata": {},
   "outputs": [],
   "source": [
    "Actions.move_to_element(Element).click().perform()"
   ]
  },
  {
   "cell_type": "markdown",
   "metadata": {},
   "source": [
    "##### Mover cursor a posición relativa"
   ]
  },
  {
   "cell_type": "code",
   "execution_count": null,
   "metadata": {},
   "outputs": [],
   "source": [
    "Actions.move_by_offset(100, 0).perform()  \n",
    "\n",
    "# Mueve 100 píxeles a la derecha de dónde está actualmente.\n",
    "# Primer argumento: Valores+ (Derecha), Valores- (Izquierda).\n",
    "# Segundo argumento: Valores+ (Abajo), Valores- (Arriba)."
   ]
  },
  {
   "cell_type": "markdown",
   "metadata": {},
   "source": [
    "##### Mover cursor a elemento"
   ]
  },
  {
   "cell_type": "code",
   "execution_count": null,
   "metadata": {},
   "outputs": [],
   "source": [
    "Actions.move_to_element(Element).perform()"
   ]
  },
  {
   "cell_type": "markdown",
   "metadata": {},
   "source": [
    "##### Mover cursor a elemento y luego moverlo de ahí"
   ]
  },
  {
   "cell_type": "code",
   "execution_count": null,
   "metadata": {},
   "outputs": [],
   "source": [
    "Actions.move_to_element_with_offset(Element, 10, 10).perform()\n",
    "\n",
    "# Primero llega, luego se desplaza en píxeles."
   ]
  },
  {
   "cell_type": "markdown",
   "metadata": {},
   "source": [
    "##### Mover cursor a elemento y clickearlo"
   ]
  },
  {
   "cell_type": "code",
   "execution_count": null,
   "metadata": {},
   "outputs": [],
   "source": [
    "Actions.move_to_element_and_click(Element).perform()"
   ]
  },
  {
   "cell_type": "markdown",
   "metadata": {},
   "source": [
    "##### Click a un elemento"
   ]
  },
  {
   "cell_type": "code",
   "execution_count": null,
   "metadata": {},
   "outputs": [],
   "source": [
    "Actions.click(Element).perform()\n",
    "\n",
    "# Si no se le pasa Element, hace click en posición actual."
   ]
  },
  {
   "cell_type": "markdown",
   "metadata": {},
   "source": [
    "##### Doble click en un elemento"
   ]
  },
  {
   "cell_type": "code",
   "execution_count": null,
   "metadata": {},
   "outputs": [],
   "source": [
    "Actions.double_click(Element).perform()"
   ]
  },
  {
   "cell_type": "markdown",
   "metadata": {},
   "source": [
    "##### Click derecho en un elemento"
   ]
  },
  {
   "cell_type": "code",
   "execution_count": null,
   "metadata": {},
   "outputs": [],
   "source": [
    "Actions.context_click(Element).perform()"
   ]
  },
  {
   "cell_type": "markdown",
   "metadata": {},
   "source": [
    "##### Click sostenido en un elemento"
   ]
  },
  {
   "cell_type": "code",
   "execution_count": null,
   "metadata": {},
   "outputs": [],
   "source": [
    "Actions.click_and_hold(Element).release(Element).perform()\n",
    "\n",
    "# click_and_hold: clickea y presiona.\n",
    "# release: suelta el click."
   ]
  },
  {
   "cell_type": "markdown",
   "metadata": {},
   "source": [
    "##### Simular arraste de elemento a posición específica"
   ]
  },
  {
   "cell_type": "code",
   "execution_count": null,
   "metadata": {},
   "outputs": [],
   "source": [
    "Actions.drag_and_drop_by_offset(Element, 50, 0).perform()  \n",
    "\n",
    "# Arrastra 50 píxeles a la derecha."
   ]
  },
  {
   "cell_type": "markdown",
   "metadata": {},
   "source": [
    "##### Simular arrastre de elemento hasta otro elemento"
   ]
  },
  {
   "cell_type": "code",
   "execution_count": null,
   "metadata": {},
   "outputs": [],
   "source": [
    "Actions.drag_and_drop(Source_Element, Target_Element).perform()"
   ]
  },
  {
   "cell_type": "markdown",
   "metadata": {},
   "source": [
    "##### Escribir en campo de entrada"
   ]
  },
  {
   "cell_type": "code",
   "execution_count": null,
   "metadata": {},
   "outputs": [],
   "source": [
    "Actions.send_keys(\"Texto a escribir\").perform()"
   ]
  },
  {
   "cell_type": "markdown",
   "metadata": {},
   "source": [
    "##### Enviar teclas a un elemento"
   ]
  },
  {
   "cell_type": "code",
   "execution_count": null,
   "metadata": {},
   "outputs": [],
   "source": [
    "Actions.send_keys_to_element(Element, \"Texto a escribir\").perform()"
   ]
  },
  {
   "cell_type": "markdown",
   "metadata": {},
   "source": [
    "##### Pausar ejecución"
   ]
  },
  {
   "cell_type": "code",
   "execution_count": null,
   "metadata": {},
   "outputs": [],
   "source": [
    "Actions.move_to_element(Element).pause(2).click().perform()\n",
    "\n",
    "# En segundos."
   ]
  },
  {
   "cell_type": "markdown",
   "metadata": {},
   "source": [
    "##### Restablecer acciones acumuladas"
   ]
  },
  {
   "cell_type": "code",
   "execution_count": null,
   "metadata": {},
   "outputs": [],
   "source": [
    "Actions.reset_actions()"
   ]
  },
  {
   "cell_type": "markdown",
   "metadata": {},
   "source": [
    "##### Simular scroll de pantalla"
   ]
  },
  {
   "cell_type": "code",
   "execution_count": null,
   "metadata": {},
   "outputs": [],
   "source": [
    "Actions.scroll_from_origin('viewport', 0, 100).perform()\n",
    "\n",
    "# scroll_from_origin(origin, xoffset, yoffset).\n",
    "# Es relativo a dónde está actualmente."
   ]
  },
  {
   "cell_type": "markdown",
   "metadata": {},
   "source": [
    "Origin puede ser:\n",
    "- 'viewport'. Scroll desde la parte superior izquierda.\n",
    "- 'element'. Scroll desde el borde superior izquierdo de un elemento en específico."
   ]
  },
  {
   "cell_type": "markdown",
   "metadata": {},
   "source": [
    "##### Mantener presionada una tecla"
   ]
  },
  {
   "cell_type": "code",
   "execution_count": null,
   "metadata": {},
   "outputs": [],
   "source": [
    "Actions.key_down(Keys.CONTROL).send_keys('a').key_up(Keys.CONTROL).perform()\n",
    "\n",
    "# Útil para combinación de teclas (CTRL + A).\n",
    "# key_down: presiona.\n",
    "# key_up: suelta."
   ]
  },
  {
   "cell_type": "code",
   "execution_count": null,
   "metadata": {},
   "outputs": [],
   "source": []
  }
 ],
 "metadata": {
  "kernelspec": {
   "display_name": "Python 3",
   "language": "python",
   "name": "python3"
  },
  "language_info": {
   "codemirror_mode": {
    "name": "ipython",
    "version": 3
   },
   "file_extension": ".py",
   "mimetype": "text/x-python",
   "name": "python",
   "nbconvert_exporter": "python",
   "pygments_lexer": "ipython3",
   "version": "3.11.9"
  }
 },
 "nbformat": 4,
 "nbformat_minor": 2
}

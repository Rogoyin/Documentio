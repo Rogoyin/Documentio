{
 "cells": [
  {
   "cell_type": "markdown",
   "metadata": {},
   "source": [
    "### __Introducción__"
   ]
  },
  {
   "cell_type": "markdown",
   "metadata": {},
   "source": [
    "Una lista es una colección ordenada y mutable de elementos en Python. Puede contener elementos de diferentes tipos, como enteros, cadenas, flotantes, u otras listas. Las listas se definen utilizando corchetes [], y los elementos están separados por comas."
   ]
  },
  {
   "cell_type": "markdown",
   "metadata": {},
   "source": [
    "##### Crear una lista vacía"
   ]
  },
  {
   "cell_type": "code",
   "execution_count": 3,
   "metadata": {},
   "outputs": [],
   "source": [
    "# Crear lista vacía.\n",
    "\n",
    "List = []"
   ]
  },
  {
   "cell_type": "markdown",
   "metadata": {},
   "source": [
    "##### Crear listas con elementos"
   ]
  },
  {
   "cell_type": "code",
   "execution_count": 4,
   "metadata": {},
   "outputs": [],
   "source": [
    "# Listas con elementos.\n",
    "\n",
    "Numbers = [1, 2, 3, 4, 5]\n",
    "Strings = [\"Ana\", \"Luis\", \"Carlos\"]\n",
    "Mix = [1, \"Hola\", 3.14, True]"
   ]
  },
  {
   "cell_type": "markdown",
   "metadata": {},
   "source": [
    "##### Acceder a un elemento específico"
   ]
  },
  {
   "cell_type": "code",
   "execution_count": 5,
   "metadata": {},
   "outputs": [
    {
     "data": {
      "text/plain": [
       "1"
      ]
     },
     "execution_count": 5,
     "metadata": {},
     "output_type": "execute_result"
    }
   ],
   "source": [
    "# Acceder a un elemento.\n",
    "\n",
    "Numbers[0]"
   ]
  },
  {
   "cell_type": "markdown",
   "metadata": {},
   "source": [
    "##### Acceder a un elemento contando desde atrás"
   ]
  },
  {
   "cell_type": "code",
   "execution_count": 6,
   "metadata": {},
   "outputs": [
    {
     "data": {
      "text/plain": [
       "5"
      ]
     },
     "execution_count": 6,
     "metadata": {},
     "output_type": "execute_result"
    }
   ],
   "source": [
    "Numbers[-1]\n",
    "# Se accede al último valor."
   ]
  },
  {
   "cell_type": "markdown",
   "metadata": {},
   "source": [
    "##### Acceder a un elemento en una lista de listas"
   ]
  },
  {
   "cell_type": "code",
   "execution_count": 7,
   "metadata": {},
   "outputs": [],
   "source": [
    "List_Of_Lists = [[1,2], [3,4]]\n",
    "\n",
    "Numero = List_Of_Lists[1][1]\n",
    "# Output: 4"
   ]
  },
  {
   "cell_type": "markdown",
   "metadata": {},
   "source": [
    "##### Modificar un elemento"
   ]
  },
  {
   "cell_type": "code",
   "execution_count": 8,
   "metadata": {},
   "outputs": [],
   "source": [
    "Numbers[0] = 100"
   ]
  },
  {
   "cell_type": "markdown",
   "metadata": {},
   "source": [
    "### __Agregar elementos__"
   ]
  },
  {
   "cell_type": "markdown",
   "metadata": {},
   "source": [
    "La función __append()__ agrega un solo elemento al final de la lista."
   ]
  },
  {
   "cell_type": "code",
   "execution_count": 9,
   "metadata": {},
   "outputs": [],
   "source": [
    "Numbers.append(60)"
   ]
  },
  {
   "cell_type": "markdown",
   "metadata": {},
   "source": [
    "La función __extend()__ agrega varios elementos (otra lista o cualquier iterable) al final de la lista."
   ]
  },
  {
   "cell_type": "code",
   "execution_count": 10,
   "metadata": {},
   "outputs": [],
   "source": [
    "Numbers.extend([70, 80])"
   ]
  },
  {
   "cell_type": "markdown",
   "metadata": {},
   "source": [
    "La función __insert()__ agrega un elemento en una posición específica."
   ]
  },
  {
   "cell_type": "code",
   "execution_count": 11,
   "metadata": {},
   "outputs": [],
   "source": [
    "Numbers.insert(2, 25)\n",
    "\n",
    "# Inserta el elemento 25 en la posición 2."
   ]
  },
  {
   "cell_type": "markdown",
   "metadata": {},
   "source": [
    "La función __collections.deque__ agrega elementos al principio de la lista."
   ]
  },
  {
   "cell_type": "code",
   "execution_count": 12,
   "metadata": {},
   "outputs": [],
   "source": [
    "from collections import deque\n",
    "\n",
    "# Crea un iterador del tipo 'deque'.\n",
    "List = deque([1, 2, 3])\n",
    "List.appendleft(0)\n",
    "\n",
    "# List = [0, 1, 2, 3]"
   ]
  },
  {
   "cell_type": "markdown",
   "metadata": {},
   "source": [
    "### __Operaciones con listas__"
   ]
  },
  {
   "cell_type": "markdown",
   "metadata": {},
   "source": [
    "##### Sumar listas"
   ]
  },
  {
   "cell_type": "markdown",
   "metadata": {},
   "source": [
    "Las lista se concatenan sumándolas."
   ]
  },
  {
   "cell_type": "code",
   "execution_count": 13,
   "metadata": {},
   "outputs": [],
   "source": [
    "A = [1, 2, 3]\n",
    "B = [4, 5]\n",
    "\n",
    "C = A + B\n",
    "\n",
    "# C = [1, 2, 3, 4, 5]"
   ]
  },
  {
   "cell_type": "markdown",
   "metadata": {},
   "source": [
    "##### Multiplicar listas"
   ]
  },
  {
   "cell_type": "markdown",
   "metadata": {},
   "source": [
    "También se las puede multiplicar."
   ]
  },
  {
   "cell_type": "code",
   "execution_count": 14,
   "metadata": {},
   "outputs": [],
   "source": [
    "B = [4, 5]\n",
    "\n",
    "C = B * 5\n",
    "\n",
    "# C = [4, 5, 4, 5, 4, 5, 4, 5, 4, 5]"
   ]
  },
  {
   "cell_type": "markdown",
   "metadata": {},
   "source": [
    "##### Extender una lista con otra"
   ]
  },
  {
   "cell_type": "markdown",
   "metadata": {},
   "source": [
    "Con la función __extend()__ agregás todos los elementos de una lista a otra lista."
   ]
  },
  {
   "cell_type": "code",
   "execution_count": 15,
   "metadata": {},
   "outputs": [],
   "source": [
    "List1 = [1, 2, 3]\n",
    "List2 = [4, 5, 6]\n",
    "List1.extend(List2)\n",
    "# List1 = [1, 2, 3, 4, 5, 6]"
   ]
  },
  {
   "cell_type": "markdown",
   "metadata": {},
   "source": [
    "##### Combinar elementos de listas en tuplas"
   ]
  },
  {
   "cell_type": "markdown",
   "metadata": {},
   "source": [
    "La función __zip()__ combina elementos de dos o más listas en tuplas. Es decir, toma el elemento 0 de la lista A y el 0 de la lista B y los pone en una tupla; y así con todos. El resultado es una lista de tuplas."
   ]
  },
  {
   "cell_type": "code",
   "execution_count": 16,
   "metadata": {},
   "outputs": [],
   "source": [
    "Names = [\"Ana\", \"Luis\"]\n",
    "Ages = [25, 30]\n",
    "\n",
    "Tuplas = list(zip(Names, Ages))\n",
    "# Tuplas = [('Ana', 25), ('Luis', 30)]"
   ]
  },
  {
   "cell_type": "markdown",
   "metadata": {},
   "source": [
    "##### Sumar todos los elementos"
   ]
  },
  {
   "cell_type": "markdown",
   "metadata": {},
   "source": [
    "Sumar todos los elementos de una lista con sum()."
   ]
  },
  {
   "cell_type": "code",
   "execution_count": 17,
   "metadata": {},
   "outputs": [],
   "source": [
    "Suma = sum(A)"
   ]
  },
  {
   "cell_type": "markdown",
   "metadata": {},
   "source": [
    "##### Revertir lista"
   ]
  },
  {
   "cell_type": "markdown",
   "metadata": {},
   "source": [
    "Se puede revertir una lista de varias maneras. Por ejemplo, con la función __reverse()__, que la modifica directamente."
   ]
  },
  {
   "cell_type": "code",
   "execution_count": 18,
   "metadata": {},
   "outputs": [],
   "source": [
    "List = [4, 5, 6]\n",
    "List.reverse()\n",
    "# List = [6, 5, 4]"
   ]
  },
  {
   "cell_type": "markdown",
   "metadata": {},
   "source": [
    "##### Aplanar listas"
   ]
  },
  {
   "cell_type": "markdown",
   "metadata": {},
   "source": [
    "Con la función __itertools.chain__ se pueden aplanar listas de listas. Es decir, pasan a ser una sola lista."
   ]
  },
  {
   "cell_type": "code",
   "execution_count": 19,
   "metadata": {},
   "outputs": [],
   "source": [
    "from itertools import chain\n",
    "\n",
    "List_Of_Lists = [[1, 2], [3, 4]]\n",
    "Aplanada = list(chain(*List_Of_Lists))\n",
    "\n",
    "# Salida: [1, 2, 3, 4]"
   ]
  },
  {
   "cell_type": "markdown",
   "metadata": {},
   "source": [
    "##### Eliminar duplicados manteniendo orden"
   ]
  },
  {
   "cell_type": "markdown",
   "metadata": {},
   "source": [
    "Con la función __dict.fromkeys()__ se pueden eliminar los duplicados manteniendo el orden."
   ]
  },
  {
   "cell_type": "code",
   "execution_count": 20,
   "metadata": {},
   "outputs": [],
   "source": [
    "List = [1, 2, 2, 3, 1]\n",
    "Without_Duplicates = list(dict.fromkeys(List))\n",
    "# Without_Duplicates = [1, 2, 3]"
   ]
  },
  {
   "cell_type": "markdown",
   "metadata": {},
   "source": [
    "##### Convertir una lista en una cadena de string"
   ]
  },
  {
   "cell_type": "markdown",
   "metadata": {},
   "source": [
    "Con el método __join()__ se pueden unir los elementos de una lista en una sola cadena, separada por un delimitador."
   ]
  },
  {
   "cell_type": "code",
   "execution_count": 21,
   "metadata": {},
   "outputs": [],
   "source": [
    "String_List = [\"Hola\", \"mundo\", \"cruel\"]\n",
    "String = \" - \".join(String_List)\n",
    "\n",
    "# String = \"Hola - mundo - cruel\"\n",
    "# El separador de los elementos de la lista en el string es \" - \""
   ]
  },
  {
   "cell_type": "markdown",
   "metadata": {},
   "source": [
    "### __Copiar listas__"
   ]
  },
  {
   "cell_type": "markdown",
   "metadata": {},
   "source": [
    "Con __copy.deepcopy()__ se generan copias de listas complejas para evitar modificaciones."
   ]
  },
  {
   "cell_type": "code",
   "execution_count": 22,
   "metadata": {},
   "outputs": [],
   "source": [
    "import copy\n",
    "\n",
    "Original = [[1, 2], [3, 4]]\n",
    "Copy = copy.deepcopy(Original)\n",
    "\n",
    "# Altero un elemento.\n",
    "Copy[0][0] = 9\n",
    "\n",
    "# Original = [[1, 2], [3, 4]]\n",
    "# Original no se alteró."
   ]
  },
  {
   "cell_type": "markdown",
   "metadata": {},
   "source": [
    "### __Manejo de errores__"
   ]
  },
  {
   "cell_type": "markdown",
   "metadata": {},
   "source": [
    "Evitar errores al acceder a índices fuera de rango."
   ]
  },
  {
   "cell_type": "code",
   "execution_count": 23,
   "metadata": {},
   "outputs": [
    {
     "name": "stdout",
     "output_type": "stream",
     "text": [
      "Índice fuera de rango\n"
     ]
    }
   ],
   "source": [
    "try:\n",
    "    print(List[1000])\n",
    "except IndexError:\n",
    "    print(\"Índice fuera de rango\")"
   ]
  },
  {
   "cell_type": "markdown",
   "metadata": {},
   "source": [
    "### __Iteraciones__"
   ]
  },
  {
   "cell_type": "markdown",
   "metadata": {},
   "source": [
    "##### Iterar sobre índice y valor"
   ]
  },
  {
   "cell_type": "markdown",
   "metadata": {},
   "source": [
    "Con el iterador __enumerate()__ podés iterar sobre el índice y el valor de cada elemento de una lista."
   ]
  },
  {
   "cell_type": "code",
   "execution_count": 24,
   "metadata": {},
   "outputs": [
    {
     "name": "stdout",
     "output_type": "stream",
     "text": [
      "Índice: 0, Valor: 1\n",
      "Índice: 1, Valor: 2\n",
      "Índice: 2, Valor: 2\n",
      "Índice: 3, Valor: 3\n",
      "Índice: 4, Valor: 1\n"
     ]
    }
   ],
   "source": [
    "for Index, Value in enumerate(List):\n",
    "    print(f\"Índice: {Index}, Valor: {Value}\")"
   ]
  },
  {
   "cell_type": "markdown",
   "metadata": {},
   "source": [
    "##### Aplicar una función a todos los elementos"
   ]
  },
  {
   "cell_type": "markdown",
   "metadata": {},
   "source": [
    "Con la función __map()__ recorrés todos los elementos de una lista y le aplicás una función."
   ]
  },
  {
   "cell_type": "code",
   "execution_count": 25,
   "metadata": {},
   "outputs": [],
   "source": [
    "Doble_C = list(map(lambda x: x*2, C))\n",
    "\n",
    "# Le aplico la función x*2 a todos los elementos de C, obteniendo el doble."
   ]
  },
  {
   "cell_type": "markdown",
   "metadata": {},
   "source": [
    "### __Slicing (Sublistas)__"
   ]
  },
  {
   "cell_type": "markdown",
   "metadata": {},
   "source": [
    "Se pueden subdividir en sublistas."
   ]
  },
  {
   "cell_type": "code",
   "execution_count": 26,
   "metadata": {},
   "outputs": [],
   "source": [
    "Lista = ['a', 'b', 'c', 'd', 'e']\n",
    "\n",
    "Sublista = Lista[0:2]\n",
    "# La sublista va del elemento 0 al elemento 1 (el último número es excluido).\n",
    "# Sublista = ['a', 'b']"
   ]
  },
  {
   "cell_type": "code",
   "execution_count": 27,
   "metadata": {},
   "outputs": [],
   "source": [
    "Sublista = Lista[:2]\n",
    "# La sublista va del principio al elemento 1 (el último número es excluido).\n",
    "# Sublista = ['a', 'b']"
   ]
  },
  {
   "cell_type": "code",
   "execution_count": 28,
   "metadata": {},
   "outputs": [],
   "source": [
    "Sublista = Lista[3:]\n",
    "# La sublista va del elemento 1 hasta el final.\n",
    "# Sublista = ['d', 'e']"
   ]
  },
  {
   "cell_type": "markdown",
   "metadata": {},
   "source": [
    "Se puede revertir una lista con [::-1]"
   ]
  },
  {
   "cell_type": "code",
   "execution_count": 29,
   "metadata": {},
   "outputs": [],
   "source": [
    "List = [1, 2, 3]\n",
    "Reverse = List[::-1]\n",
    "\n",
    "# Reverse = [3, 2, 1]"
   ]
  },
  {
   "cell_type": "markdown",
   "metadata": {},
   "source": [
    "### __Búsqueda de elementos__"
   ]
  },
  {
   "cell_type": "markdown",
   "metadata": {},
   "source": [
    "##### Verificar si un elemento está en la lista"
   ]
  },
  {
   "cell_type": "markdown",
   "metadata": {},
   "source": [
    "Verificar si un elemento está en la lista, devolviendo True o False."
   ]
  },
  {
   "cell_type": "code",
   "execution_count": 30,
   "metadata": {},
   "outputs": [
    {
     "data": {
      "text/plain": [
       "False"
      ]
     },
     "execution_count": 30,
     "metadata": {},
     "output_type": "execute_result"
    }
   ],
   "source": [
    "'c' in List"
   ]
  },
  {
   "cell_type": "markdown",
   "metadata": {},
   "source": [
    "##### Conseguir índice de elemento específico"
   ]
  },
  {
   "cell_type": "markdown",
   "metadata": {},
   "source": [
    "La función __index(Lista)__ busca un elemento y devuelve su índice."
   ]
  },
  {
   "cell_type": "code",
   "execution_count": 31,
   "metadata": {},
   "outputs": [
    {
     "data": {
      "text/plain": [
       "3"
      ]
     },
     "execution_count": 31,
     "metadata": {},
     "output_type": "execute_result"
    }
   ],
   "source": [
    "Lista.index('d')"
   ]
  },
  {
   "cell_type": "markdown",
   "metadata": {},
   "source": [
    "##### Conseguir índices de elementos que cumplen una condición"
   ]
  },
  {
   "cell_type": "markdown",
   "metadata": {},
   "source": [
    "Obtener los índices de todos los elementos que cumplen determinadas condiciones con __enumerate()__."
   ]
  },
  {
   "cell_type": "code",
   "execution_count": 32,
   "metadata": {},
   "outputs": [],
   "source": [
    "List = [6, 2, 3, 2, 9, 2]\n",
    "Pares = [i for i, x in enumerate(List) if x % 2 == 0]\n",
    "\n",
    "# Index = [0, 1, 3, 5]"
   ]
  },
  {
   "cell_type": "markdown",
   "metadata": {},
   "source": [
    "##### Conseguir índices de todas las apariciones de un elemento"
   ]
  },
  {
   "cell_type": "markdown",
   "metadata": {},
   "source": [
    "Un __truco__ para obtener los índices de todas las apariciones de un elemento."
   ]
  },
  {
   "cell_type": "code",
   "execution_count": 33,
   "metadata": {},
   "outputs": [],
   "source": [
    "Element = 2\n",
    "List = [6, 2, 3, 2, 9, 2]\n",
    "Index = [i for i, x in enumerate(List) if x == Element]\n",
    "\n",
    "# Index = [1, 3, 5]"
   ]
  },
  {
   "cell_type": "markdown",
   "metadata": {},
   "source": [
    "##### Conseguir múltiples elementos a partir de sus índices"
   ]
  },
  {
   "cell_type": "markdown",
   "metadata": {},
   "source": [
    "La función __itemgetter()__ permite acceder a múltiples índices de una lista, obteniendo una tupla con los valores de los elementos con esos índices."
   ]
  },
  {
   "cell_type": "code",
   "execution_count": 34,
   "metadata": {},
   "outputs": [],
   "source": [
    "from operator import itemgetter\n",
    "\n",
    "Numbers = [10, 20, 30, 40, 50]\n",
    "Tupla = itemgetter(1, 3)(Numbers)  \n",
    "\n",
    "# Tupla = (20, 40)"
   ]
  },
  {
   "cell_type": "markdown",
   "metadata": {},
   "source": [
    "##### Conseguir el índice del primer elemento que cumple una condición"
   ]
  },
  {
   "cell_type": "markdown",
   "metadata": {},
   "source": [
    "La función __index()__ encuentra el primer índice de un valor específico."
   ]
  },
  {
   "cell_type": "code",
   "execution_count": 35,
   "metadata": {},
   "outputs": [],
   "source": [
    "Names = [\"Ana\", \"Luis\", \"Carlos\"]\n",
    "Index_Carlos = Names.index(\"Luis\")\n",
    "\n",
    "# Index_Carlos = 2"
   ]
  },
  {
   "cell_type": "markdown",
   "metadata": {},
   "source": [
    "##### Máximo"
   ]
  },
  {
   "cell_type": "code",
   "execution_count": 36,
   "metadata": {},
   "outputs": [
    {
     "data": {
      "text/plain": [
       "50"
      ]
     },
     "execution_count": 36,
     "metadata": {},
     "output_type": "execute_result"
    }
   ],
   "source": [
    "# Máximo.\n",
    "max(Numbers)"
   ]
  },
  {
   "cell_type": "markdown",
   "metadata": {},
   "source": [
    "##### Mínimo"
   ]
  },
  {
   "cell_type": "code",
   "execution_count": 37,
   "metadata": {},
   "outputs": [
    {
     "data": {
      "text/plain": [
       "10"
      ]
     },
     "execution_count": 37,
     "metadata": {},
     "output_type": "execute_result"
    }
   ],
   "source": [
    "# Mínimo.\n",
    "min(Numbers)"
   ]
  },
  {
   "cell_type": "markdown",
   "metadata": {},
   "source": [
    "### __Filtrar y verificar con condiciones__"
   ]
  },
  {
   "cell_type": "markdown",
   "metadata": {},
   "source": [
    "##### Comprobar si todos los elementos cumplen una condición"
   ]
  },
  {
   "cell_type": "markdown",
   "metadata": {},
   "source": [
    "Con la función __all()__ se puede comprobar si todos los elementos cumplen una condición."
   ]
  },
  {
   "cell_type": "code",
   "execution_count": 38,
   "metadata": {},
   "outputs": [],
   "source": [
    "Zeros = [0, 0, 0]\n",
    "All_Zeros = all(x == 0 for x in List)\n",
    "\n",
    "# All_Zeros = True"
   ]
  },
  {
   "cell_type": "markdown",
   "metadata": {},
   "source": [
    "__all()__ también devuelve True si todos los elementos de una lista son True o son 1."
   ]
  },
  {
   "cell_type": "code",
   "execution_count": 39,
   "metadata": {},
   "outputs": [],
   "source": [
    "Ones = [1, 1, 1]\n",
    "All_Ones = all(Ones)\n",
    "\n",
    "# All_Ones = True"
   ]
  },
  {
   "cell_type": "markdown",
   "metadata": {},
   "source": [
    "##### Comprobar si algún elemento cumple una condición"
   ]
  },
  {
   "cell_type": "markdown",
   "metadata": {},
   "source": [
    "Con la función __any()__ se puede comprobar si algún elemento cumple una condición."
   ]
  },
  {
   "cell_type": "code",
   "execution_count": 40,
   "metadata": {},
   "outputs": [],
   "source": [
    "List = [0, 1, 0]\n",
    "Any_Zero = any(x == 0 for x in List)\n",
    "\n",
    "# Any_Zero = True"
   ]
  },
  {
   "cell_type": "markdown",
   "metadata": {},
   "source": [
    "Se puede, a su vez, verificar si algún elemento es True o 1 con __any()__."
   ]
  },
  {
   "cell_type": "code",
   "execution_count": 41,
   "metadata": {},
   "outputs": [],
   "source": [
    "Any_True = any(List)\n",
    "\n",
    "# Any_True = True\n",
    "# En la lista List, de 0 y 1 (que los lee como True o False), hay un 1"
   ]
  },
  {
   "cell_type": "markdown",
   "metadata": {},
   "source": [
    "##### Filtrar elementos de una lista que cumplen una condición"
   ]
  },
  {
   "cell_type": "markdown",
   "metadata": {},
   "source": [
    "La función __filter()__ filtra los elementos de una lista que cumplen una condición."
   ]
  },
  {
   "cell_type": "code",
   "execution_count": 42,
   "metadata": {},
   "outputs": [],
   "source": [
    "Numbers = [1, 2, 3, 4, 5, 6]\n",
    "Pares = list(filter(lambda x: x % 2 == 0, Numbers))\n",
    "\n",
    "# Pares = [2, 4]\n",
    "# Le aplica la función x % 2 a todos los elementos, y ve cual cumple la condición de ser igual a 0. \n",
    "# Y se queda con esos elementos."
   ]
  },
  {
   "cell_type": "markdown",
   "metadata": {},
   "source": [
    "##### Filtrar repetidos y generar lista nueva"
   ]
  },
  {
   "cell_type": "markdown",
   "metadata": {},
   "source": [
    "El método __set()__ convierte una lista a un conjunto (set) para eliminar elementos duplicados y luego vuelve a convertirla en una lista."
   ]
  },
  {
   "cell_type": "code",
   "execution_count": 43,
   "metadata": {},
   "outputs": [],
   "source": [
    "Numbers = [1, 2, 2, 3, 4, 4, 5]\n",
    "Unique = list(set(Numbers))\n",
    "\n",
    "# Unique = [1, 2, 3, 4, 5]"
   ]
  },
  {
   "cell_type": "markdown",
   "metadata": {},
   "source": [
    "### __Sort__"
   ]
  },
  {
   "cell_type": "markdown",
   "metadata": {},
   "source": [
    "##### Ordenar elementos"
   ]
  },
  {
   "cell_type": "markdown",
   "metadata": {},
   "source": [
    "Ordenar listas con __sort()__, modificando la original."
   ]
  },
  {
   "cell_type": "code",
   "execution_count": 44,
   "metadata": {},
   "outputs": [],
   "source": [
    "Numbers = [3, 1, 4, 1, 5, 9]\n",
    "Numbers.sort()\n",
    "\n",
    "# Numbers = [1, 1, 3, 4, 5, 9]"
   ]
  },
  {
   "cell_type": "markdown",
   "metadata": {},
   "source": [
    "##### Ordenar a la inversa"
   ]
  },
  {
   "cell_type": "markdown",
   "metadata": {},
   "source": [
    "Ordenar, pero a la inversa."
   ]
  },
  {
   "cell_type": "code",
   "execution_count": 45,
   "metadata": {},
   "outputs": [],
   "source": [
    "Numbers.sort(reverse=True)\n",
    "\n",
    "# Numbers = [9, 5, 4, 3, 1, 1]"
   ]
  },
  {
   "cell_type": "markdown",
   "metadata": {},
   "source": [
    "##### Ordenar sin modificar lista original"
   ]
  },
  {
   "cell_type": "markdown",
   "metadata": {},
   "source": [
    "Ordenar una lista sin modificar la original con __sorted()__."
   ]
  },
  {
   "cell_type": "code",
   "execution_count": 46,
   "metadata": {},
   "outputs": [],
   "source": [
    "Numbers = [5, 2, 9, 1]\n",
    "Ordered = sorted(Numbers)\n",
    "\n",
    "# Ordered = [1, 2, 5, 9]"
   ]
  },
  {
   "cell_type": "markdown",
   "metadata": {},
   "source": [
    "##### Ordenar con funciones personalizadas"
   ]
  },
  {
   "cell_type": "markdown",
   "metadata": {},
   "source": [
    "__sort()__ y __sorted()__ permiten ordenar con una función personalizada mediante el argumento __key__.\n",
    "\n",
    "Lo que hace es iterar por todos los elementos de una lista y le aplica o analiza con la expresión que indica la key. A ese valor resultante lo va ordenando en una nueva lista, y de esa forma procede a ordenar los elementos."
   ]
  },
  {
   "cell_type": "code",
   "execution_count": 47,
   "metadata": {},
   "outputs": [],
   "source": [
    "Tuplas = [(1, 'uno'), (3, 'tres'), (2, 'dos')]\n",
    "\n",
    "Ordered = sorted(Tuplas, key=lambda x: x[0])\n",
    "\n",
    "# Ordered = [(1, 'uno'), (2, 'dos'), (3, 'tres')]\n",
    "# key indica cuál es la forma por la que debe ser analizada cada elemento de la lista. \n",
    "# En este caso, indica que debe mirarse el primer elemento ([0]) de cada elemento de la gran lista (que son tuplas).\n",
    "# Es decir, los ordena por el número.\n",
    "# Si fuera por las palabras, sería un orden alfabético.\n"
   ]
  },
  {
   "cell_type": "markdown",
   "metadata": {},
   "source": [
    "Otro ejemplo para que quede claro."
   ]
  },
  {
   "cell_type": "code",
   "execution_count": 48,
   "metadata": {},
   "outputs": [],
   "source": [
    "Ejemplo = [[1,100], [3,4], [2,8]]\n",
    "\n",
    "Ordered = sorted(Ejemplo , key=lambda x: x[1]/2)\n",
    "\n",
    "# Los ordena tomando el segundo elemento y dividiéndolo por 2."
   ]
  },
  {
   "cell_type": "markdown",
   "metadata": {},
   "source": [
    "### __Unpacking__"
   ]
  },
  {
   "cell_type": "markdown",
   "metadata": {},
   "source": [
    "Se pueden desempaquetar listas en variables individuales."
   ]
  },
  {
   "cell_type": "code",
   "execution_count": 49,
   "metadata": {},
   "outputs": [],
   "source": [
    "Elementos = [1, 2, 3]\n",
    "a, b, c = Elementos\n",
    "\n",
    "# Salida: 1 2 3\n",
    "# a = 1\n",
    "# b = 2\n",
    "# c = 3"
   ]
  },
  {
   "cell_type": "markdown",
   "metadata": {},
   "source": [
    "### __Longitud y cantidades en una lista__"
   ]
  },
  {
   "cell_type": "markdown",
   "metadata": {},
   "source": [
    "##### Longitud de una lista"
   ]
  },
  {
   "cell_type": "code",
   "execution_count": 50,
   "metadata": {},
   "outputs": [],
   "source": [
    "Longitud = len(Numbers)"
   ]
  },
  {
   "cell_type": "markdown",
   "metadata": {},
   "source": [
    "##### Contar cuántas veces aparece determinado elemento"
   ]
  },
  {
   "cell_type": "markdown",
   "metadata": {},
   "source": [
    "La función __count__ cuenta cuantas veces aparece determinado elemento en una lista."
   ]
  },
  {
   "cell_type": "code",
   "execution_count": 51,
   "metadata": {},
   "outputs": [
    {
     "data": {
      "text/plain": [
       "1"
      ]
     },
     "execution_count": 51,
     "metadata": {},
     "output_type": "execute_result"
    }
   ],
   "source": [
    "Numbers.count(1)\n",
    "\n",
    "# El número 1 aparece 2 veces en la lista."
   ]
  },
  {
   "cell_type": "markdown",
   "metadata": {},
   "source": [
    "##### Contar la frecuencia de todos los elementos"
   ]
  },
  {
   "cell_type": "markdown",
   "metadata": {},
   "source": [
    "La función __collections.Counter__ permite contar la frecuencia de elementos. Es decir, me dice cuántas veces sale cada cosa en la lista y lo guarda en un elemento 'Counter', parecido a un diccionario.\n",
    "\n",
    "Las claves son el valor del elemento (por ejemplo, 'Pedro'), y el valor es la cantidad de veces que aparece en la lista (por ejemplo, 8)."
   ]
  },
  {
   "cell_type": "code",
   "execution_count": 52,
   "metadata": {},
   "outputs": [],
   "source": [
    "from collections import Counter\n",
    "\n",
    "List = ['María', 'María', 'Raúl', 'María', 'Pedro', 'Raúl']\n",
    "Frequency = Counter(List)\n",
    "\n",
    "# Frequency = Counter({'María': 3, 'Raúl': 2, 'Pedro': 1})"
   ]
  },
  {
   "cell_type": "markdown",
   "metadata": {},
   "source": [
    "### __List comprehensions__"
   ]
  },
  {
   "cell_type": "markdown",
   "metadata": {},
   "source": [
    "Las comprensiones de listas son una forma compacta de crear listas. Te permiten aplicar una expresión a cada elemento de un iterable."
   ]
  },
  {
   "cell_type": "code",
   "execution_count": 53,
   "metadata": {},
   "outputs": [],
   "source": [
    "# Crear una lista de cuadrados.\n",
    "Cuadrados = [x**2 for x in range(10)]\n",
    "\n",
    "# Salida: [0, 1, 4, 9, 16, 25, 36, 49, 64, 81]\n",
    "\n",
    "# Explicación:\n",
    "# - x**2 es el patrón que van a seguir los elementos de la lista.\n",
    "# - 10 es hasta dónde va a iterar, es decir, la cantidad de elementos."
   ]
  },
  {
   "cell_type": "markdown",
   "metadata": {},
   "source": [
    "### __Constructores__"
   ]
  },
  {
   "cell_type": "markdown",
   "metadata": {},
   "source": [
    "##### Construir listas a partir de otros iteradores con list()"
   ]
  },
  {
   "cell_type": "markdown",
   "metadata": {},
   "source": [
    "Se pueden construir listas a partir de otros iteradores con la función __list()__."
   ]
  },
  {
   "cell_type": "code",
   "execution_count": 54,
   "metadata": {},
   "outputs": [],
   "source": [
    "# Tengo un arreglo.\n",
    "import numpy as np\n",
    "Array = np.array([1,2,3])\n",
    "\n",
    "# Lo convierto en lista.\n",
    "Lista = list(Array)"
   ]
  },
  {
   "cell_type": "markdown",
   "metadata": {},
   "source": [
    "##### Construir listas con números consecutivos"
   ]
  },
  {
   "cell_type": "markdown",
   "metadata": {},
   "source": [
    "Con __range()__ se pueden formar listas enormes con números consecutivos."
   ]
  },
  {
   "cell_type": "code",
   "execution_count": 55,
   "metadata": {},
   "outputs": [],
   "source": [
    "Deleted = list(range(0, 101, 1))\n",
    "\n",
    "# range(start, stop[, step])\n",
    "# start: El valor inicial de la secuencia (inclusive).\n",
    "# stop: El valor final de la secuencia (exclusivo).\n",
    "# step (opcional): El tamaño del paso entre los números en la secuencia. \n",
    "# Si no se proporciona, el valor predeterminado es 1."
   ]
  },
  {
   "cell_type": "markdown",
   "metadata": {},
   "source": [
    "##### Convertir una lista de tuplas en un diccionario"
   ]
  },
  {
   "cell_type": "markdown",
   "metadata": {},
   "source": [
    "Usando __dict()__ se puede convertir una lista de tuplas en un diccionario."
   ]
  },
  {
   "cell_type": "code",
   "execution_count": 56,
   "metadata": {},
   "outputs": [],
   "source": [
    "List = [(1, 'a'), (2, 'b'), (3, 'c')]\n",
    "Dict = dict(List)\n",
    "\n",
    "# Dict = {1: 'a', 2: 'b', 3: 'c'}"
   ]
  },
  {
   "cell_type": "markdown",
   "metadata": {},
   "source": [
    "##### Crear lista de números aleatorios"
   ]
  },
  {
   "cell_type": "markdown",
   "metadata": {},
   "source": [
    "Usando __random.sample()__ se puede obtener una muestra aleatoria de elementos. Se indica cuántos elementos se quiere que haya."
   ]
  },
  {
   "cell_type": "code",
   "execution_count": 57,
   "metadata": {},
   "outputs": [],
   "source": [
    "import random\n",
    "\n",
    "Numbers = [1, 2, 3, 4, 5]\n",
    "Random = random.sample(Numbers, 3)\n",
    "\n",
    "# Random = [2, 5, 1]\n",
    "# O puede salir cualquier otra cosa."
   ]
  },
  {
   "cell_type": "markdown",
   "metadata": {},
   "source": [
    "##### Cambiar el tipo de variable de todos los elementos"
   ]
  },
  {
   "cell_type": "markdown",
   "metadata": {},
   "source": [
    "Usando este __truco__ con list comprehension pasás de listas de números en strings a listas de enteros. También puede ser float, o viceversa."
   ]
  },
  {
   "cell_type": "code",
   "execution_count": 58,
   "metadata": {},
   "outputs": [],
   "source": [
    "Str_List = [\"1\", \"2\", \"3\"]\n",
    "Int_List = [int(x) for x in Str_List]\n",
    "\n",
    "# Int_List = [1, 2, 3]"
   ]
  },
  {
   "cell_type": "code",
   "execution_count": 59,
   "metadata": {},
   "outputs": [],
   "source": [
    "Float_List = [float(x) for x in Str_List]\n",
    "\n",
    "# Float_List = [1, 2, 3]"
   ]
  },
  {
   "cell_type": "markdown",
   "metadata": {},
   "source": [
    "### __Borrar elementos__"
   ]
  },
  {
   "cell_type": "markdown",
   "metadata": {},
   "source": [
    "##### Eliminar un elemento o segmento por índice"
   ]
  },
  {
   "cell_type": "markdown",
   "metadata": {},
   "source": [
    "La función __del__ elimina un elemento o un segmento de la lista especificando el índice."
   ]
  },
  {
   "cell_type": "code",
   "execution_count": 60,
   "metadata": {},
   "outputs": [],
   "source": [
    "del Deleted[1]\n",
    "\n",
    "# Borra el elemento 1 de la lista."
   ]
  },
  {
   "cell_type": "markdown",
   "metadata": {},
   "source": [
    "##### Eliminar primera aparición de elemento"
   ]
  },
  {
   "cell_type": "markdown",
   "metadata": {},
   "source": [
    "La función __remove()__ elimina la primera aparición de un elemento específico. Es decir, si, por ejemplo, '99' está en la posición 1 y 90, borra solo el '99' de la posición 1."
   ]
  },
  {
   "cell_type": "code",
   "execution_count": 61,
   "metadata": {},
   "outputs": [],
   "source": [
    "Deleted.remove(100)\n",
    "\n",
    "# Borra el valor '100': no confundir con posición 100."
   ]
  },
  {
   "cell_type": "markdown",
   "metadata": {},
   "source": [
    "##### Eliminar y obtener un elemento por su índice"
   ]
  },
  {
   "cell_type": "markdown",
   "metadata": {},
   "source": [
    "La función __pop()__ elimina y devuelve el elemento del índice especificado (o el último si no se especifica)."
   ]
  },
  {
   "cell_type": "code",
   "execution_count": 62,
   "metadata": {},
   "outputs": [],
   "source": [
    "Fifth_Element = Numbers.pop(4)\n",
    "\n",
    "# 'Fifth_Element' tiene el valor del quinto elemento de la lista, que fue borrado."
   ]
  },
  {
   "cell_type": "markdown",
   "metadata": {},
   "source": [
    "##### Eliminar segmentos con slicing"
   ]
  },
  {
   "cell_type": "markdown",
   "metadata": {},
   "source": [
    "Borrar elementos con slicing."
   ]
  },
  {
   "cell_type": "code",
   "execution_count": 63,
   "metadata": {},
   "outputs": [],
   "source": [
    "Deleted[2:4] = []\n",
    "\n",
    "# Borra los elementos desde el 2 hasta el 3."
   ]
  },
  {
   "cell_type": "markdown",
   "metadata": {},
   "source": [
    "##### Limpiar lista"
   ]
  },
  {
   "cell_type": "markdown",
   "metadata": {},
   "source": [
    "La función __clear__ elimina todos los elementos."
   ]
  },
  {
   "cell_type": "code",
   "execution_count": 64,
   "metadata": {},
   "outputs": [],
   "source": [
    "Deleted.clear()"
   ]
  }
 ],
 "metadata": {
  "kernelspec": {
   "display_name": "Python 3",
   "language": "python",
   "name": "python3"
  },
  "language_info": {
   "codemirror_mode": {
    "name": "ipython",
    "version": 3
   },
   "file_extension": ".py",
   "mimetype": "text/x-python",
   "name": "python",
   "nbconvert_exporter": "python",
   "pygments_lexer": "ipython3",
   "version": "3.11.9"
  }
 },
 "nbformat": 4,
 "nbformat_minor": 2
}

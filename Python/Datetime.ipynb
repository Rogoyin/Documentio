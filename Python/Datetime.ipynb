{
 "cells": [
  {
   "cell_type": "markdown",
   "metadata": {},
   "source": [
    "### __Introducción__"
   ]
  },
  {
   "cell_type": "markdown",
   "metadata": {},
   "source": [
    "El módulo datetime proporciona clases para manipular fechas y tiempos de una manera simple y compleja."
   ]
  },
  {
   "cell_type": "code",
   "execution_count": 2,
   "metadata": {},
   "outputs": [],
   "source": [
    "import datetime as dt"
   ]
  },
  {
   "cell_type": "markdown",
   "metadata": {},
   "source": [
    "__Formatos.__\n",
    "- _%Y_. Año con 4 dígitos (2024).\n",
    "- _%m_. Mes con 2 dígitos (01-12).\n",
    "- _%d_. Día del mes con 2 dígitos (01-31).\n",
    "- _%H_. Hora en formato 24 horas (00-23).\n",
    "- _%M_. Minuto con 2 dígitos (00-59).\n",
    "- _%S_. Segundo con 2 dígitos (00-59)."
   ]
  },
  {
   "cell_type": "markdown",
   "metadata": {},
   "source": [
    "##### Formatear un objeto"
   ]
  },
  {
   "cell_type": "markdown",
   "metadata": {},
   "source": [
    "La función __strftime(format)__ convierte un objeto de datetime, date, o time a una cadena formateada."
   ]
  },
  {
   "cell_type": "code",
   "execution_count": 19,
   "metadata": {},
   "outputs": [],
   "source": [
    "Ahora = dt.datetime.now()\n",
    "Datetime_Formateado = Ahora.strftime('%Y-%m-%d %H:%M:%S')\n",
    "\n",
    "# 2024-09-09 18:33:00"
   ]
  },
  {
   "cell_type": "markdown",
   "metadata": {},
   "source": [
    "##### Convertir una cadena de texto a objeto datetime"
   ]
  },
  {
   "cell_type": "markdown",
   "metadata": {},
   "source": [
    "La función __strptime(date_string, format)__ convierte una cadena de texto a un objeto datetime siguiendo un formato específico. Es decir, le especifico con el 'format' cómo debe leer el string para armar el objeto datetime."
   ]
  },
  {
   "cell_type": "code",
   "execution_count": 20,
   "metadata": {},
   "outputs": [
    {
     "data": {
      "text/plain": [
       "datetime.datetime(2024, 9, 9, 14, 30)"
      ]
     },
     "execution_count": 20,
     "metadata": {},
     "output_type": "execute_result"
    }
   ],
   "source": [
    "Fecha = dt.datetime.strptime('2024-09-09 14:30:00', '%Y-%m-%d %H:%M:%S')"
   ]
  },
  {
   "cell_type": "markdown",
   "metadata": {},
   "source": [
    "### __Fechas__"
   ]
  },
  {
   "cell_type": "markdown",
   "metadata": {},
   "source": [
    "##### Crear un objeto de tipo date"
   ]
  },
  {
   "cell_type": "code",
   "execution_count": 4,
   "metadata": {},
   "outputs": [],
   "source": [
    "Dia = dt.date(2024, 9, 9)  \n",
    "# Año, mes, día"
   ]
  },
  {
   "cell_type": "markdown",
   "metadata": {},
   "source": [
    "##### Retornar la fecha actual"
   ]
  },
  {
   "cell_type": "code",
   "execution_count": 6,
   "metadata": {},
   "outputs": [],
   "source": [
    "Hoy = Dia.today()"
   ]
  },
  {
   "cell_type": "markdown",
   "metadata": {},
   "source": [
    "##### Crear un objeto de tipo date desde formato ISO"
   ]
  },
  {
   "cell_type": "code",
   "execution_count": 10,
   "metadata": {},
   "outputs": [],
   "source": [
    "Dia = Dia.fromisoformat('2022-08-08')"
   ]
  },
  {
   "cell_type": "markdown",
   "metadata": {},
   "source": [
    "### __Hora__"
   ]
  },
  {
   "cell_type": "markdown",
   "metadata": {},
   "source": [
    "Es con la función __datetime.time__. Representa una hora del día (hora, minuto, segundo, microsegundo) sin información de fecha."
   ]
  },
  {
   "cell_type": "markdown",
   "metadata": {},
   "source": [
    "##### Creación de un objeto tipo time"
   ]
  },
  {
   "cell_type": "code",
   "execution_count": null,
   "metadata": {},
   "outputs": [],
   "source": [
    "Hora = dt.time(14, 30, 0)  \n",
    "# Hora, minuto, segundo"
   ]
  },
  {
   "cell_type": "markdown",
   "metadata": {},
   "source": [
    "### __Fecha y hora__"
   ]
  },
  {
   "cell_type": "markdown",
   "metadata": {},
   "source": [
    "Con la función __datetime.datetime__. Combina date y time en un solo objeto, representando una fecha y hora."
   ]
  },
  {
   "cell_type": "markdown",
   "metadata": {},
   "source": [
    "##### Crear un objeto del tipo datetime"
   ]
  },
  {
   "cell_type": "code",
   "execution_count": 13,
   "metadata": {},
   "outputs": [],
   "source": [
    "Fecha_Hora = dt.datetime(2024, 9, 9, 14, 30)  \n",
    "# Año, mes, día, hora, minuto."
   ]
  },
  {
   "cell_type": "markdown",
   "metadata": {},
   "source": [
    "##### Hora y fecha actual"
   ]
  },
  {
   "cell_type": "code",
   "execution_count": 15,
   "metadata": {},
   "outputs": [],
   "source": [
    "Ahora = Fecha_Hora.now()"
   ]
  },
  {
   "cell_type": "markdown",
   "metadata": {},
   "source": [
    "##### Convertir objeto datetime en string"
   ]
  },
  {
   "cell_type": "code",
   "execution_count": 16,
   "metadata": {},
   "outputs": [
    {
     "data": {
      "text/plain": [
       "'2024-09-09T14:30:00'"
      ]
     },
     "execution_count": 16,
     "metadata": {},
     "output_type": "execute_result"
    }
   ],
   "source": [
    "String_Hora = Fecha_Hora.isoformat()\n",
    "\n",
    "# Lo devuelve en formato YYYY-MM-DDT HH:MM."
   ]
  },
  {
   "cell_type": "markdown",
   "metadata": {},
   "source": [
    "### __Períodos de tiempo__"
   ]
  },
  {
   "cell_type": "markdown",
   "metadata": {},
   "source": [
    "Con la función __datetime.timedelta__. Representa una duración, la diferencia entre dos fechas o tiempos. Se utiliza para sumar o restar intervalos de tiempo a objetos date o datetime."
   ]
  },
  {
   "cell_type": "markdown",
   "metadata": {},
   "source": [
    "##### Crear un objeto del tipo timedelta"
   ]
  },
  {
   "cell_type": "markdown",
   "metadata": {},
   "source": [
    "Estos objetos son períodos de tiempo."
   ]
  },
  {
   "cell_type": "code",
   "execution_count": null,
   "metadata": {},
   "outputs": [],
   "source": [
    "Periodo = dt.timedelta(days=5, hours=2, minutes=30)  \n",
    "# 5 días, 2 horas, 30 minutos."
   ]
  },
  {
   "cell_type": "markdown",
   "metadata": {},
   "source": [
    "##### Sumar o restar períodos de tiempo"
   ]
  },
  {
   "cell_type": "markdown",
   "metadata": {},
   "source": [
    "Se suman o restan objetos del tipo datetime con del tipo timedelta."
   ]
  },
  {
   "cell_type": "code",
   "execution_count": null,
   "metadata": {},
   "outputs": [],
   "source": [
    "Fecha_Futura = Ahora + Periodo\n",
    "Fecha_Pasada = Ahora - Periodo"
   ]
  },
  {
   "cell_type": "markdown",
   "metadata": {},
   "source": [
    "Se suman o restan objetos del tipo timedelta entre sí."
   ]
  },
  {
   "cell_type": "code",
   "execution_count": 21,
   "metadata": {},
   "outputs": [],
   "source": [
    "# Crear dos intervalos de tiempo.\n",
    "Periodo1 = dt.timedelta(days=5, hours=3)\n",
    "Periodo2 = dt.timedelta(days=2, hours=6)\n",
    "\n",
    "# Sumar los dos intervalos.\n",
    "Periodo_Total = Periodo1 + Periodo2\n",
    "\n",
    "# Restar los dos intervalos.\n",
    "Diferencia_Periodo = Periodo1 - Periodo2"
   ]
  }
 ],
 "metadata": {
  "kernelspec": {
   "display_name": "Python 3",
   "language": "python",
   "name": "python3"
  },
  "language_info": {
   "codemirror_mode": {
    "name": "ipython",
    "version": 3
   },
   "file_extension": ".py",
   "mimetype": "text/x-python",
   "name": "python",
   "nbconvert_exporter": "python",
   "pygments_lexer": "ipython3",
   "version": "3.11.9"
  }
 },
 "nbformat": 4,
 "nbformat_minor": 2
}

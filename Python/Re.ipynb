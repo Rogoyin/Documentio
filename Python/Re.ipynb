{
 "cells": [
  {
   "cell_type": "markdown",
   "metadata": {},
   "source": [
    "### __Introducción__"
   ]
  },
  {
   "cell_type": "markdown",
   "metadata": {},
   "source": [
    "La librería re es fundamental en Python para trabajar con expresiones regulares. Las expresiones regulares permiten buscar, manipular y extraer información de cadenas de texto mediante patrones específicos. "
   ]
  },
  {
   "cell_type": "code",
   "execution_count": 21,
   "metadata": {},
   "outputs": [],
   "source": [
    "import re"
   ]
  },
  {
   "cell_type": "markdown",
   "metadata": {},
   "source": [
    "### __Funciones__"
   ]
  },
  {
   "cell_type": "markdown",
   "metadata": {},
   "source": [
    "##### Match"
   ]
  },
  {
   "cell_type": "markdown",
   "metadata": {},
   "source": [
    "Verifica si un patrón coincide al inicio de una cadena de texto."
   ]
  },
  {
   "cell_type": "code",
   "execution_count": 22,
   "metadata": {},
   "outputs": [
    {
     "data": {
      "text/plain": [
       "'Hola'"
      ]
     },
     "execution_count": 22,
     "metadata": {},
     "output_type": "execute_result"
    }
   ],
   "source": [
    "Resultado = re.match(r\"Hola\", \"Hola Mundo\")\n",
    "Resultado.group()"
   ]
  },
  {
   "cell_type": "markdown",
   "metadata": {},
   "source": [
    "##### Findall"
   ]
  },
  {
   "cell_type": "markdown",
   "metadata": {},
   "source": [
    "Devuelve todas las coincidencias de un patrón en una lista."
   ]
  },
  {
   "cell_type": "code",
   "execution_count": 23,
   "metadata": {},
   "outputs": [
    {
     "name": "stdout",
     "output_type": "stream",
     "text": [
      "['usuario1@mail.com', 'usuario2@mail.com']\n"
     ]
    }
   ],
   "source": [
    "Texto = \"Correo1: usuario1@mail.com, Correo2: usuario2@mail.com\"\n",
    "Patron = r\"\\w+@\\w+\\.\\w+\"\n",
    "Correos = re.findall(Patron, Texto)\n",
    "print(Correos)"
   ]
  },
  {
   "cell_type": "markdown",
   "metadata": {},
   "source": [
    "##### Search"
   ]
  },
  {
   "cell_type": "markdown",
   "metadata": {},
   "source": [
    "Busca una coincidencia en cualquier parte del texto."
   ]
  },
  {
   "cell_type": "code",
   "execution_count": 24,
   "metadata": {},
   "outputs": [
    {
     "name": "stdout",
     "output_type": "stream",
     "text": [
      "Mundo\n"
     ]
    }
   ],
   "source": [
    "Resultado = re.search(r\"Mundo\", \"Hola Mundo\")\n",
    "print(Resultado.group())"
   ]
  },
  {
   "cell_type": "markdown",
   "metadata": {},
   "source": [
    "{2} y {4} especifican la cantidad de dígitos. En el medio se ponen las barras, como para indicar que se busca un patrón con dos dígitos, una barra, dos dígitos, otra barra, y 4 dígitos finales."
   ]
  },
  {
   "cell_type": "markdown",
   "metadata": {},
   "source": [
    "##### Sub"
   ]
  },
  {
   "cell_type": "markdown",
   "metadata": {},
   "source": [
    "Reemplaza todas las coincidencias de un patrón con otro valor."
   ]
  },
  {
   "cell_type": "code",
   "execution_count": 25,
   "metadata": {},
   "outputs": [
    {
     "name": "stdout",
     "output_type": "stream",
     "text": [
      "Hola amigo\n"
     ]
    }
   ],
   "source": [
    "Texto = \"Hola mundo\"\n",
    "NuevoTexto = re.sub(r\"mundo\", \"amigo\", Texto)\n",
    "print(NuevoTexto)"
   ]
  },
  {
   "cell_type": "markdown",
   "metadata": {},
   "source": [
    "##### Split"
   ]
  },
  {
   "cell_type": "markdown",
   "metadata": {},
   "source": [
    "Divide el texto según las coincidencias del patrón."
   ]
  },
  {
   "cell_type": "code",
   "execution_count": 26,
   "metadata": {},
   "outputs": [
    {
     "name": "stdout",
     "output_type": "stream",
     "text": [
      "['Hola', '¿cómo', 'estás?']\n"
     ]
    }
   ],
   "source": [
    "Texto = \"Hola,¿cómo,estás?\"\n",
    "Partes = re.split(r\",\", Texto)\n",
    "print(Partes)"
   ]
  },
  {
   "cell_type": "markdown",
   "metadata": {},
   "source": [
    "### __Patrones__"
   ]
  },
  {
   "cell_type": "markdown",
   "metadata": {},
   "source": [
    "##### Patrón +"
   ]
  },
  {
   "cell_type": "markdown",
   "metadata": {},
   "source": [
    "Se utiliza para indicar que el carácter o grupo que lo precede debe aparecer una o más veces consecutivas en la cadena de texto. En otras palabras, + busca al menos una aparición de ese carácter o grupo y sigue capturando mientras siga apareciendo."
   ]
  },
  {
   "cell_type": "code",
   "execution_count": 27,
   "metadata": {},
   "outputs": [
    {
     "name": "stdout",
     "output_type": "stream",
     "text": [
      "['aaaa']\n"
     ]
    }
   ],
   "source": [
    "Texto = \"Laaaargo\"\n",
    "Patron = r\"a+\"\n",
    "Resultado = re.findall(Patron, Texto)\n",
    "print(Resultado)"
   ]
  },
  {
   "cell_type": "markdown",
   "metadata": {},
   "source": [
    "##### Patrón *"
   ]
  },
  {
   "cell_type": "markdown",
   "metadata": {},
   "source": [
    "Es un operador de repetición que indica que el carácter o grupo que lo precede puede aparecer cero o más veces. Es similar al +, pero con una diferencia clave. Mientras que + requiere que el carácter o grupo aparezca al menos una vez, * permite que no aparezca en absoluto."
   ]
  },
  {
   "cell_type": "code",
   "execution_count": 64,
   "metadata": {},
   "outputs": [
    {
     "name": "stdout",
     "output_type": "stream",
     "text": [
      "['ab', 'aab']\n"
     ]
    }
   ],
   "source": [
    "Texto = \"abc ac aabc\"\n",
    "Patron = r\"a*b\"\n",
    "Resultado = re.findall(Patron, Texto)\n",
    "print(Resultado)"
   ]
  },
  {
   "cell_type": "markdown",
   "metadata": {},
   "source": [
    "##### Patrón []"
   ]
  },
  {
   "cell_type": "markdown",
   "metadata": {},
   "source": [
    "El uso de [] en expresiones regulares define conjuntos de caracteres. Dentro de los corchetes, puedes especificar un rango o un grupo de caracteres, y la expresión buscará una sola coincidencia con cualquiera de esos caracteres."
   ]
  },
  {
   "cell_type": "markdown",
   "metadata": {},
   "source": [
    "Dentro de los corchetes, puedes definir qué caracteres deseas buscar, y la expresión coincidirá con uno solo de ellos."
   ]
  },
  {
   "cell_type": "code",
   "execution_count": 61,
   "metadata": {},
   "outputs": [
    {
     "name": "stdout",
     "output_type": "stream",
     "text": [
      "['casa', 'cisa', 'cusa']\n"
     ]
    }
   ],
   "source": [
    "Texto = \"casa, cisa, cusa\"\n",
    "Patron = r\"c[aeiou]sa\"\n",
    "Resultado = re.findall(Patron, Texto)\n",
    "print(Resultado)"
   ]
  },
  {
   "cell_type": "markdown",
   "metadata": {},
   "source": [
    "Dentro de los corchetes, puedes definir rangos de caracteres con guiones -. Esto es útil para especificar secuencias de letras o números."
   ]
  },
  {
   "cell_type": "code",
   "execution_count": 62,
   "metadata": {},
   "outputs": [
    {
     "name": "stdout",
     "output_type": "stream",
     "text": [
      "['A1', 'B2', 'C3']\n"
     ]
    }
   ],
   "source": [
    "Texto = \"A1 B2 C3\"\n",
    "Patron = r\"[A-C][1-3]\"\n",
    "Resultado = re.findall(Patron, Texto)\n",
    "print(Resultado) "
   ]
  },
  {
   "cell_type": "markdown",
   "metadata": {},
   "source": [
    "Colocando el símbolo ^ al principio de los corchetes, puedes crear un conjunto negado, que excluye los caracteres especificados."
   ]
  },
  {
   "cell_type": "code",
   "execution_count": 63,
   "metadata": {},
   "outputs": [
    {
     "name": "stdout",
     "output_type": "stream",
     "text": [
      "['cysa']\n"
     ]
    }
   ],
   "source": [
    "Texto = \"casa, cisa, cusa, cysa\"\n",
    "Patron = r\"c[^aeiou]sa\"\n",
    "Resultado = re.findall(Patron, Texto)\n",
    "print(Resultado)"
   ]
  },
  {
   "cell_type": "markdown",
   "metadata": {},
   "source": []
  },
  {
   "cell_type": "markdown",
   "metadata": {},
   "source": [
    "##### Patrón ?"
   ]
  },
  {
   "cell_type": "markdown",
   "metadata": {},
   "source": [
    "El símbolo ? en las expresiones regulares tiene dos usos principales. Por un lado, se usa para indicar que el carácter o grupo que lo precede es opcional (puede aparecer 0 o 1 vez). Por otro lado, se combina con otros operadores para crear versiones no codiciosas o lazy de esos operadores."
   ]
  },
  {
   "cell_type": "markdown",
   "metadata": {},
   "source": [
    "Cuando se coloca ? después de un carácter o grupo, indica que este puede aparecer una vez o no aparecer en absoluto."
   ]
  },
  {
   "cell_type": "code",
   "execution_count": 58,
   "metadata": {},
   "outputs": [
    {
     "name": "stdout",
     "output_type": "stream",
     "text": [
      "['color', 'colour']\n"
     ]
    }
   ],
   "source": [
    "Texto = \"color y colour\"\n",
    "Patron = r\"colou?r\"\n",
    "Resultado = re.findall(Patron, Texto)\n",
    "print(Resultado)"
   ]
  },
  {
   "cell_type": "markdown",
   "metadata": {},
   "source": [
    "El ? también se usa para convertir patrones codiciosos en no codiciosos (lazy). Esto significa que, cuando se combina con operadores como +, {n,m}, o *, el patrón intentará capturar la menor cantidad posible de caracteres."
   ]
  },
  {
   "cell_type": "code",
   "execution_count": 59,
   "metadata": {},
   "outputs": [
    {
     "name": "stdout",
     "output_type": "stream",
     "text": [
      "['a', 'a', 'a', 'a']\n"
     ]
    }
   ],
   "source": [
    "Texto = \"aaaa\"\n",
    "Patron = r\"a+?\"\n",
    "Resultado = re.findall(Patron, Texto)\n",
    "print(Resultado)"
   ]
  },
  {
   "cell_type": "markdown",
   "metadata": {},
   "source": [
    "El ? también puede colocarse dentro de paréntesis para hacer que grupos completos sean opcionales."
   ]
  },
  {
   "cell_type": "code",
   "execution_count": 60,
   "metadata": {},
   "outputs": [
    {
     "name": "stdout",
     "output_type": "stream",
     "text": [
      "['Perro', 'Gato']\n"
     ]
    }
   ],
   "source": [
    "Texto = \"Perro123 Gato123\"\n",
    "Patron = r\"(Perro|Gato)?123\"\n",
    "Resultado = re.findall(Patron, Texto)\n",
    "print(Resultado)"
   ]
  },
  {
   "cell_type": "markdown",
   "metadata": {},
   "source": [
    "El patrón (Perro|Gato)?123 indica que tanto \"Perro\" como \"Gato\" son opcionales antes de \"123\". Encuentra ambos términos seguidos por \"123\"."
   ]
  },
  {
   "cell_type": "markdown",
   "metadata": {},
   "source": [
    "##### Patrón \\d"
   ]
  },
  {
   "cell_type": "markdown",
   "metadata": {},
   "source": [
    "El patrón \\d representa cualquier dígito del 0 al 9. "
   ]
  },
  {
   "cell_type": "code",
   "execution_count": 28,
   "metadata": {},
   "outputs": [
    {
     "name": "stdout",
     "output_type": "stream",
     "text": [
      "['25', '1234']\n"
     ]
    }
   ],
   "source": [
    "Texto = \"La temperatura es 25 grados y el código es 1234\"\n",
    "Patron = r\"\\d+\"\n",
    "Numeros = re.findall(Patron, Texto)\n",
    "print(Numeros)"
   ]
  },
  {
   "cell_type": "markdown",
   "metadata": {},
   "source": []
  },
  {
   "cell_type": "markdown",
   "metadata": {},
   "source": [
    "##### Patrón \\w"
   ]
  },
  {
   "cell_type": "markdown",
   "metadata": {},
   "source": [
    "Representa cualquier carácter alfanumérico, es decir, letras, números y guiones bajos (_). No incluye caracteres especiales como signos de puntuación o espacios."
   ]
  },
  {
   "cell_type": "code",
   "execution_count": 29,
   "metadata": {},
   "outputs": [
    {
     "name": "stdout",
     "output_type": "stream",
     "text": [
      "['El', 'usuario', 'es', 'Usuario_123']\n"
     ]
    }
   ],
   "source": [
    "Texto = \"El usuario es Usuario_123\"\n",
    "Patron = r\"\\w+\"\n",
    "Palabras = re.findall(Patron, Texto)\n",
    "print(Palabras)"
   ]
  },
  {
   "cell_type": "markdown",
   "metadata": {},
   "source": [
    "##### Patrón \\s"
   ]
  },
  {
   "cell_type": "markdown",
   "metadata": {},
   "source": [
    "Representa cualquier espacio en blanco (espacio, tabulación, salto de línea)."
   ]
  },
  {
   "cell_type": "code",
   "execution_count": 30,
   "metadata": {},
   "outputs": [
    {
     "name": "stdout",
     "output_type": "stream",
     "text": [
      "['   ', ' \\n ', ' ']\n"
     ]
    }
   ],
   "source": [
    "Texto = \"Hola   Mundo \\n ¿Cómo estás?\"\n",
    "Patron = r\"\\s+\"\n",
    "Espacios = re.findall(Patron, Texto)\n",
    "print(Espacios)"
   ]
  },
  {
   "cell_type": "markdown",
   "metadata": {},
   "source": [
    "##### Patrón ."
   ]
  },
  {
   "cell_type": "markdown",
   "metadata": {},
   "source": [
    "Representa cualquier carácter excepto saltos de línea."
   ]
  },
  {
   "cell_type": "code",
   "execution_count": 31,
   "metadata": {},
   "outputs": [
    {
     "name": "stdout",
     "output_type": "stream",
     "text": [
      "Hola\n"
     ]
    }
   ],
   "source": [
    "Texto = \"Hola Mundo!\"\n",
    "Patron = r\"H.la\"\n",
    "Resultado = re.search(Patron, Texto)\n",
    "print(Resultado.group()) "
   ]
  },
  {
   "cell_type": "markdown",
   "metadata": {},
   "source": [
    "El patrón H.la busca cualquier carácter que comience con \"H\", seguido de cualquier carácter (indicado por .) y que termine con \"la\". En este caso, encuentra \"Hola\" porque la \"o\" puede ser cualquier carácter."
   ]
  },
  {
   "cell_type": "markdown",
   "metadata": {},
   "source": [
    "##### Patrón ^"
   ]
  },
  {
   "cell_type": "markdown",
   "metadata": {},
   "source": [
    "Indica el inicio de una cadena. Este patrón se utiliza para asegurarse de que una coincidencia se encuentra al principio de un texto."
   ]
  },
  {
   "cell_type": "code",
   "execution_count": 32,
   "metadata": {},
   "outputs": [
    {
     "name": "stdout",
     "output_type": "stream",
     "text": [
      "Python\n"
     ]
    }
   ],
   "source": [
    "Texto = \"Python es un lenguaje de programación\"\n",
    "Patron = r\"^Python\"\n",
    "Resultado = re.match(Patron, Texto)\n",
    "print(Resultado.group())"
   ]
  },
  {
   "cell_type": "markdown",
   "metadata": {},
   "source": [
    "##### Patrón $"
   ]
  },
  {
   "cell_type": "markdown",
   "metadata": {},
   "source": [
    "Indica el final de una cadena. Este patrón se utiliza para asegurarse de que una coincidencia se encuentra al final de un texto."
   ]
  },
  {
   "cell_type": "code",
   "execution_count": 33,
   "metadata": {},
   "outputs": [
    {
     "name": "stdout",
     "output_type": "stream",
     "text": [
      "aprender\n"
     ]
    }
   ],
   "source": [
    "Texto = \"Python es fácil de aprender\"\n",
    "Patron = r\"aprender$\"\n",
    "Resultado = re.search(Patron, Texto)\n",
    "print(Resultado.group()) "
   ]
  },
  {
   "cell_type": "markdown",
   "metadata": {},
   "source": [
    "##### Patrón {n}"
   ]
  },
  {
   "cell_type": "markdown",
   "metadata": {},
   "source": [
    "Indica una cantidad exacta de repeticiones de un carácter o grupo. Por ejemplo, \\d{3} buscará exactamente tres dígitos seguidos."
   ]
  },
  {
   "cell_type": "code",
   "execution_count": 34,
   "metadata": {},
   "outputs": [
    {
     "name": "stdout",
     "output_type": "stream",
     "text": [
      "456-789-1234\n"
     ]
    }
   ],
   "source": [
    "Texto = \"Mi número es 456-789-1234\"\n",
    "Patron = r\"\\d{3}-\\d{3}-\\d{4}\"\n",
    "Resultado = re.search(Patron, Texto)\n",
    "print(Resultado.group())"
   ]
  },
  {
   "cell_type": "markdown",
   "metadata": {},
   "source": [
    "##### Patrón |"
   ]
  },
  {
   "cell_type": "markdown",
   "metadata": {},
   "source": [
    "Actúa como un operador OR, indicando que cualquiera de los patrones separados por | puede coincidir."
   ]
  },
  {
   "cell_type": "code",
   "execution_count": 35,
   "metadata": {},
   "outputs": [
    {
     "name": "stdout",
     "output_type": "stream",
     "text": [
      "manzanas\n"
     ]
    }
   ],
   "source": [
    "Texto = \"Quiero manzanas o peras\"\n",
    "Patron = r\"manzanas|peras\"\n",
    "Frutas = re.search(Patron, Texto)\n",
    "print(Frutas.group())"
   ]
  },
  {
   "cell_type": "markdown",
   "metadata": {},
   "source": [
    "El patrón manzanas|peras busca en el texto la palabra \"manzanas\" o \"peras\". El primer elemento encontrado es \"manzanas\"."
   ]
  },
  {
   "cell_type": "markdown",
   "metadata": {},
   "source": [
    "##### Patrón ()"
   ]
  },
  {
   "cell_type": "markdown",
   "metadata": {},
   "source": [
    "Se usan para agrupar partes de un patrón. Esto permite capturar solo partes específicas de la coincidencia y utilizarlas posteriormente."
   ]
  },
  {
   "cell_type": "code",
   "execution_count": 36,
   "metadata": {},
   "outputs": [
    {
     "name": "stdout",
     "output_type": "stream",
     "text": [
      "Día: 15, Mes: 08, Año: 1995\n"
     ]
    }
   ],
   "source": [
    "Texto = \"Mi fecha de nacimiento es 15/08/1995\"\n",
    "Patron = r\"(\\d{2})/(\\d{2})/(\\d{4})\"\n",
    "Resultado = re.search(Patron, Texto)\n",
    "Dia, Mes, Año = Resultado.groups()\n",
    "print(f\"Día: {Dia}, Mes: {Mes}, Año: {Año}\")"
   ]
  },
  {
   "cell_type": "markdown",
   "metadata": {},
   "source": [
    "El patrón (\\d{2})/(\\d{2})/(\\d{4}) agrupa las partes del día, mes y año en la fecha. Luego, se accede a cada parte de la coincidencia mediante groups()."
   ]
  },
  {
   "cell_type": "markdown",
   "metadata": {},
   "source": [
    "### __Buenas prácticas__"
   ]
  },
  {
   "cell_type": "markdown",
   "metadata": {},
   "source": [
    "##### Raw strings"
   ]
  },
  {
   "cell_type": "markdown",
   "metadata": {},
   "source": [
    "Es recomendable utilizar r\"\" al definir patrones para evitar que Python procese los caracteres de escape. Por ejemplo, r\"\\d\" es mejor que \"\\d\"."
   ]
  }
 ],
 "metadata": {
  "kernelspec": {
   "display_name": "Python 3",
   "language": "python",
   "name": "python3"
  },
  "language_info": {
   "codemirror_mode": {
    "name": "ipython",
    "version": 3
   },
   "file_extension": ".py",
   "mimetype": "text/x-python",
   "name": "python",
   "nbconvert_exporter": "python",
   "pygments_lexer": "ipython3",
   "version": "3.11.9"
  }
 },
 "nbformat": 4,
 "nbformat_minor": 2
}

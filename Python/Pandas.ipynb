{
 "cells": [
  {
   "cell_type": "markdown",
   "metadata": {},
   "source": [
    "### __Crear dataframe__"
   ]
  },
  {
   "cell_type": "code",
   "execution_count": 142,
   "metadata": {},
   "outputs": [],
   "source": [
    "# Importar pandas.\n",
    "import pandas as pd\n",
    "import openpyxl "
   ]
  },
  {
   "cell_type": "code",
   "execution_count": 143,
   "metadata": {},
   "outputs": [],
   "source": [
    "# Crear un df a partir de datos.\n",
    "Datos = {'Columna 1': [1, 2], 'Columna 2': [3, 4]}\n",
    "\n",
    "df = pd.DataFrame(Datos)"
   ]
  },
  {
   "cell_type": "markdown",
   "metadata": {},
   "source": [
    "##### Información general del df"
   ]
  },
  {
   "cell_type": "code",
   "execution_count": null,
   "metadata": {},
   "outputs": [],
   "source": [
    "df.info()"
   ]
  },
  {
   "cell_type": "markdown",
   "metadata": {},
   "source": [
    "### __Manejo de archivos csv y excel__"
   ]
  },
  {
   "cell_type": "markdown",
   "metadata": {},
   "source": [
    "##### Crear df a partir de .csv"
   ]
  },
  {
   "cell_type": "code",
   "execution_count": 144,
   "metadata": {},
   "outputs": [],
   "source": [
    "df = pd.read_csv('C:/Users/tomas/Datos/Clase 2/arbolado-en-espacios-verdes.csv')"
   ]
  },
  {
   "cell_type": "markdown",
   "metadata": {},
   "source": [
    "##### Crear df a partir de .xlsx"
   ]
  },
  {
   "cell_type": "code",
   "execution_count": 145,
   "metadata": {},
   "outputs": [],
   "source": [
    "# Leer un excel.\n",
    "df = pd.read_excel('J:/My Drive/Forraje/Proveedores.xlsx', sheet_name='Centro')\n",
    "\n",
    "# sheet_name: la hoja del excel de la cuál se toman los datos.\n",
    "# Se necesita importar la libreria openpyxl."
   ]
  },
  {
   "cell_type": "markdown",
   "metadata": {},
   "source": [
    "##### Guardar un df en distintos formatos "
   ]
  },
  {
   "cell_type": "code",
   "execution_count": 146,
   "metadata": {},
   "outputs": [],
   "source": [
    "# Guardar un csv o excel a partir de un df.\n",
    "\n",
    "df.to_csv('C:/Users/tomas/Datos/Clase 2/File.csv', index=False)\n",
    "df.to_excel('C:/Users/tomas/Datos/Clase 2/File.xlsx', index=False)"
   ]
  },
  {
   "cell_type": "markdown",
   "metadata": {},
   "source": [
    "### __Selección y filtro de datos__"
   ]
  },
  {
   "cell_type": "markdown",
   "metadata": {},
   "source": [
    "##### Seleccionar un dato específico del df por nombre de columna con .loc"
   ]
  },
  {
   "cell_type": "code",
   "execution_count": 147,
   "metadata": {},
   "outputs": [],
   "source": [
    "Dato = df.loc[1, 'Anea']\n",
    "\n",
    "# Fila 1, columna 'Anea'."
   ]
  },
  {
   "cell_type": "markdown",
   "metadata": {},
   "source": [
    "##### Seleccionar un dato específico del df por índices"
   ]
  },
  {
   "cell_type": "code",
   "execution_count": 148,
   "metadata": {},
   "outputs": [],
   "source": [
    "Dato = df.iloc[1, 2]\n",
    "\n",
    "# Fila 1, columna 2."
   ]
  },
  {
   "cell_type": "markdown",
   "metadata": {},
   "source": [
    "##### Seleccionar un dato específico del df por nombre de columna e índice"
   ]
  },
  {
   "cell_type": "code",
   "execution_count": 149,
   "metadata": {},
   "outputs": [],
   "source": [
    "# Seleccionar un dato en específico por nombre de columna.\n",
    "Dato = df['Anea'][1]\n",
    "\n",
    "# Fila 1, columna 'Anea'."
   ]
  },
  {
   "cell_type": "markdown",
   "metadata": {},
   "source": [
    "##### Seleccionar una fila de un df"
   ]
  },
  {
   "cell_type": "code",
   "execution_count": null,
   "metadata": {},
   "outputs": [],
   "source": [
    "Fila = df.iloc[0]"
   ]
  },
  {
   "cell_type": "markdown",
   "metadata": {},
   "source": [
    "##### Seleccionar un dato específico del df por condiciones"
   ]
  },
  {
   "cell_type": "code",
   "execution_count": 150,
   "metadata": {},
   "outputs": [],
   "source": [
    "Dato = df[df['Descripcion'] == 'Rosco Cocktail x 15 kg.']['Descripcion'].values[0]\n",
    "\n",
    "# - Filtra filas que cumplan una condición.\n",
    "# - Selecciona la columna específica, formando una lista.\n",
    "# - Se queda con el primer valor de esa lista."
   ]
  },
  {
   "cell_type": "markdown",
   "metadata": {},
   "source": [
    "##### Crear una serie a partir de una columna por su nombre"
   ]
  },
  {
   "cell_type": "code",
   "execution_count": 151,
   "metadata": {},
   "outputs": [],
   "source": [
    "Columna = df['Descripcion']"
   ]
  },
  {
   "cell_type": "markdown",
   "metadata": {},
   "source": [
    "##### Crear un sub-df con algunas columnas"
   ]
  },
  {
   "cell_type": "code",
   "execution_count": 152,
   "metadata": {},
   "outputs": [],
   "source": [
    "Varias_Columnas = df[['Descripcion', 'Gallo']]"
   ]
  },
  {
   "cell_type": "markdown",
   "metadata": {},
   "source": [
    "##### Filtrar filas a partir de cumplir una condición en una columna"
   ]
  },
  {
   "cell_type": "code",
   "execution_count": 153,
   "metadata": {},
   "outputs": [],
   "source": [
    "Filas = df[df['Gallo'] > 2]   \n",
    "# Filtra las filas en las que los datos de la columna 'Gallo' sean mayores a 2."
   ]
  },
  {
   "cell_type": "code",
   "execution_count": 154,
   "metadata": {},
   "outputs": [],
   "source": [
    "Datos = df.loc[df['Gallo'] == 200]\n",
    "# Lo mismo, solo con el método .loc"
   ]
  },
  {
   "cell_type": "markdown",
   "metadata": {},
   "source": [
    "##### Seleccionar un conjunto de datos con slicing"
   ]
  },
  {
   "cell_type": "code",
   "execution_count": 155,
   "metadata": {},
   "outputs": [],
   "source": [
    "Filas = df.iloc[0:5] \n",
    "# Fila 0 a la 4."
   ]
  },
  {
   "cell_type": "code",
   "execution_count": 156,
   "metadata": {},
   "outputs": [],
   "source": [
    "df_Nuevo = df.iloc[0:5, 1:3]  \n",
    "# Fila 0 a 4, columnas 1 a 2."
   ]
  },
  {
   "cell_type": "markdown",
   "metadata": {},
   "source": [
    "##### Filtrar filas a partir de coincidencias de una columna con un iterador"
   ]
  },
  {
   "cell_type": "code",
   "execution_count": 157,
   "metadata": {},
   "outputs": [],
   "source": [
    "# Lista de valores que se desea filtrar.\n",
    "Valores = ['Rosco', 'Dr. Perrot', 'Raza']\n",
    "\n",
    "# Filtrar el df usando isin().\n",
    "df = df[df['Descripcion'].isin(Valores)]"
   ]
  },
  {
   "cell_type": "markdown",
   "metadata": {},
   "source": [
    "##### Filtrar filas a partir de diferencias de una columna con un iterador"
   ]
  },
  {
   "cell_type": "code",
   "execution_count": 158,
   "metadata": {},
   "outputs": [],
   "source": [
    "# Filtrar el df usando isin().\n",
    "df = df[~df['Descripcion'].isin(Valores)]"
   ]
  },
  {
   "cell_type": "markdown",
   "metadata": {},
   "source": [
    "##### Filtrar filas a partir de coincidencias de una columna con varios iteradores"
   ]
  },
  {
   "cell_type": "code",
   "execution_count": 159,
   "metadata": {},
   "outputs": [],
   "source": [
    "df = df[(df['Descripcion'].isin(Valores)) & (df['Gallo'].isin(Valores))]"
   ]
  },
  {
   "cell_type": "markdown",
   "metadata": {},
   "source": [
    "##### Buscar los datos que contienen un texto"
   ]
  },
  {
   "cell_type": "code",
   "execution_count": 160,
   "metadata": {},
   "outputs": [],
   "source": [
    "Rosco = df['Descripcion'].str.contains('Rosco') \n",
    "\n",
    "# Devuelve una serie con los valores de la columna 'Descripcion' que contienen 'Rosco' en su interior."
   ]
  },
  {
   "cell_type": "markdown",
   "metadata": {},
   "source": [
    "##### Obtener los valores únicos de una columna o fila"
   ]
  },
  {
   "cell_type": "code",
   "execution_count": 161,
   "metadata": {},
   "outputs": [],
   "source": [
    "Valores_Unicos = df['Descripcion'].unique()"
   ]
  },
  {
   "cell_type": "markdown",
   "metadata": {},
   "source": [
    "### __Manipulación de datos__"
   ]
  },
  {
   "cell_type": "markdown",
   "metadata": {},
   "source": [
    "##### Agregar una nueva columna"
   ]
  },
  {
   "cell_type": "code",
   "execution_count": 162,
   "metadata": {},
   "outputs": [],
   "source": [
    "df['Nueva'] = df['Gallo'] + df['Anea']\n",
    "# La nueva es la suma de las dos anteriores."
   ]
  },
  {
   "cell_type": "markdown",
   "metadata": {},
   "source": [
    "##### Eliminar un conjunto de columnas"
   ]
  },
  {
   "cell_type": "code",
   "execution_count": 163,
   "metadata": {},
   "outputs": [],
   "source": [
    "df_Sin_Columnas = df.drop(['Yaguar', 'King Clor'], axis=1, inplace=True)\n",
    "\n",
    "# axis=1: marca el eje vertical.\n",
    "# inplace=True: que se edita el df original y no se crea una copia."
   ]
  },
  {
   "cell_type": "markdown",
   "metadata": {},
   "source": [
    "##### Eliminar filas con valores nulos"
   ]
  },
  {
   "cell_type": "code",
   "execution_count": 164,
   "metadata": {},
   "outputs": [],
   "source": [
    "Filas_Sin_Ceros = df.dropna(inplace=True)"
   ]
  },
  {
   "cell_type": "markdown",
   "metadata": {},
   "source": [
    "##### Rellenar valores nulos"
   ]
  },
  {
   "cell_type": "code",
   "execution_count": 165,
   "metadata": {},
   "outputs": [],
   "source": [
    "df_Sin_Nulos = df.fillna(0, inplace=True)\n",
    "# Los rellena con 0."
   ]
  },
  {
   "cell_type": "markdown",
   "metadata": {},
   "source": [
    "### __Ordenamiento__"
   ]
  },
  {
   "cell_type": "markdown",
   "metadata": {},
   "source": [
    "##### Groupby"
   ]
  },
  {
   "cell_type": "code",
   "execution_count": 166,
   "metadata": {},
   "outputs": [],
   "source": [
    "# groupby.\n"
   ]
  },
  {
   "cell_type": "markdown",
   "metadata": {},
   "source": [
    "##### Ordenar filas de df a partir de los datos de una columna"
   ]
  },
  {
   "cell_type": "code",
   "execution_count": 167,
   "metadata": {},
   "outputs": [],
   "source": [
    "df_Ordenado = df.sort_values(by='Gallo', ascending=False)"
   ]
  },
  {
   "cell_type": "markdown",
   "metadata": {},
   "source": [
    "##### Ordenar columnas personalizadamente"
   ]
  },
  {
   "cell_type": "code",
   "execution_count": 168,
   "metadata": {},
   "outputs": [],
   "source": [
    "# Nombres de las columnas en orden.\n",
    "Orden = ['Anea', 'Gallo', 'Pilar']\n",
    "\n",
    "# Ordena el DataFrame en ese orden.\n",
    "df_Ordenado = df[Orden]"
   ]
  },
  {
   "cell_type": "markdown",
   "metadata": {},
   "source": [
    "##### Resetear el índice del df"
   ]
  },
  {
   "cell_type": "code",
   "execution_count": 169,
   "metadata": {},
   "outputs": [],
   "source": [
    "df = df.reset_index(drop=True)"
   ]
  },
  {
   "cell_type": "markdown",
   "metadata": {},
   "source": [
    "### __Funciones a columnas o filas__"
   ]
  },
  {
   "cell_type": "markdown",
   "metadata": {},
   "source": [
    "##### Obtener columnas"
   ]
  },
  {
   "cell_type": "code",
   "execution_count": null,
   "metadata": {},
   "outputs": [],
   "source": [
    "df.columns"
   ]
  },
  {
   "cell_type": "markdown",
   "metadata": {},
   "source": [
    "##### Aplicar función a una columna"
   ]
  },
  {
   "cell_type": "code",
   "execution_count": 170,
   "metadata": {},
   "outputs": [],
   "source": [
    "df['Gallo'] = df['Gallo'].apply(lambda x: x * 2)\n",
    "\n",
    "# A cada elemento de la columna 'Gallo' lo multiplica por 2, editando la columna."
   ]
  },
  {
   "cell_type": "markdown",
   "metadata": {},
   "source": [
    "##### Aplicar función fila tras fila"
   ]
  },
  {
   "cell_type": "code",
   "execution_count": 171,
   "metadata": {},
   "outputs": [],
   "source": [
    "Serie = df.apply(lambda Row: Row['Gallo'] + Row['Anea'], axis=1)\n",
    "\n",
    "# Devuelve una serie donde se sumó el valor de 'Gallo' y el de 'Anea' de cada fila"
   ]
  },
  {
   "cell_type": "markdown",
   "metadata": {},
   "source": [
    "##### Aplica una función a cada elemento de un df"
   ]
  },
  {
   "cell_type": "code",
   "execution_count": 172,
   "metadata": {},
   "outputs": [],
   "source": [
    "df_Nuevo = df.map(lambda x: x*2)  \n",
    "\n",
    "# Multiplica cada valor de todas las columnas por 2."
   ]
  },
  {
   "cell_type": "markdown",
   "metadata": {},
   "source": [
    "##### Crear columna con mayor valor entre dos columnas"
   ]
  },
  {
   "cell_type": "code",
   "execution_count": 173,
   "metadata": {},
   "outputs": [],
   "source": [
    "df['C'] = df.apply(lambda row: max(row['Anea'], row['Gallo']), axis=1)\n",
    "\n",
    "# Compara las columnas Anea y Gallo y el mayor valor lo pone en C."
   ]
  },
  {
   "cell_type": "markdown",
   "metadata": {},
   "source": [
    "##### Renombrar columna"
   ]
  },
  {
   "cell_type": "code",
   "execution_count": 174,
   "metadata": {},
   "outputs": [],
   "source": [
    "df.rename(columns={'C': 'Nombre_Nuevo'})"
   ]
  },
  {
   "cell_type": "markdown",
   "metadata": {},
   "source": [
    "##### Insertar columna en posición específica"
   ]
  },
  {
   "cell_type": "code",
   "execution_count": null,
   "metadata": {},
   "outputs": [],
   "source": [
    "df.insert(df, 'Column_Name', value = df['Other_Column'])"
   ]
  },
  {
   "cell_type": "markdown",
   "metadata": {},
   "source": [
    "##### Eliminar columna"
   ]
  },
  {
   "cell_type": "code",
   "execution_count": 175,
   "metadata": {},
   "outputs": [],
   "source": [
    "# Lista de nombres de columnas que deseás dropear.\n",
    "Borrar = ['Dacam']\n",
    "\n",
    "# Dropear las columnas especificadas\n",
    "df = df.drop(columns=Borrar)"
   ]
  },
  {
   "cell_type": "markdown",
   "metadata": {},
   "source": [
    "### __Unión de dataframes__"
   ]
  },
  {
   "cell_type": "markdown",
   "metadata": {},
   "source": [
    "##### Merge"
   ]
  },
  {
   "cell_type": "markdown",
   "metadata": {},
   "source": [
    "Une los dfs horizontalmente."
   ]
  },
  {
   "cell_type": "code",
   "execution_count": 176,
   "metadata": {},
   "outputs": [],
   "source": [
    "df_Horizontal = pd.merge(df, df, on='Gallo')"
   ]
  },
  {
   "cell_type": "markdown",
   "metadata": {},
   "source": [
    "__on.__ Es la columna que ambos tienen en común. Se usa como base para la unión. Es la \"key_column\". Si no se especifica nada, se combinan las filas que tienen coincidencias en la \"key_column\".\n",
    "\n",
    "__Tipos de uniones.__\n",
    "- _how = 'inner'_. Por defecto.\n",
    "- _how = 'left'_. Se mantienen todas las filas del df1 y las coincidencias del df2. Las que no son NaN.\n",
    "- _how = 'right'_. Se mantienen todas las filas del df2 y las coincidencias del df1. Las que no son NaN.\n",
    "- _how = 'outer'_. Todas las filas de ambas tablas, y pone NaN cuando no es coincidente.\n",
    "- _how = 'cross'_. Devuelve el producto cartesiano de ambas tablas: combina cada fila de df1 y df2, sin columna clave. Crea todas las combinaciones posibles de filas entre dos tablas.\n"
   ]
  },
  {
   "cell_type": "markdown",
   "metadata": {},
   "source": [
    "##### Concatenar df"
   ]
  },
  {
   "cell_type": "markdown",
   "metadata": {},
   "source": [
    "Los une verticalmente, uno debajo del otro."
   ]
  },
  {
   "cell_type": "code",
   "execution_count": 177,
   "metadata": {},
   "outputs": [],
   "source": [
    "df_Concatenado = pd.concat([df, df])"
   ]
  },
  {
   "cell_type": "markdown",
   "metadata": {},
   "source": [
    "### __Tipos de datos__"
   ]
  },
  {
   "cell_type": "markdown",
   "metadata": {},
   "source": [
    "##### Convertir datos de una columna a otro tipo de variable"
   ]
  },
  {
   "cell_type": "code",
   "execution_count": 178,
   "metadata": {},
   "outputs": [],
   "source": [
    "df['Anea'] = df['Anea'].astype(int)\n",
    "\n",
    "# Convierte los datos de 'Anea' a int."
   ]
  },
  {
   "cell_type": "markdown",
   "metadata": {},
   "source": [
    "##### Cambiar columna a formato fecha"
   ]
  },
  {
   "cell_type": "code",
   "execution_count": 179,
   "metadata": {},
   "outputs": [],
   "source": [
    "df['Anea'] = pd.to_datetime(df['Anea'])"
   ]
  },
  {
   "cell_type": "markdown",
   "metadata": {},
   "source": [
    "##### Chequear tipo de dato de una columna"
   ]
  },
  {
   "cell_type": "code",
   "execution_count": null,
   "metadata": {},
   "outputs": [],
   "source": [
    "df['Columna'].dtype"
   ]
  },
  {
   "cell_type": "markdown",
   "metadata": {},
   "source": [
    "##### Chequear si un df, columna o celda es numérica"
   ]
  },
  {
   "cell_type": "code",
   "execution_count": null,
   "metadata": {},
   "outputs": [],
   "source": [
    "pd.api.types.is_numeric_dtype(df['Columna'])"
   ]
  },
  {
   "cell_type": "markdown",
   "metadata": {},
   "source": [
    "### __Replace__"
   ]
  },
  {
   "cell_type": "markdown",
   "metadata": {},
   "source": [
    "##### Reemplazar datos en una columna"
   ]
  },
  {
   "cell_type": "code",
   "execution_count": 180,
   "metadata": {},
   "outputs": [],
   "source": [
    "df['Anea'] = df['Anea'].replace(2, 20)\n",
    "# Se reemplaza el 2 por el 20 en toda la columna."
   ]
  },
  {
   "cell_type": "markdown",
   "metadata": {},
   "source": [
    "##### Reemplazar múltiples valores con un diccionario"
   ]
  },
  {
   "cell_type": "code",
   "execution_count": 181,
   "metadata": {},
   "outputs": [],
   "source": [
    "Reemplazos = {\n",
    "    2:30,\n",
    "    4:40,\n",
    "    10:100}\n",
    "\n",
    "df['Anea'] = df['Anea'].replace(Reemplazos)\n",
    "\n",
    "# Reemplaza 2 por 30, 4 por 40, y así."
   ]
  },
  {
   "cell_type": "markdown",
   "metadata": {},
   "source": [
    "##### Reemplazar los valores que cumplen una condición"
   ]
  },
  {
   "cell_type": "code",
   "execution_count": 182,
   "metadata": {},
   "outputs": [],
   "source": [
    "df.loc[df['Pilar'] > 10, 'Pilar'] = 100\n",
    "\n",
    "# Si el valor es mayor a 10, se reemplaza por 100."
   ]
  },
  {
   "cell_type": "markdown",
   "metadata": {},
   "source": [
    "##### Rellenar valores NaN por otro valor"
   ]
  },
  {
   "cell_type": "code",
   "execution_count": 183,
   "metadata": {},
   "outputs": [],
   "source": [
    "df['Anea'] = df['Anea'].fillna(0)\n",
    "\n",
    "# Se rellena con 0, pero puede ser otro valor."
   ]
  },
  {
   "cell_type": "markdown",
   "metadata": {},
   "source": [
    "### __Iteraciones__"
   ]
  },
  {
   "cell_type": "markdown",
   "metadata": {},
   "source": [
    "##### Iterrows"
   ]
  },
  {
   "cell_type": "code",
   "execution_count": 184,
   "metadata": {},
   "outputs": [
    {
     "data": {
      "text/html": [
       "<div>\n",
       "<style scoped>\n",
       "    .dataframe tbody tr th:only-of-type {\n",
       "        vertical-align: middle;\n",
       "    }\n",
       "\n",
       "    .dataframe tbody tr th {\n",
       "        vertical-align: top;\n",
       "    }\n",
       "\n",
       "    .dataframe thead th {\n",
       "        text-align: right;\n",
       "    }\n",
       "</style>\n",
       "<table border=\"1\" class=\"dataframe\">\n",
       "  <thead>\n",
       "    <tr style=\"text-align: right;\">\n",
       "      <th></th>\n",
       "      <th>Columna1</th>\n",
       "      <th>Columna2</th>\n",
       "    </tr>\n",
       "  </thead>\n",
       "  <tbody>\n",
       "    <tr>\n",
       "      <th>0</th>\n",
       "      <td>1</td>\n",
       "      <td>A</td>\n",
       "    </tr>\n",
       "    <tr>\n",
       "      <th>1</th>\n",
       "      <td>2</td>\n",
       "      <td>B</td>\n",
       "    </tr>\n",
       "  </tbody>\n",
       "</table>\n",
       "</div>"
      ],
      "text/plain": [
       "   Columna1 Columna2\n",
       "0         1        A\n",
       "1         2        B"
      ]
     },
     "execution_count": 184,
     "metadata": {},
     "output_type": "execute_result"
    }
   ],
   "source": [
    "# Crear un df de ejemplo.\n",
    "\n",
    "df = {'Columna1': [1, 2],\n",
    "      'Columna2': ['A', 'B']}\n",
    "\n",
    "df = pd.DataFrame(df)\n",
    "\n",
    "df"
   ]
  },
  {
   "cell_type": "code",
   "execution_count": 185,
   "metadata": {},
   "outputs": [
    {
     "name": "stdout",
     "output_type": "stream",
     "text": [
      "El valor de la Columna1 de la fila 0 es: 1\n",
      "---\n",
      "El valor de la Columna1 de la fila 1 es: 2\n",
      "---\n"
     ]
    }
   ],
   "source": [
    "# Iterar sobre las filas.\n",
    "# El index es el índice de la fila: 0, 1, 2...\n",
    "# Row es la fila entera y se puede iterar sobre ella.\n",
    "# En este caso, la Row 0 es [1, A], por ende, Row[0] es 1 y Row[1] es A.\n",
    "\n",
    "for Index, Row in df.iterrows():\n",
    "    # Extraigo de cada fila el valor de la Columna1.\n",
    "    print(f'El valor de la Columna1 de la fila {Index} es: {Row[\"Columna1\"]}')\n",
    "    print('---')"
   ]
  },
  {
   "cell_type": "markdown",
   "metadata": {},
   "source": [
    "### __Display__"
   ]
  },
  {
   "cell_type": "markdown",
   "metadata": {},
   "source": [
    "##### Mostrar todas las filas y/o columnas del df"
   ]
  },
  {
   "cell_type": "code",
   "execution_count": 186,
   "metadata": {},
   "outputs": [],
   "source": [
    "pd.set_option('display.max_rows', None)\n",
    "pd.set_option('display.max_columns', None)"
   ]
  },
  {
   "cell_type": "markdown",
   "metadata": {},
   "source": [
    "##### Desactivar la opción de mostrar todo"
   ]
  },
  {
   "cell_type": "code",
   "execution_count": 187,
   "metadata": {},
   "outputs": [],
   "source": [
    "pd.reset_option('display.max_rows', None)"
   ]
  }
 ],
 "metadata": {
  "kernelspec": {
   "display_name": "Python 3",
   "language": "python",
   "name": "python3"
  },
  "language_info": {
   "codemirror_mode": {
    "name": "ipython",
    "version": 3
   },
   "file_extension": ".py",
   "mimetype": "text/x-python",
   "name": "python",
   "nbconvert_exporter": "python",
   "pygments_lexer": "ipython3",
   "version": "3.11.9"
  }
 },
 "nbformat": 4,
 "nbformat_minor": 2
}

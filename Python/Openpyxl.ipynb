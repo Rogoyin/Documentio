{
 "cells": [
  {
   "cell_type": "markdown",
   "metadata": {},
   "source": [
    "### __Introducción__"
   ]
  },
  {
   "cell_type": "markdown",
   "metadata": {},
   "source": [
    "__openpyxl__ es una librería de Python que permite leer, escribir y manipular archivos de Excel (.xlsx)."
   ]
  },
  {
   "cell_type": "code",
   "execution_count": 177,
   "metadata": {},
   "outputs": [],
   "source": [
    "import openpyxl as op\n",
    "import openpyxl.styles as ops"
   ]
  },
  {
   "cell_type": "markdown",
   "metadata": {},
   "source": [
    "##### Crear nuevo archivo de Excel"
   ]
  },
  {
   "cell_type": "markdown",
   "metadata": {},
   "source": [
    "Se puede crear un objeto de la clase Workbook, que es una especie de libro de Excel para manipular en Python."
   ]
  },
  {
   "cell_type": "code",
   "execution_count": 178,
   "metadata": {},
   "outputs": [],
   "source": [
    "Book = op.Workbook()"
   ]
  },
  {
   "cell_type": "markdown",
   "metadata": {},
   "source": [
    "##### Cargar un Excel existente y convertirlo en objeto Workbook"
   ]
  },
  {
   "cell_type": "code",
   "execution_count": 179,
   "metadata": {},
   "outputs": [],
   "source": [
    "Book = op.load_workbook(\"Files/Archivo.xlsx\")"
   ]
  },
  {
   "cell_type": "markdown",
   "metadata": {},
   "source": [
    "##### Guardar archivo Excel"
   ]
  },
  {
   "cell_type": "code",
   "execution_count": 180,
   "metadata": {},
   "outputs": [],
   "source": [
    "Book.save(\"Files/Archivo.xlsx\")"
   ]
  },
  {
   "cell_type": "markdown",
   "metadata": {},
   "source": [
    "### __Hojas__"
   ]
  },
  {
   "cell_type": "markdown",
   "metadata": {},
   "source": [
    "##### Crear hoja"
   ]
  },
  {
   "cell_type": "code",
   "execution_count": 181,
   "metadata": {},
   "outputs": [],
   "source": [
    "First_Sheet = Book.create_sheet(\"Primera\", 0)\n",
    "\n",
    "# La coloca en la primera posición."
   ]
  },
  {
   "cell_type": "markdown",
   "metadata": {},
   "source": [
    "##### Seleccionar la hoja activa del libro"
   ]
  },
  {
   "cell_type": "code",
   "execution_count": 182,
   "metadata": {},
   "outputs": [],
   "source": [
    "Sheet = Book.active"
   ]
  },
  {
   "cell_type": "markdown",
   "metadata": {},
   "source": [
    "##### Renombrar una hoja"
   ]
  },
  {
   "cell_type": "code",
   "execution_count": 183,
   "metadata": {},
   "outputs": [],
   "source": [
    "Sheet.title = \"Mi Hoja\""
   ]
  },
  {
   "cell_type": "markdown",
   "metadata": {},
   "source": [
    "##### Seleccionar una hoja por su nombre"
   ]
  },
  {
   "cell_type": "code",
   "execution_count": 184,
   "metadata": {},
   "outputs": [],
   "source": [
    "Sheet = Book['Mi Hoja']"
   ]
  },
  {
   "cell_type": "markdown",
   "metadata": {},
   "source": [
    "##### Mover hojas de posición"
   ]
  },
  {
   "cell_type": "code",
   "execution_count": 185,
   "metadata": {},
   "outputs": [
    {
     "ename": "KeyError",
     "evalue": "'Worksheet Primera does not exist.'",
     "output_type": "error",
     "traceback": [
      "\u001b[1;31m---------------------------------------------------------------------------\u001b[0m",
      "\u001b[1;31mKeyError\u001b[0m                                  Traceback (most recent call last)",
      "Cell \u001b[1;32mIn[185], line 1\u001b[0m\n\u001b[1;32m----> 1\u001b[0m Book\u001b[38;5;241m.\u001b[39mmove_sheet(\u001b[43mBook\u001b[49m\u001b[43m[\u001b[49m\u001b[38;5;124;43m\"\u001b[39;49m\u001b[38;5;124;43mPrimera\u001b[39;49m\u001b[38;5;124;43m\"\u001b[39;49m\u001b[43m]\u001b[49m, \u001b[38;5;241m-\u001b[39m\u001b[38;5;241m1\u001b[39m)\n\u001b[0;32m      3\u001b[0m \u001b[38;5;66;03m# Mueve la hoja a la última posición.\u001b[39;00m\n",
      "File \u001b[1;32m~\\AppData\\Local\\Packages\\PythonSoftwareFoundation.Python.3.11_qbz5n2kfra8p0\\LocalCache\\local-packages\\Python311\\site-packages\\openpyxl\\workbook\\workbook.py:287\u001b[0m, in \u001b[0;36mWorkbook.__getitem__\u001b[1;34m(self, key)\u001b[0m\n\u001b[0;32m    285\u001b[0m     \u001b[38;5;28;01mif\u001b[39;00m sheet\u001b[38;5;241m.\u001b[39mtitle \u001b[38;5;241m==\u001b[39m key:\n\u001b[0;32m    286\u001b[0m         \u001b[38;5;28;01mreturn\u001b[39;00m sheet\n\u001b[1;32m--> 287\u001b[0m \u001b[38;5;28;01mraise\u001b[39;00m \u001b[38;5;167;01mKeyError\u001b[39;00m(\u001b[38;5;124m\"\u001b[39m\u001b[38;5;124mWorksheet \u001b[39m\u001b[38;5;132;01m{0}\u001b[39;00m\u001b[38;5;124m does not exist.\u001b[39m\u001b[38;5;124m\"\u001b[39m\u001b[38;5;241m.\u001b[39mformat(key))\n",
      "\u001b[1;31mKeyError\u001b[0m: 'Worksheet Primera does not exist.'"
     ]
    }
   ],
   "source": [
    "Book.move_sheet(Book[\"Primera\"], -1)\n",
    "\n",
    "# Mueve la hoja a la última posición."
   ]
  },
  {
   "cell_type": "markdown",
   "metadata": {},
   "source": [
    "##### Crear una copia de una hoja"
   ]
  },
  {
   "cell_type": "code",
   "execution_count": 149,
   "metadata": {},
   "outputs": [],
   "source": [
    "Copy_Sheet = Book.copy_worksheet(First_Sheet)"
   ]
  },
  {
   "cell_type": "markdown",
   "metadata": {},
   "source": [
    "##### Ocultar hoja"
   ]
  },
  {
   "cell_type": "code",
   "execution_count": 150,
   "metadata": {},
   "outputs": [],
   "source": [
    "Book[\"Primera\"].sheet_state = 'hidden'"
   ]
  },
  {
   "cell_type": "markdown",
   "metadata": {},
   "source": [
    "##### Mostrar hoja oculta"
   ]
  },
  {
   "cell_type": "code",
   "execution_count": 151,
   "metadata": {},
   "outputs": [],
   "source": [
    "Book[\"Primera\"].sheet_state = 'visible'"
   ]
  },
  {
   "cell_type": "markdown",
   "metadata": {},
   "source": [
    "##### Obtener lista con nombres de todas las hojas"
   ]
  },
  {
   "cell_type": "code",
   "execution_count": 152,
   "metadata": {},
   "outputs": [],
   "source": [
    "List_Sheet_Names = Book.sheetnames"
   ]
  },
  {
   "cell_type": "markdown",
   "metadata": {},
   "source": [
    "##### Proteger hoja"
   ]
  },
  {
   "cell_type": "code",
   "execution_count": null,
   "metadata": {},
   "outputs": [],
   "source": [
    "Book[\"Primera\"].protection.set_password('Contraseña')"
   ]
  },
  {
   "cell_type": "markdown",
   "metadata": {},
   "source": [
    "##### Desproteger hoja"
   ]
  },
  {
   "cell_type": "code",
   "execution_count": null,
   "metadata": {},
   "outputs": [],
   "source": [
    "Book[\"Primera\"].protection.password = None"
   ]
  },
  {
   "cell_type": "markdown",
   "metadata": {},
   "source": [
    "##### Cambiar la hoja activa"
   ]
  },
  {
   "cell_type": "code",
   "execution_count": 153,
   "metadata": {},
   "outputs": [],
   "source": [
    "Book.active = Book[\"Primera\"]"
   ]
  },
  {
   "cell_type": "markdown",
   "metadata": {},
   "source": [
    "##### Eliminar una hoja"
   ]
  },
  {
   "cell_type": "code",
   "execution_count": null,
   "metadata": {},
   "outputs": [],
   "source": [
    "\n",
    "Book.remove(First_Sheet)"
   ]
  },
  {
   "cell_type": "markdown",
   "metadata": {},
   "source": [
    "### __Filas y columnas__"
   ]
  },
  {
   "cell_type": "markdown",
   "metadata": {},
   "source": [
    "##### Cambiar ancho o alto de filas y columnas"
   ]
  },
  {
   "cell_type": "code",
   "execution_count": 139,
   "metadata": {},
   "outputs": [],
   "source": [
    "# Filas (cambia el alto).\n",
    "Sheet.row_dimensions[2].height = 20 "
   ]
  },
  {
   "cell_type": "code",
   "execution_count": null,
   "metadata": {},
   "outputs": [],
   "source": [
    "# Columnas (cambia el ancho).\n",
    "Sheet.column_dimensions[\"B\"].width = 20 "
   ]
  },
  {
   "cell_type": "markdown",
   "metadata": {},
   "source": [
    "##### Eliminar filas o columnas"
   ]
  },
  {
   "cell_type": "code",
   "execution_count": 145,
   "metadata": {},
   "outputs": [],
   "source": [
    "Sheet.delete_rows(3)  # Elimina la fila 3\n",
    "Sheet.delete_cols(2)  # Elimina la columna B"
   ]
  },
  {
   "cell_type": "markdown",
   "metadata": {},
   "source": [
    "##### Insertar filas o columnas"
   ]
  },
  {
   "cell_type": "code",
   "execution_count": 99,
   "metadata": {},
   "outputs": [],
   "source": [
    "# Insertar una fila en la posición 2.\n",
    "Sheet.insert_rows(2)"
   ]
  },
  {
   "cell_type": "code",
   "execution_count": null,
   "metadata": {},
   "outputs": [],
   "source": [
    "# Insertar una columna en la posición 3.\n",
    "Sheet.insert_cols(3)"
   ]
  },
  {
   "cell_type": "markdown",
   "metadata": {},
   "source": [
    "##### Ocultar filas o columnas"
   ]
  },
  {
   "cell_type": "code",
   "execution_count": 146,
   "metadata": {},
   "outputs": [],
   "source": [
    "Sheet.column_dimensions['D'].hidden = True"
   ]
  },
  {
   "cell_type": "markdown",
   "metadata": {},
   "source": [
    "##### Inmovilizar"
   ]
  },
  {
   "cell_type": "markdown",
   "metadata": {},
   "source": [
    "La función __freeze_panes__ se utiliza para definir una celda de referencia a partir de la cual todas las filas anteriores y todas las columnas a la izquierda de esa celda se congelan.\n",
    "\n",
    "- sheet.freeze_panes = 'B2' congela la fila 1 y la columna A.\n",
    "- Si se configura como None, no se congela ninguna fila o columna."
   ]
  },
  {
   "cell_type": "code",
   "execution_count": null,
   "metadata": {},
   "outputs": [],
   "source": [
    "# Congelar la primera fila.\n",
    "Sheet.freeze_panes = 'A2'  \n",
    "\n",
    "# Todo por encima de A2 se congela."
   ]
  },
  {
   "cell_type": "code",
   "execution_count": null,
   "metadata": {},
   "outputs": [],
   "source": [
    "# Congelar la primera columna.\n",
    "Sheet.freeze_panes = 'B1'  \n",
    "\n",
    "# Todo a la izquierda de B1 se congela."
   ]
  },
  {
   "cell_type": "markdown",
   "metadata": {},
   "source": [
    "##### Ajustar ancho de columna por longitud del contenido"
   ]
  },
  {
   "cell_type": "code",
   "execution_count": 147,
   "metadata": {},
   "outputs": [],
   "source": [
    "# Ajustar el ancho de la columna A según el contenido.\n",
    "Maxima_Longitud = 0\n",
    "Columna = Sheet['A']\n",
    "\n",
    "# Itera por cada celda en la columna A.\n",
    "for Celda in Columna:\n",
    "    try:\n",
    "        # Chequea que el contenido sea más largo que el anterior.\n",
    "        if len(str(Celda.value)) > Maxima_Longitud:\n",
    "            Maxima_Longitud = len(Celda.value)\n",
    "    except:\n",
    "        pass\n",
    "\n",
    "# Aplica el ancho a partir del elemento de la columna de máxima longitud.\n",
    "Sheet.column_dimensions['A'].width = Maxima_Longitud"
   ]
  },
  {
   "cell_type": "markdown",
   "metadata": {},
   "source": [
    "### __Celdas__"
   ]
  },
  {
   "cell_type": "markdown",
   "metadata": {},
   "source": [
    "##### Leer el valor de una celda específica"
   ]
  },
  {
   "cell_type": "code",
   "execution_count": 100,
   "metadata": {},
   "outputs": [],
   "source": [
    "Valor = Sheet[\"A1\"].value"
   ]
  },
  {
   "cell_type": "markdown",
   "metadata": {},
   "source": [
    "##### Escribir en celda"
   ]
  },
  {
   "cell_type": "code",
   "execution_count": 101,
   "metadata": {},
   "outputs": [],
   "source": [
    "Sheet[\"A1\"] = \"A1\""
   ]
  },
  {
   "cell_type": "markdown",
   "metadata": {},
   "source": [
    "##### Fusionar celdas"
   ]
  },
  {
   "cell_type": "code",
   "execution_count": 131,
   "metadata": {},
   "outputs": [],
   "source": [
    "# Fusiona las celdas desde A1 hasta C1, y toma el valor de la primera a la izquierda.\n",
    "Sheet.merge_cells('A1:C1')"
   ]
  },
  {
   "cell_type": "markdown",
   "metadata": {},
   "source": [
    "##### Desfusionar celdas"
   ]
  },
  {
   "cell_type": "code",
   "execution_count": 132,
   "metadata": {},
   "outputs": [],
   "source": [
    "Sheet.unmerge_cells('A1:C1')"
   ]
  },
  {
   "cell_type": "markdown",
   "metadata": {},
   "source": [
    "##### Insertar fórmulas"
   ]
  },
  {
   "cell_type": "code",
   "execution_count": 137,
   "metadata": {},
   "outputs": [],
   "source": [
    "# Insertar una fórmula.\n",
    "Sheet[\"G1\"] = \"=SUM(X1:X10)\""
   ]
  },
  {
   "cell_type": "markdown",
   "metadata": {},
   "source": [
    "##### Aplicar protección"
   ]
  },
  {
   "cell_type": "code",
   "execution_count": 138,
   "metadata": {},
   "outputs": [],
   "source": [
    "Sheet[\"H1\"].protection = True"
   ]
  },
  {
   "cell_type": "markdown",
   "metadata": {},
   "source": [
    "##### Insertar un comentario"
   ]
  },
  {
   "cell_type": "code",
   "execution_count": 142,
   "metadata": {},
   "outputs": [],
   "source": [
    "from openpyxl.comments import Comment\n",
    "\n",
    "# Crear comentario.\n",
    "Comentario = Comment(\"Este es un comentario\", \"Autor\")\n",
    "\n",
    "# Aplicar comentario a I1.\n",
    "Sheet[\"I1\"].comment = Comentario"
   ]
  },
  {
   "cell_type": "markdown",
   "metadata": {},
   "source": [
    "##### Restringir valores que se pueden escribir en una celda"
   ]
  },
  {
   "cell_type": "markdown",
   "metadata": {},
   "source": [
    "Las validaciones de datos son reglas que restringen lo que se puede ingresar en una celda. Se crean y se aplican a las celdas. "
   ]
  },
  {
   "cell_type": "markdown",
   "metadata": {},
   "source": [
    "__Parámetros.__\n",
    "\n",
    "- _type_. Especifica el tipo de datos que se permiten. \"whole\" significa que solo se aceptan números enteros. \n",
    "- _operator_. Define el operador que se usará para la validación. \"between\" establece que los valores permitidos deben estar entre dos límites.\n",
    "- _formula1 y formula2_. Especifican los límites inferior (formula1) y superior (formula2). En este caso, se permiten solo números enteros entre 1 y 10."
   ]
  },
  {
   "cell_type": "code",
   "execution_count": 143,
   "metadata": {},
   "outputs": [],
   "source": [
    "from openpyxl.worksheet.datavalidation import DataValidation\n",
    "\n",
    "# Crear una validación para aceptar solo números enteros entre 1 y 10.\n",
    "Restriccion = DataValidation(type=\"whole\", operator=\"between\", formula1=1, formula2=10)\n",
    "\n",
    "# Añade regla de validación a la hoja.\n",
    "Sheet.add_data_validation(Restriccion)\n",
    "\n",
    "# Se aplica la validación a la celda J1.\n",
    "Restriccion.add(Sheet[\"J1\"])"
   ]
  },
  {
   "cell_type": "markdown",
   "metadata": {},
   "source": [
    "##### Eliminar contenido de una celda"
   ]
  },
  {
   "cell_type": "code",
   "execution_count": 144,
   "metadata": {},
   "outputs": [],
   "source": [
    "Sheet[\"K1\"].value = None"
   ]
  },
  {
   "cell_type": "markdown",
   "metadata": {},
   "source": [
    "##### Mover un rango de celdas"
   ]
  },
  {
   "cell_type": "code",
   "execution_count": null,
   "metadata": {},
   "outputs": [],
   "source": [
    "# Mover las celdas desde A1:C3 hacia la derecha dos columnas y abajo una fila.\n",
    "Sheet.move_range(\"A1:C3\", rows=1, cols=2)"
   ]
  },
  {
   "cell_type": "markdown",
   "metadata": {},
   "source": [
    "##### Obtener la coordenada de una celda"
   ]
  },
  {
   "cell_type": "code",
   "execution_count": 186,
   "metadata": {},
   "outputs": [
    {
     "data": {
      "text/plain": [
       "'A1'"
      ]
     },
     "execution_count": 186,
     "metadata": {},
     "output_type": "execute_result"
    }
   ],
   "source": [
    "Celda.coordinate"
   ]
  },
  {
   "cell_type": "markdown",
   "metadata": {},
   "source": [
    "### __Iteraciones__"
   ]
  },
  {
   "cell_type": "markdown",
   "metadata": {},
   "source": [
    "##### Iterar a lo largo de filas"
   ]
  },
  {
   "cell_type": "markdown",
   "metadata": {},
   "source": [
    "__iter_rows__ recorre las filas. Es decir, recorre la fila 1 de A a Z, luego la fila 2, y así. Además, permite seleccionar el rango de columnas y filas por el que se va a iterar fila por fila."
   ]
  },
  {
   "cell_type": "markdown",
   "metadata": {},
   "source": [
    "__Parámetros.__\n",
    "\n",
    "- _min_ _ _row_. La fila donde comienza a iterar. \n",
    "- _max_ _ _row_. La fila donde termina de iterar. No se incluye.\n",
    "- _min_ _ _col_. La columna donde comienza a iterar. \n",
    "- _max_ _ _col_. La columna donde termina de iterar. No se incluye."
   ]
  },
  {
   "cell_type": "code",
   "execution_count": 119,
   "metadata": {},
   "outputs": [
    {
     "name": "stdout",
     "output_type": "stream",
     "text": [
      "A1\n"
     ]
    }
   ],
   "source": [
    "for Row in Sheet.iter_rows(min_row=0, max_row=1, min_col=0, max_col=1):\n",
    "    for Cell in Row:\n",
    "        print(Cell.value)\n",
    "\n",
    "# Si querés iterar por todas, ponés ().\n",
    "# Itera desde la fila 0 a la 0, y desde la columna 0 a la 0. Por ende, solo la celda A1."
   ]
  },
  {
   "cell_type": "markdown",
   "metadata": {},
   "source": [
    "##### Iterar a lo largo de columnas"
   ]
  },
  {
   "cell_type": "markdown",
   "metadata": {},
   "source": [
    "__iter_cols__ funciona de manera similar a iter_rows, pero permite iterar a lo largo de cada columna. Es decir, recorre A de arriba-abajo, luego B, etc."
   ]
  },
  {
   "cell_type": "code",
   "execution_count": 157,
   "metadata": {},
   "outputs": [
    {
     "name": "stdout",
     "output_type": "stream",
     "text": [
      "A1\n",
      "A2\n",
      "None\n",
      "C2\n"
     ]
    }
   ],
   "source": [
    "for Columna in Sheet.iter_cols(min_row=0, max_row=2, min_col=0, max_col=2):\n",
    "    for Celda in Columna:\n",
    "        print(Celda.value)\n",
    "\n",
    "# Filas: 0 a la 1.\n",
    "# Columnas: 0 a la 1.\n",
    "# Rango: A1:B2"
   ]
  },
  {
   "cell_type": "markdown",
   "metadata": {},
   "source": [
    "##### Obtener valores de las celdas iterando"
   ]
  },
  {
   "cell_type": "markdown",
   "metadata": {},
   "source": [
    "Cuando necesitas solo los valores, puedes usar values_only=True para obtener los valores de las celdas directamente, lo cual es más rápido."
   ]
  },
  {
   "cell_type": "code",
   "execution_count": 162,
   "metadata": {},
   "outputs": [
    {
     "name": "stdout",
     "output_type": "stream",
     "text": [
      "A1\n",
      "A2\n"
     ]
    }
   ],
   "source": [
    "# Iterar sobre filas obteniendo solo los valores\n",
    "for Row in Sheet.iter_rows(min_row=1, max_row=2, min_col=1, max_col=1, values_only=True):\n",
    "    for Cell in Row:\n",
    "        print(Cell)  "
   ]
  },
  {
   "cell_type": "markdown",
   "metadata": {},
   "source": [
    "##### Iterar sobre un rango específico"
   ]
  },
  {
   "cell_type": "code",
   "execution_count": 164,
   "metadata": {},
   "outputs": [
    {
     "name": "stdout",
     "output_type": "stream",
     "text": [
      "A1\n",
      "None\n",
      "A2\n",
      "C2\n"
     ]
    }
   ],
   "source": [
    "for Row in Sheet[\"A1:B2\"]:\n",
    "    for Cell in Row:\n",
    "        print(Cell.value)"
   ]
  },
  {
   "cell_type": "markdown",
   "metadata": {},
   "source": [
    "##### Iterar sobre las hojas"
   ]
  },
  {
   "cell_type": "code",
   "execution_count": 187,
   "metadata": {},
   "outputs": [
    {
     "name": "stdout",
     "output_type": "stream",
     "text": [
      "Trabajando en: Mi Hoja\n",
      "Trabajando en: Sheet\n"
     ]
    }
   ],
   "source": [
    "for Sheet in Book:\n",
    "    print(f\"Trabajando en: {Sheet.title}\")"
   ]
  },
  {
   "cell_type": "markdown",
   "metadata": {},
   "source": [
    "### __Estilos__"
   ]
  },
  {
   "cell_type": "markdown",
   "metadata": {},
   "source": [
    "##### Aplicar color de fondo a una celda"
   ]
  },
  {
   "cell_type": "markdown",
   "metadata": {},
   "source": [
    "__fill__ es una propiedad que se utiliza para aplicar un estilo de relleno (color de fondo) a una celda."
   ]
  },
  {
   "cell_type": "markdown",
   "metadata": {},
   "source": [
    "__Parámetros.__\n",
    "\n",
    "- _start_ _ _color_. Color de relleno.\n",
    "- _end_ _ _color_. Color de relleno. Se usa si hay un gradiente. Con fill_type = 'solid' se obvia.\n",
    "- _fill_ _ _type_. Tipo de relleno. 'Solid' indica que no hay gradientes ni patrones."
   ]
  },
  {
   "cell_type": "code",
   "execution_count": 123,
   "metadata": {},
   "outputs": [],
   "source": [
    "Sheet[\"A1\"].fill = ops.PatternFill(start_color=\"FFFF00\", fill_type=\"solid\")"
   ]
  },
  {
   "cell_type": "markdown",
   "metadata": {},
   "source": [
    "##### Aplicar estilo de fuente"
   ]
  },
  {
   "cell_type": "code",
   "execution_count": 190,
   "metadata": {},
   "outputs": [],
   "source": [
    "Sheet[\"A1\"].font = ops.Font(name=\"Arial\", size=14, bold=True, color='FF0000')\n",
    "\n",
    "# bold = 'True'. Negrita. (Si fuera cursiva es 'italic')\n",
    "# color.\n",
    "# name = 'Arial'. Tipo de fuente.\n",
    "# size = 14. Tamaño de fuente."
   ]
  },
  {
   "cell_type": "markdown",
   "metadata": {},
   "source": [
    "##### Alinear texto"
   ]
  },
  {
   "cell_type": "code",
   "execution_count": 133,
   "metadata": {},
   "outputs": [],
   "source": [
    "# Alineación horizontal y vertical.\n",
    "\n",
    "Sheet[\"E1\"].alignment = ops.Alignment(horizontal=\"center\", vertical=\"bottom\")"
   ]
  },
  {
   "cell_type": "markdown",
   "metadata": {},
   "source": [
    "##### Aplicar bordes finos"
   ]
  },
  {
   "cell_type": "code",
   "execution_count": 136,
   "metadata": {},
   "outputs": [],
   "source": [
    "Thin_Border = ops.Border(left=ops.Side(style=\"thin\"), \n",
    "                         right=ops.Side(style=\"thin\"), \n",
    "                         top=ops.Side(style=\"thin\"), \n",
    "                         bottom=ops.Side(style=\"thin\"))\n",
    "\n",
    "# Aplicar el borde a la celda F1.\n",
    "Sheet[\"F1\"].border = Thin_Border"
   ]
  },
  {
   "cell_type": "markdown",
   "metadata": {},
   "source": [
    "##### Aplicar formatos numéricos."
   ]
  },
  {
   "cell_type": "code",
   "execution_count": null,
   "metadata": {},
   "outputs": [],
   "source": [
    "# Formato de moneda.\n",
    "Sheet[\"A5\"] = 1234.56\n",
    "Sheet[\"A5\"].number_format = \"$#,##0.00\""
   ]
  },
  {
   "cell_type": "code",
   "execution_count": null,
   "metadata": {},
   "outputs": [],
   "source": [
    "# Formato de fecha.\n",
    "Sheet[\"B5\"] = \"2024-09-10\"\n",
    "Sheet[\"B5\"].number_format = \"DD/MM/YYYY\""
   ]
  },
  {
   "cell_type": "code",
   "execution_count": null,
   "metadata": {},
   "outputs": [],
   "source": [
    "# Formato de porcentaje.\n",
    "Sheet[\"C5\"] = 0.25\n",
    "Sheet[\"C5\"].number_format = \"0.00%\""
   ]
  },
  {
   "cell_type": "markdown",
   "metadata": {},
   "source": [
    "##### Crear un estilo personalizado"
   ]
  },
  {
   "cell_type": "code",
   "execution_count": 192,
   "metadata": {},
   "outputs": [],
   "source": [
    "from openpyxl.styles import NamedStyle\n",
    "\n",
    "Estilo = NamedStyle(name=\"Estilo\")"
   ]
  },
  {
   "cell_type": "code",
   "execution_count": 193,
   "metadata": {},
   "outputs": [],
   "source": [
    "Estilo.font = ops.Font(bold=True, color=\"0000FF\")\n",
    "Estilo.fill = ops.PatternFill(start_color=\"D3D3D3\", end_color=\"D3D3D3\", fill_type=\"solid\")\n",
    "Estilo.border = ops.Border(left=ops.Side(style=\"thin\"), right=ops.Side(style=\"thin\"))\n"
   ]
  },
  {
   "cell_type": "code",
   "execution_count": 194,
   "metadata": {},
   "outputs": [],
   "source": [
    "# Aplicar el estilo a celda.\n",
    "Sheet[\"A6\"].style = Estilo"
   ]
  }
 ],
 "metadata": {
  "kernelspec": {
   "display_name": "Python 3",
   "language": "python",
   "name": "python3"
  },
  "language_info": {
   "codemirror_mode": {
    "name": "ipython",
    "version": 3
   },
   "file_extension": ".py",
   "mimetype": "text/x-python",
   "name": "python",
   "nbconvert_exporter": "python",
   "pygments_lexer": "ipython3",
   "version": "3.11.9"
  }
 },
 "nbformat": 4,
 "nbformat_minor": 2
}

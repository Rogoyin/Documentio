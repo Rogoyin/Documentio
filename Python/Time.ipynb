{
 "cells": [
  {
   "cell_type": "markdown",
   "metadata": {},
   "source": [
    "### __Introducción__"
   ]
  },
  {
   "cell_type": "markdown",
   "metadata": {},
   "source": [
    "El módulo time de Python proporciona diversas funciones relacionadas con la manipulación de tiempos y fechas."
   ]
  },
  {
   "cell_type": "markdown",
   "metadata": {},
   "source": [
    "Es útil para medir tiempos de ejecución, hacer pausas en la ejecución de un programa, y trabajar con marcas de tiempo de bajo nivel."
   ]
  },
  {
   "cell_type": "code",
   "execution_count": 2,
   "metadata": {},
   "outputs": [],
   "source": [
    "import time"
   ]
  },
  {
   "cell_type": "markdown",
   "metadata": {},
   "source": [
    "##### Tupla de struct_time"
   ]
  },
  {
   "cell_type": "markdown",
   "metadata": {},
   "source": [
    "Es una tupla de 9 elementos que representa una fecha/hora en Python:\n",
    "- Año (tm_year)\n",
    "- Mes (tm_mon)\n",
    "- Día (tm_mday)\n",
    "- Hora (tm_hour)\n",
    "- Minuto (tm_min)\n",
    "- Segundo (tm_sec)\n",
    "- Día de la semana (0-6, donde 0 es lunes)\n",
    "- Día del año (1-366)\n",
    "- Hora de verano (tm_isdst, 1 si está en horario de verano, 0 si no, y -1 si no se sabe)"
   ]
  },
  {
   "cell_type": "markdown",
   "metadata": {},
   "source": [
    "##### Medir tiempo en segundos de una operación"
   ]
  },
  {
   "cell_type": "markdown",
   "metadata": {},
   "source": [
    "__time.time()__ devuelve el tiempo actual en segundos desde el \"epoch\" (1 de enero de 1970)."
   ]
  },
  {
   "cell_type": "code",
   "execution_count": 5,
   "metadata": {},
   "outputs": [],
   "source": [
    "Start = time.time()\n",
    "# Operación\n",
    "End = time.time()"
   ]
  },
  {
   "cell_type": "code",
   "execution_count": null,
   "metadata": {},
   "outputs": [],
   "source": [
    "Operation_Time = End - Start\n",
    "\n",
    "# En segundos."
   ]
  },
  {
   "cell_type": "markdown",
   "metadata": {},
   "source": [
    "##### Medir tiempos muy precisos"
   ]
  },
  {
   "cell_type": "code",
   "execution_count": null,
   "metadata": {},
   "outputs": [],
   "source": [
    "Start = time.perf_counter()\n",
    "# Alguna operación costosa.\n",
    "End = time.perf_counter()"
   ]
  },
  {
   "cell_type": "markdown",
   "metadata": {},
   "source": [
    "##### Suspender ejecución de un programa"
   ]
  },
  {
   "cell_type": "code",
   "execution_count": null,
   "metadata": {},
   "outputs": [],
   "source": [
    "time.sleep(3)\n",
    "\n",
    "# En segundos."
   ]
  },
  {
   "cell_type": "markdown",
   "metadata": {},
   "source": [
    "##### Obtener hora y fecha actual"
   ]
  },
  {
   "cell_type": "code",
   "execution_count": 8,
   "metadata": {},
   "outputs": [],
   "source": [
    "Current_Time = time.localtime()\n",
    "\n",
    "# Objeto struct_time, con hora y fecha actual de la zona local."
   ]
  },
  {
   "cell_type": "markdown",
   "metadata": {},
   "source": [
    "##### Convertir objeto struct_time a string formateado"
   ]
  },
  {
   "cell_type": "code",
   "execution_count": null,
   "metadata": {},
   "outputs": [],
   "source": [
    "Formatted_Time = time.strftime(\"%Y-%m-%d %H:%M:%S\", time.localtime())\n",
    "\n",
    "# Lo formatea a:\n",
    "# %Y: Año completo (2024).\n",
    "# %m: Mes (01 a 12).\n",
    "# %d: Día del mes (01 a 31)\n",
    "# %H: Hora en formato 24 horas (00 a 23)\n",
    "# %M: Minuto (00 a 59)\n",
    "# %S: Segundo (00 a 59)"
   ]
  },
  {
   "cell_type": "markdown",
   "metadata": {},
   "source": [
    "##### Convertir string a objeto struct_time"
   ]
  },
  {
   "cell_type": "code",
   "execution_count": null,
   "metadata": {},
   "outputs": [],
   "source": [
    "String = \"2024-09-30 14:35:00\"\n",
    "Struct_Time = time.strptime(String, \"%Y-%m-%d %H:%M:%S\")\n",
    "\n",
    "# Se especifica el formato en el que está el string."
   ]
  },
  {
   "cell_type": "markdown",
   "metadata": {},
   "source": [
    "##### Convertir objeto struct_time a segundos desde \"epoch\""
   ]
  },
  {
   "cell_type": "code",
   "execution_count": null,
   "metadata": {},
   "outputs": [],
   "source": [
    "Seconds_Since_Epoch = time.mktime(Struct_Time)"
   ]
  },
  {
   "cell_type": "markdown",
   "metadata": {},
   "source": [
    "##### Convierte segundos desde \"epoch\" en cadena legible"
   ]
  },
  {
   "cell_type": "code",
   "execution_count": 10,
   "metadata": {},
   "outputs": [],
   "source": [
    "time.ctime()"
   ]
  }
 ],
 "metadata": {
  "kernelspec": {
   "display_name": "Python 3",
   "language": "python",
   "name": "python3"
  },
  "language_info": {
   "codemirror_mode": {
    "name": "ipython",
    "version": 3
   },
   "file_extension": ".py",
   "mimetype": "text/x-python",
   "name": "python",
   "nbconvert_exporter": "python",
   "pygments_lexer": "ipython3",
   "version": "3.11.9"
  }
 },
 "nbformat": 4,
 "nbformat_minor": 2
}

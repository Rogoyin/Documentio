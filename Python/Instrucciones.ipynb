{
 "cells": [
  {
   "cell_type": "markdown",
   "metadata": {},
   "source": [
    "### __try, except, finally, else__"
   ]
  },
  {
   "cell_type": "markdown",
   "metadata": {},
   "source": [
    "Estas instrucciones son parte del manejo de excepciones en Python. Se utilizan para controlar el flujo del programa cuando se produce un error."
   ]
  },
  {
   "cell_type": "markdown",
   "metadata": {},
   "source": [
    "- _try_. Bloque donde se coloca el código que puede generar una excepción (un error).\n",
    "- _except_. Bloque que maneja la excepción si ocurre.\n",
    "- _finally_. Código que se ejecuta siempre, ocurra o no una excepción.\n",
    "- _else_. Código que se ejecuta si no ocurre ninguna excepción en el bloque try."
   ]
  },
  {
   "cell_type": "code",
   "execution_count": null,
   "metadata": {},
   "outputs": [],
   "source": [
    "# Ejemplo.\n",
    "\n",
    "try:\n",
    "    x = 1 / 0\n",
    "# La línea de código está dentro del try porque quizá puede dar error.\n",
    "\n",
    "except ZeroDivisionError:\n",
    "    print(\"No se puede dividir por cero.\")\n",
    "# Si se da el error especificado (ZeroDivisionError), corre el código dentro del except.\n",
    "\n",
    "else:\n",
    "    print(\"La división fue exitosa.\")\n",
    "# Si en el bloque try no hay error, se ejecuta esto.\n",
    "\n",
    "finally:\n",
    "    print(\"Esto siempre se ejecuta.\")\n",
    "# El bloque dentro del finally se ejecuta sí o sí.\n",
    "\n",
    "# Es importante el orden. "
   ]
  },
  {
   "cell_type": "markdown",
   "metadata": {},
   "source": [
    "### __assert__"
   ]
  },
  {
   "cell_type": "markdown",
   "metadata": {},
   "source": [
    "__assert__ es una instrucción que prueba una condición, y si la condición es falsa, lanza una excepción (error) AssertionError. Se usa para pruebas y depuración."
   ]
  },
  {
   "cell_type": "markdown",
   "metadata": {},
   "source": [
    "__Sintaxis básica:__\n",
    "\n",
    "assert _condición, mensaje_opcional_"
   ]
  },
  {
   "cell_type": "code",
   "execution_count": 24,
   "metadata": {},
   "outputs": [],
   "source": [
    "# Ejemplo.\n",
    "\n",
    "x = 10\n",
    "assert x > 5, \"x no es mayor que 5\"\n",
    "\n",
    "# No imprime nada porque es True."
   ]
  },
  {
   "cell_type": "markdown",
   "metadata": {},
   "source": [
    "### __with__"
   ]
  },
  {
   "cell_type": "markdown",
   "metadata": {},
   "source": [
    "__with__ es una instrucción que gestiona el contexto de ejecución de recursos, como archivos, conexiones a bases de datos o bloqueos de hilos. Se asegura de que los recursos se liberen correctamente."
   ]
  },
  {
   "cell_type": "markdown",
   "metadata": {},
   "source": [
    "__Sintaxis básica:__\n",
    "\n",
    "with _Expresión_ as _Variable_:\n",
    "   \n",
    "    # Bloque de código"
   ]
  },
  {
   "cell_type": "code",
   "execution_count": null,
   "metadata": {},
   "outputs": [],
   "source": [
    "# Ejemplo.\n",
    "# with open('Archivo.txt', 'r') as File:\n",
    "#     Contenido = File.read()"
   ]
  },
  {
   "cell_type": "markdown",
   "metadata": {},
   "source": [
    "### __continue__"
   ]
  },
  {
   "cell_type": "markdown",
   "metadata": {},
   "source": [
    "__continue__ se usa dentro de bucles para omitir el resto del código en la iteración actual y pasar a la siguiente iteración."
   ]
  },
  {
   "cell_type": "markdown",
   "metadata": {},
   "source": [
    "Sirve para saltar una iteración en un bucle cuando se cumple una condición. Es decir, la condición hace que salte determinado paso de la iteración y no haga nada ahí."
   ]
  },
  {
   "cell_type": "code",
   "execution_count": null,
   "metadata": {},
   "outputs": [],
   "source": [
    "# Ejemplo.\n",
    "\n",
    "Lista = []\n",
    "\n",
    "for i in range(5):\n",
    "    if i == 2:\n",
    "        continue\n",
    "    Lista.append(i) \n",
    "\n",
    "# Lista = [0, 1, 3, 4, 5]"
   ]
  },
  {
   "cell_type": "markdown",
   "metadata": {},
   "source": [
    "### __raise__"
   ]
  },
  {
   "cell_type": "markdown",
   "metadata": {},
   "source": [
    "Se utiliza para lanzar (o \"elevar\") una excepción de manera manual."
   ]
  },
  {
   "cell_type": "markdown",
   "metadata": {},
   "source": [
    "Cuando Python encuentra una situación inesperada o errónea en el código, como dividir por cero, automáticamente lanza un mensaje en el error (excepción). Sin embargo, raise permite al programador describir esa excepción de manera explícita y personalizada cuando se cumplen ciertas condiciones definidas por el usuario."
   ]
  },
  {
   "cell_type": "markdown",
   "metadata": {},
   "source": [
    "__Sintaxis:__\n",
    "\n",
    "- raise __ExceptionType__(\"Mensaje de error opcional\")"
   ]
  },
  {
   "cell_type": "markdown",
   "metadata": {},
   "source": [
    "__¿Por qué usar raise?__\n",
    "\n",
    "- _Para detectar errores._ Si una función recibe un valor inesperado o no válido, raise permite manejarlo de manera controlada.\n",
    "- _Para detener la ejecución._ Cuando se lanza una excepción, el flujo normal del programa se detiene y se puede manejar con bloques try-except.\n",
    "- _Para comunicar errores específicos._ Se puede lanzar cualquier tipo de excepción que describa el error que ha ocurrido (por ejemplo, ValueError, TypeError, KeyError)."
   ]
  },
  {
   "cell_type": "markdown",
   "metadata": {},
   "source": [
    "En este ejemplo:\n",
    "\n",
    "- Si b es igual a cero, se lanza una excepción ValueError con un mensaje de error específico.\n",
    "- Si no se cumple la condición, se ejecuta la división normalmente."
   ]
  },
  {
   "cell_type": "code",
   "execution_count": null,
   "metadata": {},
   "outputs": [],
   "source": [
    "# Ejemplo.\n",
    "\n",
    "def Dividir(a, b):\n",
    "    if b == 0:\n",
    "        raise ValueError(\"No se puede dividir por cero.\")\n",
    "    return a / b"
   ]
  },
  {
   "cell_type": "markdown",
   "metadata": {},
   "source": [
    "### __global__"
   ]
  },
  {
   "cell_type": "markdown",
   "metadata": {},
   "source": [
    "__global__ se usa para declarar que una variable dentro de una función es global, lo que significa que no se creará una nueva variable local (o sea, que solo vale dentro de una función, localmente), sino que se utilizará la variable global con el mismo nombre."
   ]
  },
  {
   "cell_type": "markdown",
   "metadata": {},
   "source": [
    "Sirve para modificar variables globales dentro de funciones."
   ]
  },
  {
   "cell_type": "code",
   "execution_count": 25,
   "metadata": {},
   "outputs": [],
   "source": [
    "# Ejemplo.\n",
    "\n",
    "x = 5\n",
    "\n",
    "def Modificar_Variable_Global(a):\n",
    "    global x\n",
    "    x = a\n",
    "\n",
    "Modificar_Variable_Global(8)\n",
    "\n",
    "# Se actualiza el valor de x con la función\n",
    "# x = 8"
   ]
  },
  {
   "cell_type": "markdown",
   "metadata": {},
   "source": [
    "### __nonlocal__"
   ]
  },
  {
   "cell_type": "markdown",
   "metadata": {},
   "source": [
    "__nonlocal__ se usa para declarar que una variable dentro de una función anidada (dentro de otra función) no es local ni global, sino que pertenece al entorno de la función que la contiene."
   ]
  },
  {
   "cell_type": "markdown",
   "metadata": {},
   "source": [
    "Sirve para modificar variables globales dentro de funciones."
   ]
  },
  {
   "cell_type": "code",
   "execution_count": 26,
   "metadata": {},
   "outputs": [
    {
     "name": "stdout",
     "output_type": "stream",
     "text": [
      "20\n"
     ]
    }
   ],
   "source": [
    "def Exterior():\n",
    "    x = 10\n",
    "    def Interior():\n",
    "        nonlocal x\n",
    "        x = 20\n",
    "    Interior()\n",
    "    print(x)  \n",
    "\n",
    "Exterior()\n",
    "\n",
    "# Devuelve: 20.\n",
    "# El x = 20 no es local de esa función interna, ni tampoco global: pertenece a su función padre."
   ]
  }
 ],
 "metadata": {
  "kernelspec": {
   "display_name": "Python 3",
   "language": "python",
   "name": "python3"
  },
  "language_info": {
   "codemirror_mode": {
    "name": "ipython",
    "version": 3
   },
   "file_extension": ".py",
   "mimetype": "text/x-python",
   "name": "python",
   "nbconvert_exporter": "python",
   "pygments_lexer": "ipython3",
   "version": "3.11.9"
  }
 },
 "nbformat": 4,
 "nbformat_minor": 2
}
